{
  "nbformat": 4,
  "nbformat_minor": 0,
  "metadata": {
    "colab": {
      "name": "Stroke_Model.ipynb",
      "provenance": [],
      "toc_visible": true,
      "authorship_tag": "ABX9TyMwul6Rjdzc1n4s04DyVUvb",
      "include_colab_link": true
    },
    "kernelspec": {
      "name": "python3",
      "display_name": "Python 3"
    },
    "language_info": {
      "name": "python"
    }
  },
  "cells": [
    {
      "cell_type": "markdown",
      "metadata": {
        "id": "view-in-github",
        "colab_type": "text"
      },
      "source": [
        "<a href=\"https://colab.research.google.com/github/BugBear646/Stroke-Predictor/blob/main/Stroke_Model.ipynb\" target=\"_parent\"><img src=\"https://colab.research.google.com/assets/colab-badge.svg\" alt=\"Open In Colab\"/></a>"
      ]
    },
    {
      "cell_type": "code",
      "metadata": {
        "id": "I8Esytk4GU2a"
      },
      "source": [
        "import numpy as np\n",
        "import pandas as pd\n",
        "import matplotlib.pyplot as plt\n",
        "import seaborn as sns\n",
        "\n",
        "%matplotlib inline"
      ],
      "execution_count": null,
      "outputs": []
    },
    {
      "cell_type": "code",
      "metadata": {
        "colab": {
          "resources": {
            "http://localhost:8080/nbextensions/google.colab/files.js": {
              "data": "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",
              "ok": true,
              "headers": [
                [
                  "content-type",
                  "application/javascript"
                ]
              ],
              "status": 200,
              "status_text": ""
            }
          },
          "base_uri": "https://localhost:8080/",
          "height": 72
        },
        "id": "CfGHIRzTGZOm",
        "outputId": "e241a26a-16e2-46c9-f9ea-e7a90da30657"
      },
      "source": [
        "from google.colab import files\n",
        "uploaded = files.upload()\n",
        "# upload this file to drive then import. It will reduce the labor of importing the file each time."
      ],
      "execution_count": null,
      "outputs": [
        {
          "output_type": "display_data",
          "data": {
            "text/html": [
              "\n",
              "     <input type=\"file\" id=\"files-46265027-ab34-41f2-9d62-0b7e4364415f\" name=\"files[]\" multiple disabled\n",
              "        style=\"border:none\" />\n",
              "     <output id=\"result-46265027-ab34-41f2-9d62-0b7e4364415f\">\n",
              "      Upload widget is only available when the cell has been executed in the\n",
              "      current browser session. Please rerun this cell to enable.\n",
              "      </output>\n",
              "      <script src=\"/nbextensions/google.colab/files.js\"></script> "
            ],
            "text/plain": [
              "<IPython.core.display.HTML object>"
            ]
          },
          "metadata": {
            "tags": []
          }
        },
        {
          "output_type": "stream",
          "text": [
            "Saving healthcare-dataset-stroke-data.csv to healthcare-dataset-stroke-data (2).csv\n"
          ],
          "name": "stdout"
        }
      ]
    },
    {
      "cell_type": "code",
      "metadata": {
        "id": "5JjjMFVcGb0v"
      },
      "source": [
        "import io\n",
        "df = pd.read_csv(io.BytesIO(uploaded[\"healthcare-dataset-stroke-data.csv\"]))"
      ],
      "execution_count": null,
      "outputs": []
    },
    {
      "cell_type": "code",
      "metadata": {
        "colab": {
          "base_uri": "https://localhost:8080/"
        },
        "id": "9rADCJE4Gn69",
        "outputId": "ef7bf545-4ad3-4f36-b678-a9fe880fb113"
      },
      "source": [
        "df.info()"
      ],
      "execution_count": null,
      "outputs": [
        {
          "output_type": "stream",
          "text": [
            "<class 'pandas.core.frame.DataFrame'>\n",
            "RangeIndex: 5110 entries, 0 to 5109\n",
            "Data columns (total 12 columns):\n",
            " #   Column             Non-Null Count  Dtype  \n",
            "---  ------             --------------  -----  \n",
            " 0   id                 5110 non-null   int64  \n",
            " 1   gender             5110 non-null   object \n",
            " 2   age                5110 non-null   float64\n",
            " 3   hypertension       5110 non-null   int64  \n",
            " 4   heart_disease      5110 non-null   int64  \n",
            " 5   ever_married       5110 non-null   object \n",
            " 6   work_type          5110 non-null   object \n",
            " 7   Residence_type     5110 non-null   object \n",
            " 8   avg_glucose_level  5110 non-null   float64\n",
            " 9   bmi                4909 non-null   float64\n",
            " 10  smoking_status     5110 non-null   object \n",
            " 11  stroke             5110 non-null   int64  \n",
            "dtypes: float64(3), int64(4), object(5)\n",
            "memory usage: 479.2+ KB\n"
          ],
          "name": "stdout"
        }
      ]
    },
    {
      "cell_type": "code",
      "metadata": {
        "colab": {
          "base_uri": "https://localhost:8080/",
          "height": 204
        },
        "id": "jkQ-7P6SG6PN",
        "outputId": "53f59be6-9139-4982-b1e0-cbb4c42ef19c"
      },
      "source": [
        "df.head()"
      ],
      "execution_count": null,
      "outputs": [
        {
          "output_type": "execute_result",
          "data": {
            "text/html": [
              "<div>\n",
              "<style scoped>\n",
              "    .dataframe tbody tr th:only-of-type {\n",
              "        vertical-align: middle;\n",
              "    }\n",
              "\n",
              "    .dataframe tbody tr th {\n",
              "        vertical-align: top;\n",
              "    }\n",
              "\n",
              "    .dataframe thead th {\n",
              "        text-align: right;\n",
              "    }\n",
              "</style>\n",
              "<table border=\"1\" class=\"dataframe\">\n",
              "  <thead>\n",
              "    <tr style=\"text-align: right;\">\n",
              "      <th></th>\n",
              "      <th>id</th>\n",
              "      <th>gender</th>\n",
              "      <th>age</th>\n",
              "      <th>hypertension</th>\n",
              "      <th>heart_disease</th>\n",
              "      <th>ever_married</th>\n",
              "      <th>work_type</th>\n",
              "      <th>Residence_type</th>\n",
              "      <th>avg_glucose_level</th>\n",
              "      <th>bmi</th>\n",
              "      <th>smoking_status</th>\n",
              "      <th>stroke</th>\n",
              "    </tr>\n",
              "  </thead>\n",
              "  <tbody>\n",
              "    <tr>\n",
              "      <th>0</th>\n",
              "      <td>9046</td>\n",
              "      <td>Male</td>\n",
              "      <td>67.0</td>\n",
              "      <td>0</td>\n",
              "      <td>1</td>\n",
              "      <td>Yes</td>\n",
              "      <td>Private</td>\n",
              "      <td>Urban</td>\n",
              "      <td>228.69</td>\n",
              "      <td>36.6</td>\n",
              "      <td>formerly smoked</td>\n",
              "      <td>1</td>\n",
              "    </tr>\n",
              "    <tr>\n",
              "      <th>1</th>\n",
              "      <td>51676</td>\n",
              "      <td>Female</td>\n",
              "      <td>61.0</td>\n",
              "      <td>0</td>\n",
              "      <td>0</td>\n",
              "      <td>Yes</td>\n",
              "      <td>Self-employed</td>\n",
              "      <td>Rural</td>\n",
              "      <td>202.21</td>\n",
              "      <td>NaN</td>\n",
              "      <td>never smoked</td>\n",
              "      <td>1</td>\n",
              "    </tr>\n",
              "    <tr>\n",
              "      <th>2</th>\n",
              "      <td>31112</td>\n",
              "      <td>Male</td>\n",
              "      <td>80.0</td>\n",
              "      <td>0</td>\n",
              "      <td>1</td>\n",
              "      <td>Yes</td>\n",
              "      <td>Private</td>\n",
              "      <td>Rural</td>\n",
              "      <td>105.92</td>\n",
              "      <td>32.5</td>\n",
              "      <td>never smoked</td>\n",
              "      <td>1</td>\n",
              "    </tr>\n",
              "    <tr>\n",
              "      <th>3</th>\n",
              "      <td>60182</td>\n",
              "      <td>Female</td>\n",
              "      <td>49.0</td>\n",
              "      <td>0</td>\n",
              "      <td>0</td>\n",
              "      <td>Yes</td>\n",
              "      <td>Private</td>\n",
              "      <td>Urban</td>\n",
              "      <td>171.23</td>\n",
              "      <td>34.4</td>\n",
              "      <td>smokes</td>\n",
              "      <td>1</td>\n",
              "    </tr>\n",
              "    <tr>\n",
              "      <th>4</th>\n",
              "      <td>1665</td>\n",
              "      <td>Female</td>\n",
              "      <td>79.0</td>\n",
              "      <td>1</td>\n",
              "      <td>0</td>\n",
              "      <td>Yes</td>\n",
              "      <td>Self-employed</td>\n",
              "      <td>Rural</td>\n",
              "      <td>174.12</td>\n",
              "      <td>24.0</td>\n",
              "      <td>never smoked</td>\n",
              "      <td>1</td>\n",
              "    </tr>\n",
              "  </tbody>\n",
              "</table>\n",
              "</div>"
            ],
            "text/plain": [
              "      id  gender   age  ...   bmi   smoking_status stroke\n",
              "0   9046    Male  67.0  ...  36.6  formerly smoked      1\n",
              "1  51676  Female  61.0  ...   NaN     never smoked      1\n",
              "2  31112    Male  80.0  ...  32.5     never smoked      1\n",
              "3  60182  Female  49.0  ...  34.4           smokes      1\n",
              "4   1665  Female  79.0  ...  24.0     never smoked      1\n",
              "\n",
              "[5 rows x 12 columns]"
            ]
          },
          "metadata": {
            "tags": []
          },
          "execution_count": 5
        }
      ]
    },
    {
      "cell_type": "code",
      "metadata": {
        "id": "H-63g6oRHYn2"
      },
      "source": [
        "#Targeted to predict a person’s probability of getting = p\n",
        "# max(p) = predicted_probability of changing the company.\n",
        "\n",
        "#In this analysis, since we are taking the data as a whole, candidate_id is not required."
      ],
      "execution_count": null,
      "outputs": []
    },
    {
      "cell_type": "code",
      "metadata": {
        "id": "up2eXhqE2oYP"
      },
      "source": [
        "df.drop('id', axis = 1, inplace = True)"
      ],
      "execution_count": null,
      "outputs": []
    },
    {
      "cell_type": "code",
      "metadata": {
        "colab": {
          "base_uri": "https://localhost:8080/",
          "height": 204
        },
        "id": "sSyHD2jzHO1H",
        "outputId": "7bdf5eb4-6f32-4540-b9f6-322e2daeaa89"
      },
      "source": [
        "df.head()"
      ],
      "execution_count": null,
      "outputs": [
        {
          "output_type": "execute_result",
          "data": {
            "text/html": [
              "<div>\n",
              "<style scoped>\n",
              "    .dataframe tbody tr th:only-of-type {\n",
              "        vertical-align: middle;\n",
              "    }\n",
              "\n",
              "    .dataframe tbody tr th {\n",
              "        vertical-align: top;\n",
              "    }\n",
              "\n",
              "    .dataframe thead th {\n",
              "        text-align: right;\n",
              "    }\n",
              "</style>\n",
              "<table border=\"1\" class=\"dataframe\">\n",
              "  <thead>\n",
              "    <tr style=\"text-align: right;\">\n",
              "      <th></th>\n",
              "      <th>gender</th>\n",
              "      <th>age</th>\n",
              "      <th>hypertension</th>\n",
              "      <th>heart_disease</th>\n",
              "      <th>ever_married</th>\n",
              "      <th>work_type</th>\n",
              "      <th>Residence_type</th>\n",
              "      <th>avg_glucose_level</th>\n",
              "      <th>bmi</th>\n",
              "      <th>smoking_status</th>\n",
              "      <th>stroke</th>\n",
              "    </tr>\n",
              "  </thead>\n",
              "  <tbody>\n",
              "    <tr>\n",
              "      <th>0</th>\n",
              "      <td>Male</td>\n",
              "      <td>67.0</td>\n",
              "      <td>0</td>\n",
              "      <td>1</td>\n",
              "      <td>Yes</td>\n",
              "      <td>Private</td>\n",
              "      <td>Urban</td>\n",
              "      <td>228.69</td>\n",
              "      <td>36.6</td>\n",
              "      <td>formerly smoked</td>\n",
              "      <td>1</td>\n",
              "    </tr>\n",
              "    <tr>\n",
              "      <th>1</th>\n",
              "      <td>Female</td>\n",
              "      <td>61.0</td>\n",
              "      <td>0</td>\n",
              "      <td>0</td>\n",
              "      <td>Yes</td>\n",
              "      <td>Self-employed</td>\n",
              "      <td>Rural</td>\n",
              "      <td>202.21</td>\n",
              "      <td>NaN</td>\n",
              "      <td>never smoked</td>\n",
              "      <td>1</td>\n",
              "    </tr>\n",
              "    <tr>\n",
              "      <th>2</th>\n",
              "      <td>Male</td>\n",
              "      <td>80.0</td>\n",
              "      <td>0</td>\n",
              "      <td>1</td>\n",
              "      <td>Yes</td>\n",
              "      <td>Private</td>\n",
              "      <td>Rural</td>\n",
              "      <td>105.92</td>\n",
              "      <td>32.5</td>\n",
              "      <td>never smoked</td>\n",
              "      <td>1</td>\n",
              "    </tr>\n",
              "    <tr>\n",
              "      <th>3</th>\n",
              "      <td>Female</td>\n",
              "      <td>49.0</td>\n",
              "      <td>0</td>\n",
              "      <td>0</td>\n",
              "      <td>Yes</td>\n",
              "      <td>Private</td>\n",
              "      <td>Urban</td>\n",
              "      <td>171.23</td>\n",
              "      <td>34.4</td>\n",
              "      <td>smokes</td>\n",
              "      <td>1</td>\n",
              "    </tr>\n",
              "    <tr>\n",
              "      <th>4</th>\n",
              "      <td>Female</td>\n",
              "      <td>79.0</td>\n",
              "      <td>1</td>\n",
              "      <td>0</td>\n",
              "      <td>Yes</td>\n",
              "      <td>Self-employed</td>\n",
              "      <td>Rural</td>\n",
              "      <td>174.12</td>\n",
              "      <td>24.0</td>\n",
              "      <td>never smoked</td>\n",
              "      <td>1</td>\n",
              "    </tr>\n",
              "  </tbody>\n",
              "</table>\n",
              "</div>"
            ],
            "text/plain": [
              "   gender   age  hypertension  ...   bmi   smoking_status stroke\n",
              "0    Male  67.0             0  ...  36.6  formerly smoked      1\n",
              "1  Female  61.0             0  ...   NaN     never smoked      1\n",
              "2    Male  80.0             0  ...  32.5     never smoked      1\n",
              "3  Female  49.0             0  ...  34.4           smokes      1\n",
              "4  Female  79.0             1  ...  24.0     never smoked      1\n",
              "\n",
              "[5 rows x 11 columns]"
            ]
          },
          "metadata": {
            "tags": []
          },
          "execution_count": 8
        }
      ]
    },
    {
      "cell_type": "code",
      "metadata": {
        "colab": {
          "base_uri": "https://localhost:8080/"
        },
        "id": "6ssBKiQVIXAC",
        "outputId": "157bb5c9-7d82-46e2-a0b0-0a0f0783875d"
      },
      "source": [
        "df['gender'].unique()"
      ],
      "execution_count": null,
      "outputs": [
        {
          "output_type": "execute_result",
          "data": {
            "text/plain": [
              "array(['Male', 'Female', 'Other'], dtype=object)"
            ]
          },
          "metadata": {
            "tags": []
          },
          "execution_count": 9
        }
      ]
    },
    {
      "cell_type": "code",
      "metadata": {
        "id": "dHNctBeFIhtT"
      },
      "source": [
        "dict1 = {'Male' : 0, 'Female' : 1, 'Other' : 2}\n",
        "df['gender'] = [dict1[item] for item in df['gender']]"
      ],
      "execution_count": null,
      "outputs": []
    },
    {
      "cell_type": "code",
      "metadata": {
        "colab": {
          "base_uri": "https://localhost:8080/",
          "height": 204
        },
        "id": "TVb_pzWiI4-T",
        "outputId": "abdc4f4d-108e-40c4-ec31-01a4cee7f464"
      },
      "source": [
        "df.head()"
      ],
      "execution_count": null,
      "outputs": [
        {
          "output_type": "execute_result",
          "data": {
            "text/html": [
              "<div>\n",
              "<style scoped>\n",
              "    .dataframe tbody tr th:only-of-type {\n",
              "        vertical-align: middle;\n",
              "    }\n",
              "\n",
              "    .dataframe tbody tr th {\n",
              "        vertical-align: top;\n",
              "    }\n",
              "\n",
              "    .dataframe thead th {\n",
              "        text-align: right;\n",
              "    }\n",
              "</style>\n",
              "<table border=\"1\" class=\"dataframe\">\n",
              "  <thead>\n",
              "    <tr style=\"text-align: right;\">\n",
              "      <th></th>\n",
              "      <th>gender</th>\n",
              "      <th>age</th>\n",
              "      <th>hypertension</th>\n",
              "      <th>heart_disease</th>\n",
              "      <th>ever_married</th>\n",
              "      <th>work_type</th>\n",
              "      <th>Residence_type</th>\n",
              "      <th>avg_glucose_level</th>\n",
              "      <th>bmi</th>\n",
              "      <th>smoking_status</th>\n",
              "      <th>stroke</th>\n",
              "    </tr>\n",
              "  </thead>\n",
              "  <tbody>\n",
              "    <tr>\n",
              "      <th>0</th>\n",
              "      <td>0</td>\n",
              "      <td>67.0</td>\n",
              "      <td>0</td>\n",
              "      <td>1</td>\n",
              "      <td>Yes</td>\n",
              "      <td>Private</td>\n",
              "      <td>Urban</td>\n",
              "      <td>228.69</td>\n",
              "      <td>36.6</td>\n",
              "      <td>formerly smoked</td>\n",
              "      <td>1</td>\n",
              "    </tr>\n",
              "    <tr>\n",
              "      <th>1</th>\n",
              "      <td>1</td>\n",
              "      <td>61.0</td>\n",
              "      <td>0</td>\n",
              "      <td>0</td>\n",
              "      <td>Yes</td>\n",
              "      <td>Self-employed</td>\n",
              "      <td>Rural</td>\n",
              "      <td>202.21</td>\n",
              "      <td>NaN</td>\n",
              "      <td>never smoked</td>\n",
              "      <td>1</td>\n",
              "    </tr>\n",
              "    <tr>\n",
              "      <th>2</th>\n",
              "      <td>0</td>\n",
              "      <td>80.0</td>\n",
              "      <td>0</td>\n",
              "      <td>1</td>\n",
              "      <td>Yes</td>\n",
              "      <td>Private</td>\n",
              "      <td>Rural</td>\n",
              "      <td>105.92</td>\n",
              "      <td>32.5</td>\n",
              "      <td>never smoked</td>\n",
              "      <td>1</td>\n",
              "    </tr>\n",
              "    <tr>\n",
              "      <th>3</th>\n",
              "      <td>1</td>\n",
              "      <td>49.0</td>\n",
              "      <td>0</td>\n",
              "      <td>0</td>\n",
              "      <td>Yes</td>\n",
              "      <td>Private</td>\n",
              "      <td>Urban</td>\n",
              "      <td>171.23</td>\n",
              "      <td>34.4</td>\n",
              "      <td>smokes</td>\n",
              "      <td>1</td>\n",
              "    </tr>\n",
              "    <tr>\n",
              "      <th>4</th>\n",
              "      <td>1</td>\n",
              "      <td>79.0</td>\n",
              "      <td>1</td>\n",
              "      <td>0</td>\n",
              "      <td>Yes</td>\n",
              "      <td>Self-employed</td>\n",
              "      <td>Rural</td>\n",
              "      <td>174.12</td>\n",
              "      <td>24.0</td>\n",
              "      <td>never smoked</td>\n",
              "      <td>1</td>\n",
              "    </tr>\n",
              "  </tbody>\n",
              "</table>\n",
              "</div>"
            ],
            "text/plain": [
              "   gender   age  hypertension  ...   bmi   smoking_status stroke\n",
              "0       0  67.0             0  ...  36.6  formerly smoked      1\n",
              "1       1  61.0             0  ...   NaN     never smoked      1\n",
              "2       0  80.0             0  ...  32.5     never smoked      1\n",
              "3       1  49.0             0  ...  34.4           smokes      1\n",
              "4       1  79.0             1  ...  24.0     never smoked      1\n",
              "\n",
              "[5 rows x 11 columns]"
            ]
          },
          "metadata": {
            "tags": []
          },
          "execution_count": 11
        }
      ]
    },
    {
      "cell_type": "code",
      "metadata": {
        "colab": {
          "base_uri": "https://localhost:8080/"
        },
        "id": "BAcRD1lpJEt5",
        "outputId": "22986e84-a623-42bf-ab5f-d8ef0f45f34c"
      },
      "source": [
        "df['ever_married'].unique()"
      ],
      "execution_count": null,
      "outputs": [
        {
          "output_type": "execute_result",
          "data": {
            "text/plain": [
              "array(['Yes', 'No'], dtype=object)"
            ]
          },
          "metadata": {
            "tags": []
          },
          "execution_count": 12
        }
      ]
    },
    {
      "cell_type": "code",
      "metadata": {
        "id": "veGxv616JMuQ"
      },
      "source": [
        "dict2 = {'Yes' : 1, 'No' : 0}\n",
        "df['ever_married'] = [dict2[item] for item in df['ever_married']]"
      ],
      "execution_count": null,
      "outputs": []
    },
    {
      "cell_type": "code",
      "metadata": {
        "colab": {
          "base_uri": "https://localhost:8080/"
        },
        "id": "v-MDBxHLJeC5",
        "outputId": "4ee3ec07-63f8-4be7-9360-6d1ce46f2c3f"
      },
      "source": [
        "df['work_type'].unique()"
      ],
      "execution_count": null,
      "outputs": [
        {
          "output_type": "execute_result",
          "data": {
            "text/plain": [
              "array(['Private', 'Self-employed', 'Govt_job', 'children', 'Never_worked'],\n",
              "      dtype=object)"
            ]
          },
          "metadata": {
            "tags": []
          },
          "execution_count": 14
        }
      ]
    },
    {
      "cell_type": "code",
      "metadata": {
        "id": "FaXar-DnJft4"
      },
      "source": [
        "dict3 = {'Private' : 1, 'Self-employed': 2, 'Govt_job': 3, 'children':4, 'Never_worked':0}\n",
        "df['work_type'] = [dict3[item] for item in df['work_type']]"
      ],
      "execution_count": null,
      "outputs": []
    },
    {
      "cell_type": "code",
      "metadata": {
        "colab": {
          "base_uri": "https://localhost:8080/"
        },
        "id": "4s-qFJ-dJ9-t",
        "outputId": "ff2af54e-5092-4ef1-b245-6e1f3b388ea6"
      },
      "source": [
        "df['Residence_type'].unique()"
      ],
      "execution_count": null,
      "outputs": [
        {
          "output_type": "execute_result",
          "data": {
            "text/plain": [
              "array(['Urban', 'Rural'], dtype=object)"
            ]
          },
          "metadata": {
            "tags": []
          },
          "execution_count": 16
        }
      ]
    },
    {
      "cell_type": "code",
      "metadata": {
        "id": "9VyEj3g1KD91"
      },
      "source": [
        "dict4 = {'Urban' : 1, 'Rural' : 0}\n",
        "df['Residence_type'] = [dict4[item] for item in df['Residence_type']]"
      ],
      "execution_count": null,
      "outputs": []
    },
    {
      "cell_type": "code",
      "metadata": {
        "colab": {
          "base_uri": "https://localhost:8080/"
        },
        "id": "T06DLsETKaJL",
        "outputId": "f53a08c4-cd92-400c-8e32-ecbe4bc7fbc4"
      },
      "source": [
        "df['smoking_status'].unique()"
      ],
      "execution_count": null,
      "outputs": [
        {
          "output_type": "execute_result",
          "data": {
            "text/plain": [
              "array(['formerly smoked', 'never smoked', 'smokes', 'Unknown'],\n",
              "      dtype=object)"
            ]
          },
          "metadata": {
            "tags": []
          },
          "execution_count": 18
        }
      ]
    },
    {
      "cell_type": "code",
      "metadata": {
        "id": "x1Japj9MKhGa"
      },
      "source": [
        "dict5 = {'formerly smoked':1, 'never smoked':2, 'smokes':3, 'Unknown':0}\n",
        "df['smoking_status'] = [dict5[item] for item in df['smoking_status']]"
      ],
      "execution_count": null,
      "outputs": []
    },
    {
      "cell_type": "code",
      "metadata": {
        "colab": {
          "base_uri": "https://localhost:8080/"
        },
        "id": "JNQx2P8yK1Pr",
        "outputId": "ec72a321-1cde-4a1d-898b-f30e5f3892da"
      },
      "source": [
        "df['age'].unique()"
      ],
      "execution_count": null,
      "outputs": [
        {
          "output_type": "execute_result",
          "data": {
            "text/plain": [
              "array([6.70e+01, 6.10e+01, 8.00e+01, 4.90e+01, 7.90e+01, 8.10e+01,\n",
              "       7.40e+01, 6.90e+01, 5.90e+01, 7.80e+01, 5.40e+01, 5.00e+01,\n",
              "       6.40e+01, 7.50e+01, 6.00e+01, 5.70e+01, 7.10e+01, 5.20e+01,\n",
              "       8.20e+01, 6.50e+01, 5.80e+01, 4.20e+01, 4.80e+01, 7.20e+01,\n",
              "       6.30e+01, 7.60e+01, 3.90e+01, 7.70e+01, 7.30e+01, 5.60e+01,\n",
              "       4.50e+01, 7.00e+01, 6.60e+01, 5.10e+01, 4.30e+01, 6.80e+01,\n",
              "       4.70e+01, 5.30e+01, 3.80e+01, 5.50e+01, 1.32e+00, 4.60e+01,\n",
              "       3.20e+01, 1.40e+01, 3.00e+00, 8.00e+00, 3.70e+01, 4.00e+01,\n",
              "       3.50e+01, 2.00e+01, 4.40e+01, 2.50e+01, 2.70e+01, 2.30e+01,\n",
              "       1.70e+01, 1.30e+01, 4.00e+00, 1.60e+01, 2.20e+01, 3.00e+01,\n",
              "       2.90e+01, 1.10e+01, 2.10e+01, 1.80e+01, 3.30e+01, 2.40e+01,\n",
              "       3.40e+01, 3.60e+01, 6.40e-01, 4.10e+01, 8.80e-01, 5.00e+00,\n",
              "       2.60e+01, 3.10e+01, 7.00e+00, 1.20e+01, 6.20e+01, 2.00e+00,\n",
              "       9.00e+00, 1.50e+01, 2.80e+01, 1.00e+01, 1.80e+00, 3.20e-01,\n",
              "       1.08e+00, 1.90e+01, 6.00e+00, 1.16e+00, 1.00e+00, 1.40e+00,\n",
              "       1.72e+00, 2.40e-01, 1.64e+00, 1.56e+00, 7.20e-01, 1.88e+00,\n",
              "       1.24e+00, 8.00e-01, 4.00e-01, 8.00e-02, 1.48e+00, 5.60e-01,\n",
              "       4.80e-01, 1.60e-01])"
            ]
          },
          "metadata": {
            "tags": []
          },
          "execution_count": 20
        }
      ]
    },
    {
      "cell_type": "code",
      "metadata": {
        "colab": {
          "base_uri": "https://localhost:8080/"
        },
        "id": "Y6ic_ghIK-ML",
        "outputId": "d2543902-b889-4280-8b68-d7044c69ed9c"
      },
      "source": [
        "df['hypertension'].unique()"
      ],
      "execution_count": null,
      "outputs": [
        {
          "output_type": "execute_result",
          "data": {
            "text/plain": [
              "array([0, 1])"
            ]
          },
          "metadata": {
            "tags": []
          },
          "execution_count": 21
        }
      ]
    },
    {
      "cell_type": "code",
      "metadata": {
        "colab": {
          "base_uri": "https://localhost:8080/"
        },
        "id": "kFQW_wVJLQ25",
        "outputId": "aecd1624-f533-4c14-8d34-f2e593a6dcbe"
      },
      "source": [
        "df['heart_disease'].unique()"
      ],
      "execution_count": null,
      "outputs": [
        {
          "output_type": "execute_result",
          "data": {
            "text/plain": [
              "array([1, 0])"
            ]
          },
          "metadata": {
            "tags": []
          },
          "execution_count": 22
        }
      ]
    },
    {
      "cell_type": "code",
      "metadata": {
        "colab": {
          "base_uri": "https://localhost:8080/"
        },
        "id": "ClA4fi17LavN",
        "outputId": "9cdfbdfd-0fed-4d43-bcc9-71f80ee14c84"
      },
      "source": [
        "df['avg_glucose_level'].unique()"
      ],
      "execution_count": null,
      "outputs": [
        {
          "output_type": "execute_result",
          "data": {
            "text/plain": [
              "array([228.69, 202.21, 105.92, ...,  82.99, 166.29,  85.28])"
            ]
          },
          "metadata": {
            "tags": []
          },
          "execution_count": 23
        }
      ]
    },
    {
      "cell_type": "code",
      "metadata": {
        "colab": {
          "base_uri": "https://localhost:8080/"
        },
        "id": "nS6u1fV1LkM1",
        "outputId": "86c60827-4bb9-47c5-983d-1287a2a87a51"
      },
      "source": [
        "df['bmi'].unique()"
      ],
      "execution_count": null,
      "outputs": [
        {
          "output_type": "execute_result",
          "data": {
            "text/plain": [
              "array([36.6,  nan, 32.5, 34.4, 24. , 29. , 27.4, 22.8, 24.2, 29.7, 36.8,\n",
              "       27.3, 28.2, 30.9, 37.5, 25.8, 37.8, 22.4, 48.9, 26.6, 27.2, 23.5,\n",
              "       28.3, 44.2, 25.4, 22.2, 30.5, 26.5, 33.7, 23.1, 32. , 29.9, 23.9,\n",
              "       28.5, 26.4, 20.2, 33.6, 38.6, 39.2, 27.7, 31.4, 36.5, 33.2, 32.8,\n",
              "       40.4, 25.3, 30.2, 47.5, 20.3, 30. , 28.9, 28.1, 31.1, 21.7, 27. ,\n",
              "       24.1, 45.9, 44.1, 22.9, 29.1, 32.3, 41.1, 25.6, 29.8, 26.3, 26.2,\n",
              "       29.4, 24.4, 28. , 28.8, 34.6, 19.4, 30.3, 41.5, 22.6, 56.6, 27.1,\n",
              "       31.3, 31. , 31.7, 35.8, 28.4, 20.1, 26.7, 38.7, 34.9, 25. , 23.8,\n",
              "       21.8, 27.5, 24.6, 32.9, 26.1, 31.9, 34.1, 36.9, 37.3, 45.7, 34.2,\n",
              "       23.6, 22.3, 37.1, 45. , 25.5, 30.8, 37.4, 34.5, 27.9, 29.5, 46. ,\n",
              "       42.5, 35.5, 26.9, 45.5, 31.5, 33. , 23.4, 30.7, 20.5, 21.5, 40. ,\n",
              "       28.6, 42.2, 29.6, 35.4, 16.9, 26.8, 39.3, 32.6, 35.9, 21.2, 42.4,\n",
              "       40.5, 36.7, 29.3, 19.6, 18. , 17.6, 19.1, 50.1, 17.7, 54.6, 35. ,\n",
              "       22. , 39.4, 19.7, 22.5, 25.2, 41.8, 60.9, 23.7, 24.5, 31.2, 16. ,\n",
              "       31.6, 25.1, 24.8, 18.3, 20. , 19.5, 36. , 35.3, 40.1, 43.1, 21.4,\n",
              "       34.3, 27.6, 16.5, 24.3, 25.7, 21.9, 38.4, 25.9, 54.7, 18.6, 24.9,\n",
              "       48.2, 20.7, 39.5, 23.3, 64.8, 35.1, 43.6, 21. , 47.3, 16.6, 21.6,\n",
              "       15.5, 35.6, 16.7, 41.9, 16.4, 17.1, 29.2, 37.9, 44.6, 39.6, 40.3,\n",
              "       41.6, 39. , 23.2, 18.9, 36.1, 36.3, 46.5, 16.8, 46.6, 35.2, 20.9,\n",
              "       13.8, 31.8, 15.3, 38.2, 45.2, 17. , 49.8, 27.8, 60.2, 23. , 22.1,\n",
              "       26. , 44.3, 51. , 39.7, 34.7, 21.3, 41.2, 34.8, 19.2, 35.7, 40.8,\n",
              "       24.7, 19. , 32.4, 34. , 28.7, 32.1, 51.5, 20.4, 30.6, 71.9, 19.3,\n",
              "       40.9, 17.2, 16.1, 16.2, 40.6, 18.4, 21.1, 42.3, 32.2, 50.2, 17.5,\n",
              "       18.7, 42.1, 47.8, 20.8, 30.1, 17.3, 36.4, 12. , 36.2, 55.7, 14.4,\n",
              "       43. , 41.7, 33.8, 43.9, 22.7, 57.5, 37. , 38.5, 16.3, 44. , 32.7,\n",
              "       54.2, 40.2, 33.3, 17.4, 41.3, 52.3, 14.6, 17.8, 46.1, 33.1, 18.1,\n",
              "       43.8, 50.3, 38.9, 43.7, 39.9, 15.9, 19.8, 12.3, 78. , 38.3, 41. ,\n",
              "       42.6, 43.4, 15.1, 20.6, 33.5, 43.2, 30.4, 38. , 33.4, 44.9, 44.7,\n",
              "       37.6, 39.8, 53.4, 55.2, 42. , 37.2, 42.8, 18.8, 42.9, 14.3, 37.7,\n",
              "       48.4, 50.6, 46.2, 49.5, 43.3, 33.9, 18.5, 44.5, 45.4, 55. , 54.8,\n",
              "       19.9, 17.9, 15.6, 52.8, 15.2, 66.8, 55.1, 18.2, 48.5, 55.9, 57.3,\n",
              "       10.3, 14.1, 15.7, 56. , 44.8, 13.4, 51.8, 38.1, 57.7, 44.4, 38.8,\n",
              "       49.3, 39.1, 54. , 56.1, 97.6, 53.9, 13.7, 11.5, 41.4, 14.2, 49.4,\n",
              "       15.4, 45.1, 49.2, 48.7, 53.8, 42.7, 48.8, 52.7, 53.5, 50.5, 15.8,\n",
              "       45.3, 14.8, 51.9, 63.3, 40.7, 61.2, 48. , 46.8, 48.3, 58.1, 50.4,\n",
              "       11.3, 12.8, 13.5, 14.5, 15. , 59.7, 47.4, 52.5, 13.2, 52.9, 61.6,\n",
              "       49.9, 54.3, 47.9, 13. , 13.9, 50.9, 57.2, 64.4, 92. , 50.8, 57.9,\n",
              "       45.8, 47.6, 14. , 46.4, 46.9, 47.1, 13.3, 48.1, 51.7, 46.3, 54.1,\n",
              "       14.9])"
            ]
          },
          "metadata": {
            "tags": []
          },
          "execution_count": 24
        }
      ]
    },
    {
      "cell_type": "code",
      "metadata": {
        "colab": {
          "base_uri": "https://localhost:8080/"
        },
        "id": "wBrrNh34Lq5p",
        "outputId": "d3de8fbd-4ce7-4c2c-e3ad-342f3833fd83"
      },
      "source": [
        "df['bmi'].value_counts()"
      ],
      "execution_count": null,
      "outputs": [
        {
          "output_type": "execute_result",
          "data": {
            "text/plain": [
              "28.7    41\n",
              "28.4    38\n",
              "26.7    37\n",
              "27.7    37\n",
              "26.1    37\n",
              "        ..\n",
              "13.9     1\n",
              "49.9     1\n",
              "40.6     1\n",
              "52.3     1\n",
              "44.1     1\n",
              "Name: bmi, Length: 418, dtype: int64"
            ]
          },
          "metadata": {
            "tags": []
          },
          "execution_count": 25
        }
      ]
    },
    {
      "cell_type": "code",
      "metadata": {
        "id": "oyBaVFY4L8zA"
      },
      "source": [
        "#For data features, with normal/gaussian seeming distribution, we will fill the missing values with random numbers in the range between (mean - 25%, mean + 25%) (approximately).\n",
        "#For data features, with modal frequency greater than 50%, we will fill the missing values with modal value."
      ],
      "execution_count": null,
      "outputs": []
    },
    {
      "cell_type": "code",
      "metadata": {
        "colab": {
          "base_uri": "https://localhost:8080/",
          "height": 576
        },
        "id": "0RvLZpl7Mlmb",
        "outputId": "d05aa093-995c-4bd7-e919-b81c016743a8"
      },
      "source": [
        "#Since there are lot of value counts, let's  plot it, to get an idea about its' distribution.\n",
        "plt.rcParams['figure.figsize']=(30,8)\n",
        "sns.countplot(df['bmi'],palette='rocket')\n",
        "plt.title('BMI Distribution', fontsize=25)\n",
        "plt.show()"
      ],
      "execution_count": null,
      "outputs": [
        {
          "output_type": "stream",
          "text": [
            "/usr/local/lib/python3.7/dist-packages/seaborn/_decorators.py:43: FutureWarning: Pass the following variable as a keyword arg: x. From version 0.12, the only valid positional argument will be `data`, and passing other arguments without an explicit keyword will result in an error or misinterpretation.\n",
            "  FutureWarning\n"
          ],
          "name": "stderr"
        },
        {
          "output_type": "display_data",
          "data": {
            "image/png": "[encoded data removed]",
            "text/plain": [
              "<Figure size 2160x576 with 1 Axes>"
            ]
          },
          "metadata": {
            "tags": [],
            "needs_background": "light"
          }
        }
      ]
    },
    {
      "cell_type": "code",
      "metadata": {
        "id": "rtUescSgM8Rm"
      },
      "source": [
        "import random\n",
        "df.bmi.fillna(np.random.uniform(25,29),inplace=True)"
      ],
      "execution_count": null,
      "outputs": []
    },
    {
      "cell_type": "code",
      "metadata": {
        "colab": {
          "base_uri": "https://localhost:8080/"
        },
        "id": "smtRpz7TNfqk",
        "outputId": "ea8c5483-5786-4a08-a019-ad00d9ae4e07"
      },
      "source": [
        "df['stroke'].value_counts()"
      ],
      "execution_count": null,
      "outputs": [
        {
          "output_type": "execute_result",
          "data": {
            "text/plain": [
              "0    4861\n",
              "1     249\n",
              "Name: stroke, dtype: int64"
            ]
          },
          "metadata": {
            "tags": []
          },
          "execution_count": 30
        }
      ]
    },
    {
      "cell_type": "markdown",
      "metadata": {
        "id": "29oRrnfSuNw9"
      },
      "source": [
        "Since, we can easily see there's a class imbalance and that may lead to very poor results. We will use SMOTE, **Synthetic Minority Oversampling Technique(SMOTE)** is an oversampling technique and widely used to handle the imbalanced dataset. Through this, we will synthesize new data points for minority class and oversample that class."
      ]
    },
    {
      "cell_type": "code",
      "metadata": {
        "colab": {
          "base_uri": "https://localhost:8080/"
        },
        "id": "um2JXC0BOmjY",
        "outputId": "3b4083bd-ebf6-46c4-dca9-db0fef38d4b2"
      },
      "source": [
        "df.info()"
      ],
      "execution_count": null,
      "outputs": [
        {
          "output_type": "stream",
          "text": [
            "<class 'pandas.core.frame.DataFrame'>\n",
            "RangeIndex: 5110 entries, 0 to 5109\n",
            "Data columns (total 11 columns):\n",
            " #   Column             Non-Null Count  Dtype  \n",
            "---  ------             --------------  -----  \n",
            " 0   gender             5110 non-null   int64  \n",
            " 1   age                5110 non-null   float64\n",
            " 2   hypertension       5110 non-null   int64  \n",
            " 3   heart_disease      5110 non-null   int64  \n",
            " 4   ever_married       5110 non-null   int64  \n",
            " 5   work_type          5110 non-null   int64  \n",
            " 6   Residence_type     5110 non-null   int64  \n",
            " 7   avg_glucose_level  5110 non-null   float64\n",
            " 8   bmi                5110 non-null   float64\n",
            " 9   smoking_status     5110 non-null   int64  \n",
            " 10  stroke             5110 non-null   int64  \n",
            "dtypes: float64(3), int64(8)\n",
            "memory usage: 439.3 KB\n"
          ],
          "name": "stdout"
        }
      ]
    },
    {
      "cell_type": "code",
      "metadata": {
        "colab": {
          "base_uri": "https://localhost:8080/",
          "height": 204
        },
        "id": "DxxxjjKxOwt2",
        "outputId": "bedc624f-cbd7-40f5-b36e-2a305f19711d"
      },
      "source": [
        "df.head()"
      ],
      "execution_count": null,
      "outputs": [
        {
          "output_type": "execute_result",
          "data": {
            "text/html": [
              "<div>\n",
              "<style scoped>\n",
              "    .dataframe tbody tr th:only-of-type {\n",
              "        vertical-align: middle;\n",
              "    }\n",
              "\n",
              "    .dataframe tbody tr th {\n",
              "        vertical-align: top;\n",
              "    }\n",
              "\n",
              "    .dataframe thead th {\n",
              "        text-align: right;\n",
              "    }\n",
              "</style>\n",
              "<table border=\"1\" class=\"dataframe\">\n",
              "  <thead>\n",
              "    <tr style=\"text-align: right;\">\n",
              "      <th></th>\n",
              "      <th>gender</th>\n",
              "      <th>age</th>\n",
              "      <th>hypertension</th>\n",
              "      <th>heart_disease</th>\n",
              "      <th>ever_married</th>\n",
              "      <th>work_type</th>\n",
              "      <th>Residence_type</th>\n",
              "      <th>avg_glucose_level</th>\n",
              "      <th>bmi</th>\n",
              "      <th>smoking_status</th>\n",
              "      <th>stroke</th>\n",
              "    </tr>\n",
              "  </thead>\n",
              "  <tbody>\n",
              "    <tr>\n",
              "      <th>0</th>\n",
              "      <td>0</td>\n",
              "      <td>67.0</td>\n",
              "      <td>0</td>\n",
              "      <td>1</td>\n",
              "      <td>1</td>\n",
              "      <td>1</td>\n",
              "      <td>1</td>\n",
              "      <td>228.69</td>\n",
              "      <td>36.600000</td>\n",
              "      <td>1</td>\n",
              "      <td>1</td>\n",
              "    </tr>\n",
              "    <tr>\n",
              "      <th>1</th>\n",
              "      <td>1</td>\n",
              "      <td>61.0</td>\n",
              "      <td>0</td>\n",
              "      <td>0</td>\n",
              "      <td>1</td>\n",
              "      <td>2</td>\n",
              "      <td>0</td>\n",
              "      <td>202.21</td>\n",
              "      <td>26.188121</td>\n",
              "      <td>2</td>\n",
              "      <td>1</td>\n",
              "    </tr>\n",
              "    <tr>\n",
              "      <th>2</th>\n",
              "      <td>0</td>\n",
              "      <td>80.0</td>\n",
              "      <td>0</td>\n",
              "      <td>1</td>\n",
              "      <td>1</td>\n",
              "      <td>1</td>\n",
              "      <td>0</td>\n",
              "      <td>105.92</td>\n",
              "      <td>32.500000</td>\n",
              "      <td>2</td>\n",
              "      <td>1</td>\n",
              "    </tr>\n",
              "    <tr>\n",
              "      <th>3</th>\n",
              "      <td>1</td>\n",
              "      <td>49.0</td>\n",
              "      <td>0</td>\n",
              "      <td>0</td>\n",
              "      <td>1</td>\n",
              "      <td>1</td>\n",
              "      <td>1</td>\n",
              "      <td>171.23</td>\n",
              "      <td>34.400000</td>\n",
              "      <td>3</td>\n",
              "      <td>1</td>\n",
              "    </tr>\n",
              "    <tr>\n",
              "      <th>4</th>\n",
              "      <td>1</td>\n",
              "      <td>79.0</td>\n",
              "      <td>1</td>\n",
              "      <td>0</td>\n",
              "      <td>1</td>\n",
              "      <td>2</td>\n",
              "      <td>0</td>\n",
              "      <td>174.12</td>\n",
              "      <td>24.000000</td>\n",
              "      <td>2</td>\n",
              "      <td>1</td>\n",
              "    </tr>\n",
              "  </tbody>\n",
              "</table>\n",
              "</div>"
            ],
            "text/plain": [
              "   gender   age  hypertension  ...        bmi  smoking_status  stroke\n",
              "0       0  67.0             0  ...  36.600000               1       1\n",
              "1       1  61.0             0  ...  26.188121               2       1\n",
              "2       0  80.0             0  ...  32.500000               2       1\n",
              "3       1  49.0             0  ...  34.400000               3       1\n",
              "4       1  79.0             1  ...  24.000000               2       1\n",
              "\n",
              "[5 rows x 11 columns]"
            ]
          },
          "metadata": {
            "tags": []
          },
          "execution_count": 33
        }
      ]
    },
    {
      "cell_type": "code",
      "metadata": {
        "colab": {
          "base_uri": "https://localhost:8080/",
          "height": 477
        },
        "id": "tv0D9Oq8OzYH",
        "outputId": "b7b65d58-1fce-4a56-e609-d7e01a168238"
      },
      "source": [
        "corrMatrix = df.corr()\n",
        "plt.figure(figsize=(16, 6))\n",
        "heatmap = sns.heatmap(df.corr(), vmin=-1, vmax=1, annot=True)\n",
        "#heatmap.\n",
        "heatmap.set_title('Correlation Heatmap', fontdict={'fontsize':12}, pad=12)\n",
        "plt.show()"
      ],
      "execution_count": null,
      "outputs": [
        {
          "output_type": "display_data",
          "data": {
            "image/png": "[encoded data removed]",
            "text/plain": [
              "<Figure size 1152x432 with 2 Axes>"
            ]
          },
          "metadata": {
            "tags": [],
            "needs_background": "light"
          }
        }
      ]
    },
    {
      "cell_type": "code",
      "metadata": {
        "id": "DWEKksOBJWYO",
        "colab": {
          "base_uri": "https://localhost:8080/",
          "height": 297
        },
        "outputId": "2f20c402-e8f4-4438-9232-62b8ead04843"
      },
      "source": [
        "df.describe()"
      ],
      "execution_count": null,
      "outputs": [
        {
          "output_type": "execute_result",
          "data": {
            "text/html": [
              "<div>\n",
              "<style scoped>\n",
              "    .dataframe tbody tr th:only-of-type {\n",
              "        vertical-align: middle;\n",
              "    }\n",
              "\n",
              "    .dataframe tbody tr th {\n",
              "        vertical-align: top;\n",
              "    }\n",
              "\n",
              "    .dataframe thead th {\n",
              "        text-align: right;\n",
              "    }\n",
              "</style>\n",
              "<table border=\"1\" class=\"dataframe\">\n",
              "  <thead>\n",
              "    <tr style=\"text-align: right;\">\n",
              "      <th></th>\n",
              "      <th>gender</th>\n",
              "      <th>age</th>\n",
              "      <th>hypertension</th>\n",
              "      <th>heart_disease</th>\n",
              "      <th>ever_married</th>\n",
              "      <th>work_type</th>\n",
              "      <th>Residence_type</th>\n",
              "      <th>avg_glucose_level</th>\n",
              "      <th>bmi</th>\n",
              "      <th>smoking_status</th>\n",
              "      <th>stroke</th>\n",
              "    </tr>\n",
              "  </thead>\n",
              "  <tbody>\n",
              "    <tr>\n",
              "      <th>count</th>\n",
              "      <td>5110.000000</td>\n",
              "      <td>5110.000000</td>\n",
              "      <td>5110.000000</td>\n",
              "      <td>5110.000000</td>\n",
              "      <td>5110.000000</td>\n",
              "      <td>5110.000000</td>\n",
              "      <td>5110.000000</td>\n",
              "      <td>5110.000000</td>\n",
              "      <td>5110.000000</td>\n",
              "      <td>5110.000000</td>\n",
              "      <td>5110.000000</td>\n",
              "    </tr>\n",
              "    <tr>\n",
              "      <th>mean</th>\n",
              "      <td>0.586301</td>\n",
              "      <td>43.226614</td>\n",
              "      <td>0.097456</td>\n",
              "      <td>0.054012</td>\n",
              "      <td>0.656164</td>\n",
              "      <td>1.816438</td>\n",
              "      <td>0.508023</td>\n",
              "      <td>106.147677</td>\n",
              "      <td>28.786832</td>\n",
              "      <td>1.376908</td>\n",
              "      <td>0.048728</td>\n",
              "    </tr>\n",
              "    <tr>\n",
              "      <th>std</th>\n",
              "      <td>0.492941</td>\n",
              "      <td>22.612647</td>\n",
              "      <td>0.296607</td>\n",
              "      <td>0.226063</td>\n",
              "      <td>0.475034</td>\n",
              "      <td>1.105673</td>\n",
              "      <td>0.499985</td>\n",
              "      <td>45.283560</td>\n",
              "      <td>7.715961</td>\n",
              "      <td>1.071534</td>\n",
              "      <td>0.215320</td>\n",
              "    </tr>\n",
              "    <tr>\n",
              "      <th>min</th>\n",
              "      <td>0.000000</td>\n",
              "      <td>0.080000</td>\n",
              "      <td>0.000000</td>\n",
              "      <td>0.000000</td>\n",
              "      <td>0.000000</td>\n",
              "      <td>0.000000</td>\n",
              "      <td>0.000000</td>\n",
              "      <td>55.120000</td>\n",
              "      <td>10.300000</td>\n",
              "      <td>0.000000</td>\n",
              "      <td>0.000000</td>\n",
              "    </tr>\n",
              "    <tr>\n",
              "      <th>25%</th>\n",
              "      <td>0.000000</td>\n",
              "      <td>25.000000</td>\n",
              "      <td>0.000000</td>\n",
              "      <td>0.000000</td>\n",
              "      <td>0.000000</td>\n",
              "      <td>1.000000</td>\n",
              "      <td>0.000000</td>\n",
              "      <td>77.245000</td>\n",
              "      <td>23.800000</td>\n",
              "      <td>0.000000</td>\n",
              "      <td>0.000000</td>\n",
              "    </tr>\n",
              "    <tr>\n",
              "      <th>50%</th>\n",
              "      <td>1.000000</td>\n",
              "      <td>45.000000</td>\n",
              "      <td>0.000000</td>\n",
              "      <td>0.000000</td>\n",
              "      <td>1.000000</td>\n",
              "      <td>1.000000</td>\n",
              "      <td>1.000000</td>\n",
              "      <td>91.885000</td>\n",
              "      <td>27.700000</td>\n",
              "      <td>2.000000</td>\n",
              "      <td>0.000000</td>\n",
              "    </tr>\n",
              "    <tr>\n",
              "      <th>75%</th>\n",
              "      <td>1.000000</td>\n",
              "      <td>61.000000</td>\n",
              "      <td>0.000000</td>\n",
              "      <td>0.000000</td>\n",
              "      <td>1.000000</td>\n",
              "      <td>3.000000</td>\n",
              "      <td>1.000000</td>\n",
              "      <td>114.090000</td>\n",
              "      <td>32.800000</td>\n",
              "      <td>2.000000</td>\n",
              "      <td>0.000000</td>\n",
              "    </tr>\n",
              "    <tr>\n",
              "      <th>max</th>\n",
              "      <td>2.000000</td>\n",
              "      <td>82.000000</td>\n",
              "      <td>1.000000</td>\n",
              "      <td>1.000000</td>\n",
              "      <td>1.000000</td>\n",
              "      <td>4.000000</td>\n",
              "      <td>1.000000</td>\n",
              "      <td>271.740000</td>\n",
              "      <td>97.600000</td>\n",
              "      <td>3.000000</td>\n",
              "      <td>1.000000</td>\n",
              "    </tr>\n",
              "  </tbody>\n",
              "</table>\n",
              "</div>"
            ],
            "text/plain": [
              "            gender          age  ...  smoking_status       stroke\n",
              "count  5110.000000  5110.000000  ...     5110.000000  5110.000000\n",
              "mean      0.586301    43.226614  ...        1.376908     0.048728\n",
              "std       0.492941    22.612647  ...        1.071534     0.215320\n",
              "min       0.000000     0.080000  ...        0.000000     0.000000\n",
              "25%       0.000000    25.000000  ...        0.000000     0.000000\n",
              "50%       1.000000    45.000000  ...        2.000000     0.000000\n",
              "75%       1.000000    61.000000  ...        2.000000     0.000000\n",
              "max       2.000000    82.000000  ...        3.000000     1.000000\n",
              "\n",
              "[8 rows x 11 columns]"
            ]
          },
          "metadata": {
            "tags": []
          },
          "execution_count": 35
        }
      ]
    },
    {
      "cell_type": "code",
      "metadata": {
        "colab": {
          "base_uri": "https://localhost:8080/"
        },
        "id": "SSrVCa5IPQ8R",
        "outputId": "731ac55b-d1f6-4c74-c1f1-323902008e50"
      },
      "source": [
        "import scipy\n",
        "import math\n",
        "import matplotlib.ticker as mtick\n",
        "from sklearn.model_selection import train_test_split\n",
        "from sklearn.preprocessing import StandardScaler\n",
        "from imblearn.over_sampling import SMOTE\n",
        "from sklearn.ensemble import RandomForestClassifier\n",
        "from sklearn.metrics import accuracy_score, precision_score, recall_score\n",
        "from sklearn.model_selection import cross_val_predict\n",
        "from sklearn.metrics import confusion_matrix ,f1_score\n",
        "from sklearn.svm import SVC\n",
        "from sklearn.linear_model import LogisticRegression\n",
        "from sklearn.ensemble import AdaBoostClassifier \n",
        "from sklearn.linear_model import SGDClassifier\n",
        "from sklearn.neighbors import KNeighborsClassifier\n",
        "from sklearn.ensemble import VotingClassifier\n",
        "import plotly.express as px"
      ],
      "execution_count": null,
      "outputs": [
        {
          "output_type": "stream",
          "text": [
            "/usr/local/lib/python3.7/dist-packages/sklearn/externals/six.py:31: FutureWarning: The module is deprecated in version 0.21 and will be removed in version 0.23 since we've dropped support for Python 2.7. Please rely on the official version of six (https://pypi.org/project/six/).\n",
            "  \"(https://pypi.org/project/six/).\", FutureWarning)\n",
            "/usr/local/lib/python3.7/dist-packages/sklearn/utils/deprecation.py:144: FutureWarning: The sklearn.neighbors.base module is  deprecated in version 0.22 and will be removed in version 0.24. The corresponding classes / functions should instead be imported from sklearn.neighbors. Anything that cannot be imported from sklearn.neighbors is now part of the private API.\n",
            "  warnings.warn(message, FutureWarning)\n"
          ],
          "name": "stderr"
        }
      ]
    },
    {
      "cell_type": "code",
      "metadata": {
        "id": "bzzJ2dSvPixX"
      },
      "source": [
        "x = df.iloc[:, 0:10]\n",
        "y = df.iloc[:, -1]"
      ],
      "execution_count": null,
      "outputs": []
    },
    {
      "cell_type": "code",
      "metadata": {
        "colab": {
          "base_uri": "https://localhost:8080/"
        },
        "id": "KP7xr7tFPkh7",
        "outputId": "0155d132-a7b0-41a1-8f82-6f80044f36fa"
      },
      "source": [
        "print(x.shape)\n",
        "print(y.shape)"
      ],
      "execution_count": null,
      "outputs": [
        {
          "output_type": "stream",
          "text": [
            "(5110, 10)\n",
            "(5110,)\n"
          ],
          "name": "stdout"
        }
      ]
    },
    {
      "cell_type": "code",
      "metadata": {
        "colab": {
          "base_uri": "https://localhost:8080/"
        },
        "id": "A93_KbZnPoSj",
        "outputId": "bfdc137b-1efc-45f8-b688-5126b7a15b29"
      },
      "source": [
        "X,Y=SMOTE().fit_resample(x,y)"
      ],
      "execution_count": null,
      "outputs": [
        {
          "output_type": "stream",
          "text": [
            "/usr/local/lib/python3.7/dist-packages/sklearn/utils/deprecation.py:87: FutureWarning:\n",
            "\n",
            "Function safe_indexing is deprecated; safe_indexing is deprecated in version 0.22 and will be removed in version 0.24.\n",
            "\n"
          ],
          "name": "stderr"
        }
      ]
    },
    {
      "cell_type": "code",
      "metadata": {
        "colab": {
          "base_uri": "https://localhost:8080/"
        },
        "id": "ybNsYsjqPrXY",
        "outputId": "9079e32c-c9cc-4998-a89b-be47fa9e491d"
      },
      "source": [
        "print(X.shape)\n",
        "print(Y.shape)"
      ],
      "execution_count": null,
      "outputs": [
        {
          "output_type": "stream",
          "text": [
            "(9722, 10)\n",
            "(9722,)\n"
          ],
          "name": "stdout"
        }
      ]
    },
    {
      "cell_type": "code",
      "metadata": {
        "colab": {
          "base_uri": "https://localhost:8080/"
        },
        "id": "EZmAxVtmPujL",
        "outputId": "e54348ca-9320-4fb6-b409-211d2bd46611"
      },
      "source": [
        "unique_elements, counts_elements = np.unique(Y, return_counts=True)\n",
        "print(np.asarray((unique_elements, counts_elements)))"
      ],
      "execution_count": null,
      "outputs": [
        {
          "output_type": "stream",
          "text": [
            "[[   0    1]\n",
            " [4861 4861]]\n"
          ],
          "name": "stdout"
        }
      ]
    },
    {
      "cell_type": "code",
      "metadata": {
        "colab": {
          "base_uri": "https://localhost:8080/"
        },
        "id": "SDpVWjikP0wG",
        "outputId": "fbb1331d-f1f7-40f6-cf64-a3412cb25136"
      },
      "source": [
        "unique_elements, counts_elements = np.unique(X, return_counts=True)\n",
        "print(np.asarray((unique_elements, counts_elements)))"
      ],
      "execution_count": null,
      "outputs": [
        {
          "output_type": "stream",
          "text": [
            "[[0.00000000e+00 1.63927909e-04 2.59170316e-04 ... 2.70959481e+02\n",
            "  2.71352838e+02 2.71740000e+02]\n",
            " [2.51480000e+04 1.00000000e+00 2.00000000e+00 ... 1.00000000e+00\n",
            "  1.00000000e+00 1.00000000e+00]]\n"
          ],
          "name": "stdout"
        }
      ]
    },
    {
      "cell_type": "code",
      "metadata": {
        "id": "OMUiJrp6P9gB"
      },
      "source": [
        "x_train, x_test, y_train, y_test = train_test_split(X, Y, test_size=0.2)"
      ],
      "execution_count": null,
      "outputs": []
    },
    {
      "cell_type": "code",
      "metadata": {
        "id": "a1VJXK4FQBXu"
      },
      "source": [
        "standard_scale = StandardScaler()\n",
        "x_train_scaled = standard_scale.fit_transform(x_train)"
      ],
      "execution_count": null,
      "outputs": []
    },
    {
      "cell_type": "code",
      "metadata": {
        "id": "ZGahNi64PuiU"
      },
      "source": [
        "#Random Forest Classifier"
      ],
      "execution_count": null,
      "outputs": []
    },
    {
      "cell_type": "code",
      "metadata": {
        "id": "OV5pO1k9PJ65",
        "colab": {
          "base_uri": "https://localhost:8080/"
        },
        "outputId": "244c2c0b-a9ee-4176-8fc5-8883384a7280"
      },
      "source": [
        "random_forest=RandomForestClassifier(n_estimators=500)\n",
        "random_forest.fit(x_train_scaled, y_train)"
      ],
      "execution_count": null,
      "outputs": [
        {
          "output_type": "execute_result",
          "data": {
            "text/plain": [
              "RandomForestClassifier(bootstrap=True, ccp_alpha=0.0, class_weight=None,\n",
              "                       criterion='gini', max_depth=None, max_features='auto',\n",
              "                       max_leaf_nodes=None, max_samples=None,\n",
              "                       min_impurity_decrease=0.0, min_impurity_split=None,\n",
              "                       min_samples_leaf=1, min_samples_split=2,\n",
              "                       min_weight_fraction_leaf=0.0, n_estimators=500,\n",
              "                       n_jobs=None, oob_score=False, random_state=None,\n",
              "                       verbose=0, warm_start=False)"
            ]
          },
          "metadata": {
            "tags": []
          },
          "execution_count": 46
        }
      ]
    },
    {
      "cell_type": "code",
      "metadata": {
        "id": "5iULt9OBPQFs"
      },
      "source": [
        "y_train_pred_random_forest=cross_val_predict(random_forest, x_train_scaled, y_train, cv=5)"
      ],
      "execution_count": null,
      "outputs": []
    },
    {
      "cell_type": "code",
      "metadata": {
        "id": "Zf3AOz3XPe7Q",
        "colab": {
          "base_uri": "https://localhost:8080/"
        },
        "outputId": "a38fefe7-9240-4e99-f107-50820e69ff5e"
      },
      "source": [
        "confusion_matrix_random_forest = confusion_matrix(y_train, y_train_pred_random_forest)\n",
        "confusion_matrix_random_forest"
      ],
      "execution_count": null,
      "outputs": [
        {
          "output_type": "execute_result",
          "data": {
            "text/plain": [
              "array([[3865,   39],\n",
              "       [ 201, 3672]])"
            ]
          },
          "metadata": {
            "tags": []
          },
          "execution_count": 48
        }
      ]
    },
    {
      "cell_type": "code",
      "metadata": {
        "id": "zH7J6rBiPrxk",
        "colab": {
          "base_uri": "https://localhost:8080/"
        },
        "outputId": "487eaa08-598f-402d-dcb7-9a541816b5b1"
      },
      "source": [
        "print(accuracy_score(y_train, y_train_pred_random_forest))\n",
        "print(precision_score(y_train, y_train_pred_random_forest))\n",
        "print(recall_score(y_train, y_train_pred_random_forest))\n",
        "print(f1_score(y_train, y_train_pred_random_forest))"
      ],
      "execution_count": null,
      "outputs": [
        {
          "output_type": "stream",
          "text": [
            "0.9691397711199692\n",
            "0.9894907033144705\n",
            "0.9481022463206816\n",
            "0.9683544303797468\n"
          ],
          "name": "stdout"
        }
      ]
    },
    {
      "cell_type": "code",
      "metadata": {
        "id": "84UWnUOyRjKx"
      },
      "source": [
        "#Logistic Regression"
      ],
      "execution_count": null,
      "outputs": []
    },
    {
      "cell_type": "code",
      "metadata": {
        "id": "60tPF2_8R12x",
        "colab": {
          "base_uri": "https://localhost:8080/"
        },
        "outputId": "0af3da22-dea0-4a95-c103-1d6081824a6f"
      },
      "source": [
        "logistic_regression=LogisticRegression(max_iter=10000)\n",
        "logistic_regression.fit(x_train_scaled, y_train)"
      ],
      "execution_count": null,
      "outputs": [
        {
          "output_type": "execute_result",
          "data": {
            "text/plain": [
              "LogisticRegression(C=1.0, class_weight=None, dual=False, fit_intercept=True,\n",
              "                   intercept_scaling=1, l1_ratio=None, max_iter=10000,\n",
              "                   multi_class='auto', n_jobs=None, penalty='l2',\n",
              "                   random_state=None, solver='lbfgs', tol=0.0001, verbose=0,\n",
              "                   warm_start=False)"
            ]
          },
          "metadata": {
            "tags": []
          },
          "execution_count": 51
        }
      ]
    },
    {
      "cell_type": "code",
      "metadata": {
        "id": "7MtLrt7jR4b7"
      },
      "source": [
        "y_train_pred_log=cross_val_predict(logistic_regression, x_train_scaled, y_train, cv=5)"
      ],
      "execution_count": null,
      "outputs": []
    },
    {
      "cell_type": "code",
      "metadata": {
        "id": "Rl1VxI3zR-b0",
        "colab": {
          "base_uri": "https://localhost:8080/"
        },
        "outputId": "a07bcb29-0bb9-4858-a591-323bf95c82aa"
      },
      "source": [
        "confusion_matrix_log = confusion_matrix(y_train, y_train_pred_log)\n",
        "confusion_matrix_log"
      ],
      "execution_count": null,
      "outputs": [
        {
          "output_type": "execute_result",
          "data": {
            "text/plain": [
              "array([[2913,  991],\n",
              "       [ 802, 3071]])"
            ]
          },
          "metadata": {
            "tags": []
          },
          "execution_count": 53
        }
      ]
    },
    {
      "cell_type": "code",
      "metadata": {
        "id": "JZ27hanBSFqz",
        "colab": {
          "base_uri": "https://localhost:8080/"
        },
        "outputId": "0a674016-4dae-4007-90cf-9ee5b366c33c"
      },
      "source": [
        "print(accuracy_score(y_train, y_train_pred_log))\n",
        "print(precision_score(y_train, y_train_pred_log))\n",
        "print(recall_score(y_train, y_train_pred_log))\n",
        "print(f1_score(y_train, y_train_pred_log))"
      ],
      "execution_count": null,
      "outputs": [
        {
          "output_type": "stream",
          "text": [
            "0.7694483734087695\n",
            "0.7560315115706548\n",
            "0.7929253808417248\n",
            "0.7740390674228104\n"
          ],
          "name": "stdout"
        }
      ]
    },
    {
      "cell_type": "code",
      "metadata": {
        "id": "ODUOswLWXk6f"
      },
      "source": [
        "#Adaboost Classifier"
      ],
      "execution_count": null,
      "outputs": []
    },
    {
      "cell_type": "code",
      "metadata": {
        "id": "gtUfmn_HSf0i",
        "colab": {
          "base_uri": "https://localhost:8080/"
        },
        "outputId": "21580bad-445d-4e34-b4b5-d8e74b195082"
      },
      "source": [
        "adaboost_classifier=AdaBoostClassifier(\n",
        "    RandomForestClassifier(), n_estimators=500, algorithm=\"SAMME.R\", learning_rate=0.5\n",
        ")\n",
        "adaboost_classifier.fit(x_train_scaled, y_train)"
      ],
      "execution_count": null,
      "outputs": [
        {
          "output_type": "execute_result",
          "data": {
            "text/plain": [
              "AdaBoostClassifier(algorithm='SAMME.R',\n",
              "                   base_estimator=RandomForestClassifier(bootstrap=True,\n",
              "                                                         ccp_alpha=0.0,\n",
              "                                                         class_weight=None,\n",
              "                                                         criterion='gini',\n",
              "                                                         max_depth=None,\n",
              "                                                         max_features='auto',\n",
              "                                                         max_leaf_nodes=None,\n",
              "                                                         max_samples=None,\n",
              "                                                         min_impurity_decrease=0.0,\n",
              "                                                         min_impurity_split=None,\n",
              "                                                         min_samples_leaf=1,\n",
              "                                                         min_samples_split=2,\n",
              "                                                         min_weight_fraction_leaf=0.0,\n",
              "                                                         n_estimators=100,\n",
              "                                                         n_jobs=None,\n",
              "                                                         oob_score=False,\n",
              "                                                         random_state=None,\n",
              "                                                         verbose=0,\n",
              "                                                         warm_start=False),\n",
              "                   learning_rate=0.5, n_estimators=500, random_state=None)"
            ]
          },
          "metadata": {
            "tags": []
          },
          "execution_count": 56
        }
      ]
    },
    {
      "cell_type": "code",
      "metadata": {
        "id": "r4lNGl7QSivD"
      },
      "source": [
        "y_train_pred_adaboost=cross_val_predict(adaboost_classifier, x_train_scaled, y_train, cv=5)"
      ],
      "execution_count": null,
      "outputs": []
    },
    {
      "cell_type": "code",
      "metadata": {
        "id": "qjeOtSTXSuLS",
        "colab": {
          "base_uri": "https://localhost:8080/"
        },
        "outputId": "06d66bc6-fe95-4cce-e68e-664581464676"
      },
      "source": [
        "confusion_matrix_adaboost = confusion_matrix(y_train, y_train_pred_adaboost)\n",
        "confusion_matrix_adaboost"
      ],
      "execution_count": null,
      "outputs": [
        {
          "output_type": "execute_result",
          "data": {
            "text/plain": [
              "array([[3863,   41],\n",
              "       [ 194, 3679]])"
            ]
          },
          "metadata": {
            "tags": []
          },
          "execution_count": 58
        }
      ]
    },
    {
      "cell_type": "code",
      "metadata": {
        "id": "4F3_hnWKXS7g",
        "colab": {
          "base_uri": "https://localhost:8080/"
        },
        "outputId": "72685bc4-8b51-4372-aa87-0d5618d65143"
      },
      "source": [
        "print(accuracy_score(y_train, y_train_pred_adaboost))\n",
        "print(precision_score(y_train, y_train_pred_adaboost))\n",
        "print(recall_score(y_train, y_train_pred_adaboost))\n",
        "print(f1_score(y_train, y_train_pred_adaboost))"
      ],
      "execution_count": null,
      "outputs": [
        {
          "output_type": "stream",
          "text": [
            "0.9697826925549697\n",
            "0.988978494623656\n",
            "0.9499096307771753\n",
            "0.9690504411958383\n"
          ],
          "name": "stdout"
        }
      ]
    },
    {
      "cell_type": "code",
      "metadata": {
        "id": "jn9rLNxxXowo"
      },
      "source": [
        "#SGD Classifier"
      ],
      "execution_count": null,
      "outputs": []
    },
    {
      "cell_type": "code",
      "metadata": {
        "id": "Dp5XCddASyQo",
        "colab": {
          "base_uri": "https://localhost:8080/"
        },
        "outputId": "388941c8-6c50-44d6-da4c-35b1342ba521"
      },
      "source": [
        "sgd_clf=SGDClassifier(random_state=42)\n",
        "sgd_clf.fit(x_train_scaled, y_train)"
      ],
      "execution_count": null,
      "outputs": [
        {
          "output_type": "execute_result",
          "data": {
            "text/plain": [
              "SGDClassifier(alpha=0.0001, average=False, class_weight=None,\n",
              "              early_stopping=False, epsilon=0.1, eta0=0.0, fit_intercept=True,\n",
              "              l1_ratio=0.15, learning_rate='optimal', loss='hinge',\n",
              "              max_iter=1000, n_iter_no_change=5, n_jobs=None, penalty='l2',\n",
              "              power_t=0.5, random_state=42, shuffle=True, tol=0.001,\n",
              "              validation_fraction=0.1, verbose=0, warm_start=False)"
            ]
          },
          "metadata": {
            "tags": []
          },
          "execution_count": 61
        }
      ]
    },
    {
      "cell_type": "code",
      "metadata": {
        "id": "j3vv-8qaTNi3"
      },
      "source": [
        "y_train_pred_sgd_clf=cross_val_predict(sgd_clf, x_train_scaled, y_train, cv=5)"
      ],
      "execution_count": null,
      "outputs": []
    },
    {
      "cell_type": "code",
      "metadata": {
        "id": "GAPvJv6HTVSA",
        "colab": {
          "base_uri": "https://localhost:8080/"
        },
        "outputId": "b1ce946e-4f66-492d-fd88-40f14e7207da"
      },
      "source": [
        "confusion_matrix_sgd_clf = confusion_matrix(y_train, y_train_pred_sgd_clf)\n",
        "confusion_matrix_sgd_clf"
      ],
      "execution_count": null,
      "outputs": [
        {
          "output_type": "execute_result",
          "data": {
            "text/plain": [
              "array([[2851, 1053],\n",
              "       [ 701, 3172]])"
            ]
          },
          "metadata": {
            "tags": []
          },
          "execution_count": 63
        }
      ]
    },
    {
      "cell_type": "code",
      "metadata": {
        "id": "ObYdTUI1TXuN",
        "colab": {
          "base_uri": "https://localhost:8080/"
        },
        "outputId": "2e43c6df-50c0-481d-cc26-dce42b90e840"
      },
      "source": [
        "print(accuracy_score(y_train, y_train_pred_sgd_clf))\n",
        "print(precision_score(y_train, y_train_pred_sgd_clf))\n",
        "print(recall_score(y_train, y_train_pred_sgd_clf))\n",
        "print(f1_score(y_train, y_train_pred_sgd_clf))"
      ],
      "execution_count": null,
      "outputs": [
        {
          "output_type": "stream",
          "text": [
            "0.7744631606017744\n",
            "0.7507692307692307\n",
            "0.8190033565711334\n",
            "0.7834033094591256\n"
          ],
          "name": "stdout"
        }
      ]
    },
    {
      "cell_type": "code",
      "metadata": {
        "id": "_MMytAQSYubV"
      },
      "source": [
        "#K nearest Neighbours"
      ],
      "execution_count": null,
      "outputs": []
    },
    {
      "cell_type": "code",
      "metadata": {
        "id": "rERr0jieTZ-w",
        "colab": {
          "base_uri": "https://localhost:8080/"
        },
        "outputId": "f8a31737-c886-486c-ae2d-f527fc04ad5b"
      },
      "source": [
        "k_neig=KNeighborsClassifier(n_neighbors=15)\n",
        "k_neig.fit(x_train_scaled, y_train)"
      ],
      "execution_count": null,
      "outputs": [
        {
          "output_type": "execute_result",
          "data": {
            "text/plain": [
              "KNeighborsClassifier(algorithm='auto', leaf_size=30, metric='minkowski',\n",
              "                     metric_params=None, n_jobs=None, n_neighbors=15, p=2,\n",
              "                     weights='uniform')"
            ]
          },
          "metadata": {
            "tags": []
          },
          "execution_count": 66
        }
      ]
    },
    {
      "cell_type": "code",
      "metadata": {
        "id": "hLgh37a3TeqF"
      },
      "source": [
        "y_train_pred_k_neig=cross_val_predict(k_neig, x_train_scaled, y_train, cv=5)"
      ],
      "execution_count": null,
      "outputs": []
    },
    {
      "cell_type": "code",
      "metadata": {
        "id": "Kk-v2RKCTiD9",
        "colab": {
          "base_uri": "https://localhost:8080/"
        },
        "outputId": "ea8650c9-1f3a-47c2-de6d-e0a5c487b1e2"
      },
      "source": [
        "confusion_matrix_k_neig = confusion_matrix(y_train, y_train_pred_k_neig)\n",
        "confusion_matrix_k_neig"
      ],
      "execution_count": null,
      "outputs": [
        {
          "output_type": "execute_result",
          "data": {
            "text/plain": [
              "array([[3129,  775],\n",
              "       [ 197, 3676]])"
            ]
          },
          "metadata": {
            "tags": []
          },
          "execution_count": 68
        }
      ]
    },
    {
      "cell_type": "code",
      "metadata": {
        "id": "y9qAU5IXTlGK",
        "colab": {
          "base_uri": "https://localhost:8080/"
        },
        "outputId": "c992abad-869d-4d78-fedb-c2a7c6367a63"
      },
      "source": [
        "print(accuracy_score(y_train, y_train_pred_k_neig))\n",
        "print(precision_score(y_train, y_train_pred_k_neig))\n",
        "print(recall_score(y_train, y_train_pred_k_neig))\n",
        "print(f1_score(y_train, y_train_pred_k_neig))"
      ],
      "execution_count": null,
      "outputs": [
        {
          "output_type": "stream",
          "text": [
            "0.875016073035875\n",
            "0.825881824309144\n",
            "0.949135037438678\n",
            "0.8832292167227295\n"
          ],
          "name": "stdout"
        }
      ]
    },
    {
      "cell_type": "code",
      "metadata": {
        "id": "9PI1gLNpZDpp"
      },
      "source": [
        "#Voting Classifier"
      ],
      "execution_count": null,
      "outputs": []
    },
    {
      "cell_type": "code",
      "metadata": {
        "id": "6FtirSb1ToOV",
        "colab": {
          "base_uri": "https://localhost:8080/"
        },
        "outputId": "b5f77eb6-9ff7-4d52-a065-fb6c9d5eb103"
      },
      "source": [
        "voting_clf=VotingClassifier(\n",
        "    estimators=[('lr', logistic_regression), ('rf', random_forest), ('kn', k_neig)], voting='soft'\n",
        ")\n",
        "voting_clf.fit(x_train_scaled, y_train)"
      ],
      "execution_count": null,
      "outputs": [
        {
          "output_type": "execute_result",
          "data": {
            "text/plain": [
              "VotingClassifier(estimators=[('lr',\n",
              "                              LogisticRegression(C=1.0, class_weight=None,\n",
              "                                                 dual=False, fit_intercept=True,\n",
              "                                                 intercept_scaling=1,\n",
              "                                                 l1_ratio=None, max_iter=10000,\n",
              "                                                 multi_class='auto',\n",
              "                                                 n_jobs=None, penalty='l2',\n",
              "                                                 random_state=None,\n",
              "                                                 solver='lbfgs', tol=0.0001,\n",
              "                                                 verbose=0, warm_start=False)),\n",
              "                             ('rf',\n",
              "                              RandomForestClassifier(bootstrap=True,\n",
              "                                                     ccp_alpha=0.0,\n",
              "                                                     class_weight=None,...\n",
              "                                                     min_samples_split=2,\n",
              "                                                     min_weight_fraction_leaf=0.0,\n",
              "                                                     n_estimators=500,\n",
              "                                                     n_jobs=None,\n",
              "                                                     oob_score=False,\n",
              "                                                     random_state=None,\n",
              "                                                     verbose=0,\n",
              "                                                     warm_start=False)),\n",
              "                             ('kn',\n",
              "                              KNeighborsClassifier(algorithm='auto',\n",
              "                                                   leaf_size=30,\n",
              "                                                   metric='minkowski',\n",
              "                                                   metric_params=None,\n",
              "                                                   n_jobs=None, n_neighbors=15,\n",
              "                                                   p=2, weights='uniform'))],\n",
              "                 flatten_transform=True, n_jobs=None, voting='soft',\n",
              "                 weights=None)"
            ]
          },
          "metadata": {
            "tags": []
          },
          "execution_count": 71
        }
      ]
    },
    {
      "cell_type": "code",
      "metadata": {
        "id": "rudWtqU5Tuy8"
      },
      "source": [
        "y_train_pred_voting_clf=cross_val_predict(voting_clf, x_train_scaled, y_train, cv=5)"
      ],
      "execution_count": null,
      "outputs": []
    },
    {
      "cell_type": "code",
      "metadata": {
        "id": "S39xcNeaT1Uh",
        "colab": {
          "base_uri": "https://localhost:8080/"
        },
        "outputId": "a878307c-fdfa-4634-d5aa-8e4d879ab0ed"
      },
      "source": [
        "confusion_matrix_voting_clf = confusion_matrix(y_train, y_train_pred_voting_clf)\n",
        "confusion_matrix_voting_clf"
      ],
      "execution_count": null,
      "outputs": [
        {
          "output_type": "execute_result",
          "data": {
            "text/plain": [
              "array([[3449,  455],\n",
              "       [ 141, 3732]])"
            ]
          },
          "metadata": {
            "tags": []
          },
          "execution_count": 73
        }
      ]
    },
    {
      "cell_type": "code",
      "metadata": {
        "id": "qKHO_IZlT6X_",
        "colab": {
          "base_uri": "https://localhost:8080/"
        },
        "outputId": "751b2ed5-9b77-41f9-f0ad-1ec1cb6f8fbf"
      },
      "source": [
        "print(accuracy_score(y_train, y_train_pred_voting_clf))\n",
        "print(precision_score(y_train, y_train_pred_voting_clf))\n",
        "print(recall_score(y_train, y_train_pred_voting_clf))\n",
        "print(f1_score(y_train, y_train_pred_voting_clf))\n",
        "print(x_train.shape)"
      ],
      "execution_count": null,
      "outputs": [
        {
          "output_type": "stream",
          "text": [
            "0.9233637649479234\n",
            "0.8913303080964892\n",
            "0.9635941130906274\n",
            "0.9260545905707196\n",
            "(7777, 10)\n"
          ],
          "name": "stdout"
        }
      ]
    },
    {
      "cell_type": "code",
      "metadata": {
        "id": "Oo-YaPZNu_HR"
      },
      "source": [
        "#Neural Networks"
      ],
      "execution_count": null,
      "outputs": []
    },
    {
      "cell_type": "code",
      "metadata": {
        "id": "4cjXX90pT87h"
      },
      "source": [
        "from tensorflow.keras.models import Sequential\n",
        "import tensorflow as tf\n",
        "from tensorflow.keras.layers import Dense,Dropout\n",
        "from tensorflow.keras.callbacks import EarlyStopping\n",
        "seed_value=42\n",
        "import tensorflow as tf\n",
        "tf.random.set_seed(seed_value)\n",
        "import numpy as np\n",
        "np.random.seed(seed_value)\n",
        "import random\n",
        "random.seed(seed_value)"
      ],
      "execution_count": null,
      "outputs": []
    },
    {
      "cell_type": "code",
      "metadata": {
        "id": "KqZsHJ2xUZXC",
        "colab": {
          "base_uri": "https://localhost:8080/"
        },
        "outputId": "a57e87f3-8509-4396-fa67-fedb33cdb827"
      },
      "source": [
        "model = Sequential()\n",
        "#model.add(tf.keras.layers.Flatten()) \n",
        "model.add(Dense(16,activation='relu', input_shape = (5696, 10)))\n",
        "model.add(Dense(16,activation='relu'))\n",
        "model.add(Dense(16,activation='relu'))\n",
        "model.add(Dense(8,activation='relu'))\n",
        "model.add(Dense(8,activation='relu'))\n",
        "model.add(Dense(8,activation='relu'))\n",
        "model.add(Dense(4,activation='relu'))\n",
        "model.add(Dense(2,activation='relu'))\n",
        "\n",
        "model.add(Dense(1,activation='sigmoid'))\n",
        "\n",
        "model.compile(optimizer='adam',\n",
        "             loss='binary_crossentropy')\n",
        "\n",
        "\n",
        "history = model.fit(x_train_scaled, y_train, epochs=200, validation_split=0.2, shuffle=True)"
      ],
      "execution_count": null,
      "outputs": [
        {
          "output_type": "stream",
          "text": [
            "Epoch 1/200\n",
            "WARNING:tensorflow:Model was constructed with shape (None, 5696, 10) for input KerasTensor(type_spec=TensorSpec(shape=(None, 5696, 10), dtype=tf.float32, name='dense_input'), name='dense_input', description=\"created by layer 'dense_input'\"), but it was called on an input with incompatible shape (None, 10).\n",
            "WARNING:tensorflow:Model was constructed with shape (None, 5696, 10) for input KerasTensor(type_spec=TensorSpec(shape=(None, 5696, 10), dtype=tf.float32, name='dense_input'), name='dense_input', description=\"created by layer 'dense_input'\"), but it was called on an input with incompatible shape (None, 10).\n",
            "194/195 [============================>.] - ETA: 0s - loss: 0.5627WARNING:tensorflow:Model was constructed with shape (None, 5696, 10) for input KerasTensor(type_spec=TensorSpec(shape=(None, 5696, 10), dtype=tf.float32, name='dense_input'), name='dense_input', description=\"created by layer 'dense_input'\"), but it was called on an input with incompatible shape (None, 10).\n",
            "195/195 [==============================] - 2s 3ms/step - loss: 0.5622 - val_loss: 0.5012\n",
            "Epoch 2/200\n",
            "195/195 [==============================] - 0s 2ms/step - loss: 0.4439 - val_loss: 0.4700\n",
            "Epoch 3/200\n",
            "195/195 [==============================] - 0s 2ms/step - loss: 0.4154 - val_loss: 0.4517\n",
            "Epoch 4/200\n",
            "195/195 [==============================] - 0s 2ms/step - loss: 0.3931 - val_loss: 0.4370\n",
            "Epoch 5/200\n",
            "195/195 [==============================] - 0s 2ms/step - loss: 0.3762 - val_loss: 0.4176\n",
            "Epoch 6/200\n",
            "195/195 [==============================] - 0s 2ms/step - loss: 0.3622 - val_loss: 0.4240\n",
            "Epoch 7/200\n",
            "195/195 [==============================] - 0s 2ms/step - loss: 0.3439 - val_loss: 0.3890\n",
            "Epoch 8/200\n",
            "195/195 [==============================] - 0s 2ms/step - loss: 0.3309 - val_loss: 0.3727\n",
            "Epoch 9/200\n",
            "195/195 [==============================] - 0s 2ms/step - loss: 0.3167 - val_loss: 0.3782\n",
            "Epoch 10/200\n",
            "195/195 [==============================] - 0s 2ms/step - loss: 0.3056 - val_loss: 0.3516\n",
            "Epoch 11/200\n",
            "195/195 [==============================] - 0s 2ms/step - loss: 0.2927 - val_loss: 0.3426\n",
            "Epoch 12/200\n",
            "195/195 [==============================] - 0s 2ms/step - loss: 0.2826 - val_loss: 0.3525\n",
            "Epoch 13/200\n",
            "195/195 [==============================] - 0s 2ms/step - loss: 0.2718 - val_loss: 0.3266\n",
            "Epoch 14/200\n",
            "195/195 [==============================] - 0s 2ms/step - loss: 0.2646 - val_loss: 0.3652\n",
            "Epoch 15/200\n",
            "195/195 [==============================] - 0s 2ms/step - loss: 0.2565 - val_loss: 0.3127\n",
            "Epoch 16/200\n",
            "195/195 [==============================] - 0s 2ms/step - loss: 0.2500 - val_loss: 0.3064\n",
            "Epoch 17/200\n",
            "195/195 [==============================] - 0s 2ms/step - loss: 0.2419 - val_loss: 0.3116\n",
            "Epoch 18/200\n",
            "195/195 [==============================] - 0s 2ms/step - loss: 0.2462 - val_loss: 0.3355\n",
            "Epoch 19/200\n",
            "195/195 [==============================] - 0s 2ms/step - loss: 0.2369 - val_loss: 0.2984\n",
            "Epoch 20/200\n",
            "195/195 [==============================] - 0s 2ms/step - loss: 0.2282 - val_loss: 0.3020\n",
            "Epoch 21/200\n",
            "195/195 [==============================] - 0s 2ms/step - loss: 0.2270 - val_loss: 0.2974\n",
            "Epoch 22/200\n",
            "195/195 [==============================] - 0s 2ms/step - loss: 0.2230 - val_loss: 0.2802\n",
            "Epoch 23/200\n",
            "195/195 [==============================] - 0s 2ms/step - loss: 0.2154 - val_loss: 0.2691\n",
            "Epoch 24/200\n",
            "195/195 [==============================] - 0s 2ms/step - loss: 0.2144 - val_loss: 0.2749\n",
            "Epoch 25/200\n",
            "195/195 [==============================] - 0s 2ms/step - loss: 0.2122 - val_loss: 0.2675\n",
            "Epoch 26/200\n",
            "195/195 [==============================] - 0s 2ms/step - loss: 0.2107 - val_loss: 0.2608\n",
            "Epoch 27/200\n",
            "195/195 [==============================] - 0s 2ms/step - loss: 0.2061 - val_loss: 0.2616\n",
            "Epoch 28/200\n",
            "195/195 [==============================] - 0s 2ms/step - loss: 0.2033 - val_loss: 0.2663\n",
            "Epoch 29/200\n",
            "195/195 [==============================] - 0s 2ms/step - loss: 0.1959 - val_loss: 0.2526\n",
            "Epoch 30/200\n",
            "195/195 [==============================] - 0s 2ms/step - loss: 0.1952 - val_loss: 0.2616\n",
            "Epoch 31/200\n",
            "195/195 [==============================] - 0s 2ms/step - loss: 0.1959 - val_loss: 0.2673\n",
            "Epoch 32/200\n",
            "195/195 [==============================] - 0s 2ms/step - loss: 0.1904 - val_loss: 0.2538\n",
            "Epoch 33/200\n",
            "195/195 [==============================] - 0s 2ms/step - loss: 0.1918 - val_loss: 0.2617\n",
            "Epoch 34/200\n",
            "195/195 [==============================] - 0s 2ms/step - loss: 0.1883 - val_loss: 0.2571\n",
            "Epoch 35/200\n",
            "195/195 [==============================] - 0s 2ms/step - loss: 0.1855 - val_loss: 0.2504\n",
            "Epoch 36/200\n",
            "195/195 [==============================] - 0s 2ms/step - loss: 0.1861 - val_loss: 0.2490\n",
            "Epoch 37/200\n",
            "195/195 [==============================] - 0s 2ms/step - loss: 0.1808 - val_loss: 0.2835\n",
            "Epoch 38/200\n",
            "195/195 [==============================] - 0s 2ms/step - loss: 0.1841 - val_loss: 0.2448\n",
            "Epoch 39/200\n",
            "195/195 [==============================] - 0s 2ms/step - loss: 0.1781 - val_loss: 0.2526\n",
            "Epoch 40/200\n",
            "195/195 [==============================] - 0s 2ms/step - loss: 0.1819 - val_loss: 0.2483\n",
            "Epoch 41/200\n",
            "195/195 [==============================] - 0s 2ms/step - loss: 0.1866 - val_loss: 0.2380\n",
            "Epoch 42/200\n",
            "195/195 [==============================] - 0s 2ms/step - loss: 0.1697 - val_loss: 0.2396\n",
            "Epoch 43/200\n",
            "195/195 [==============================] - 0s 2ms/step - loss: 0.1706 - val_loss: 0.2468\n",
            "Epoch 44/200\n",
            "195/195 [==============================] - 0s 2ms/step - loss: 0.1783 - val_loss: 0.2468\n",
            "Epoch 45/200\n",
            "195/195 [==============================] - 0s 2ms/step - loss: 0.1677 - val_loss: 0.2560\n",
            "Epoch 46/200\n",
            "195/195 [==============================] - 0s 2ms/step - loss: 0.1703 - val_loss: 0.2493\n",
            "Epoch 47/200\n",
            "195/195 [==============================] - 0s 2ms/step - loss: 0.1650 - val_loss: 0.2585\n",
            "Epoch 48/200\n",
            "195/195 [==============================] - 0s 2ms/step - loss: 0.1684 - val_loss: 0.2448\n",
            "Epoch 49/200\n",
            "195/195 [==============================] - 0s 2ms/step - loss: 0.1651 - val_loss: 0.2381\n",
            "Epoch 50/200\n",
            "195/195 [==============================] - 0s 2ms/step - loss: 0.1624 - val_loss: 0.2319\n",
            "Epoch 51/200\n",
            "195/195 [==============================] - 0s 2ms/step - loss: 0.1616 - val_loss: 0.2566\n",
            "Epoch 52/200\n",
            "195/195 [==============================] - 0s 2ms/step - loss: 0.1622 - val_loss: 0.2398\n",
            "Epoch 53/200\n",
            "195/195 [==============================] - 0s 2ms/step - loss: 0.1637 - val_loss: 0.2608\n",
            "Epoch 54/200\n",
            "195/195 [==============================] - 0s 2ms/step - loss: 0.1627 - val_loss: 0.2740\n",
            "Epoch 55/200\n",
            "195/195 [==============================] - 0s 2ms/step - loss: 0.1562 - val_loss: 0.2311\n",
            "Epoch 56/200\n",
            "195/195 [==============================] - 0s 2ms/step - loss: 0.1591 - val_loss: 0.2544\n",
            "Epoch 57/200\n",
            "195/195 [==============================] - 0s 2ms/step - loss: 0.1554 - val_loss: 0.2325\n",
            "Epoch 58/200\n",
            "195/195 [==============================] - 0s 2ms/step - loss: 0.1487 - val_loss: 0.2355\n",
            "Epoch 59/200\n",
            "195/195 [==============================] - 0s 2ms/step - loss: 0.1582 - val_loss: 0.2417\n",
            "Epoch 60/200\n",
            "195/195 [==============================] - 0s 2ms/step - loss: 0.1523 - val_loss: 0.2369\n",
            "Epoch 61/200\n",
            "195/195 [==============================] - 0s 2ms/step - loss: 0.1525 - val_loss: 0.2265\n",
            "Epoch 62/200\n",
            "195/195 [==============================] - 0s 2ms/step - loss: 0.1498 - val_loss: 0.2276\n",
            "Epoch 63/200\n",
            "195/195 [==============================] - 0s 2ms/step - loss: 0.1510 - val_loss: 0.2655\n",
            "Epoch 64/200\n",
            "195/195 [==============================] - 0s 2ms/step - loss: 0.1466 - val_loss: 0.2792\n",
            "Epoch 65/200\n",
            "195/195 [==============================] - 0s 2ms/step - loss: 0.1536 - val_loss: 0.2423\n",
            "Epoch 66/200\n",
            "195/195 [==============================] - 0s 2ms/step - loss: 0.1523 - val_loss: 0.2388\n",
            "Epoch 67/200\n",
            "195/195 [==============================] - 0s 2ms/step - loss: 0.1569 - val_loss: 0.2305\n",
            "Epoch 68/200\n",
            "195/195 [==============================] - 0s 2ms/step - loss: 0.1438 - val_loss: 0.2381\n",
            "Epoch 69/200\n",
            "195/195 [==============================] - 0s 2ms/step - loss: 0.1409 - val_loss: 0.2348\n",
            "Epoch 70/200\n",
            "195/195 [==============================] - 0s 2ms/step - loss: 0.1465 - val_loss: 0.2268\n",
            "Epoch 71/200\n",
            "195/195 [==============================] - 0s 2ms/step - loss: 0.1453 - val_loss: 0.2633\n",
            "Epoch 72/200\n",
            "195/195 [==============================] - 0s 2ms/step - loss: 0.1452 - val_loss: 0.2246\n",
            "Epoch 73/200\n",
            "195/195 [==============================] - 0s 2ms/step - loss: 0.1436 - val_loss: 0.2547\n",
            "Epoch 74/200\n",
            "195/195 [==============================] - 0s 2ms/step - loss: 0.1405 - val_loss: 0.2678\n",
            "Epoch 75/200\n",
            "195/195 [==============================] - 0s 2ms/step - loss: 0.1389 - val_loss: 0.2998\n",
            "Epoch 76/200\n",
            "195/195 [==============================] - 0s 2ms/step - loss: 0.1420 - val_loss: 0.2849\n",
            "Epoch 77/200\n",
            "195/195 [==============================] - 0s 2ms/step - loss: 0.1454 - val_loss: 0.2406\n",
            "Epoch 78/200\n",
            "195/195 [==============================] - 0s 2ms/step - loss: 0.1375 - val_loss: 0.2619\n",
            "Epoch 79/200\n",
            "195/195 [==============================] - 0s 2ms/step - loss: 0.1381 - val_loss: 0.2304\n",
            "Epoch 80/200\n",
            "195/195 [==============================] - 0s 2ms/step - loss: 0.1419 - val_loss: 0.2728\n",
            "Epoch 81/200\n",
            "195/195 [==============================] - 0s 2ms/step - loss: 0.1375 - val_loss: 0.2312\n",
            "Epoch 82/200\n",
            "195/195 [==============================] - 0s 2ms/step - loss: 0.1395 - val_loss: 0.2633\n",
            "Epoch 83/200\n",
            "195/195 [==============================] - 0s 2ms/step - loss: 0.1374 - val_loss: 0.2410\n",
            "Epoch 84/200\n",
            "195/195 [==============================] - 0s 2ms/step - loss: 0.1347 - val_loss: 0.2652\n",
            "Epoch 85/200\n",
            "195/195 [==============================] - 0s 2ms/step - loss: 0.1390 - val_loss: 0.2543\n",
            "Epoch 86/200\n",
            "195/195 [==============================] - 0s 2ms/step - loss: 0.1404 - val_loss: 0.2564\n",
            "Epoch 87/200\n",
            "195/195 [==============================] - 0s 2ms/step - loss: 0.1293 - val_loss: 0.2402\n",
            "Epoch 88/200\n",
            "195/195 [==============================] - 0s 2ms/step - loss: 0.1309 - val_loss: 0.2421\n",
            "Epoch 89/200\n",
            "195/195 [==============================] - 0s 2ms/step - loss: 0.1298 - val_loss: 0.2297\n",
            "Epoch 90/200\n",
            "195/195 [==============================] - 0s 2ms/step - loss: 0.1314 - val_loss: 0.2377\n",
            "Epoch 91/200\n",
            "195/195 [==============================] - 0s 2ms/step - loss: 0.1366 - val_loss: 0.2332\n",
            "Epoch 92/200\n",
            "195/195 [==============================] - 0s 2ms/step - loss: 0.1290 - val_loss: 0.2422\n",
            "Epoch 93/200\n",
            "195/195 [==============================] - 0s 2ms/step - loss: 0.1276 - val_loss: 0.2506\n",
            "Epoch 94/200\n",
            "195/195 [==============================] - 0s 2ms/step - loss: 0.1274 - val_loss: 0.2544\n",
            "Epoch 95/200\n",
            "195/195 [==============================] - 0s 2ms/step - loss: 0.1271 - val_loss: 0.2581\n",
            "Epoch 96/200\n",
            "195/195 [==============================] - 0s 2ms/step - loss: 0.1227 - val_loss: 0.2365\n",
            "Epoch 97/200\n",
            "195/195 [==============================] - 0s 2ms/step - loss: 0.1260 - val_loss: 0.2564\n",
            "Epoch 98/200\n",
            "195/195 [==============================] - 0s 2ms/step - loss: 0.1282 - val_loss: 0.2770\n",
            "Epoch 99/200\n",
            "195/195 [==============================] - 0s 2ms/step - loss: 0.1241 - val_loss: 0.2384\n",
            "Epoch 100/200\n",
            "195/195 [==============================] - 0s 2ms/step - loss: 0.1224 - val_loss: 0.2369\n",
            "Epoch 101/200\n",
            "195/195 [==============================] - 0s 2ms/step - loss: 0.1236 - val_loss: 0.2635\n",
            "Epoch 102/200\n",
            "195/195 [==============================] - 0s 2ms/step - loss: 0.1242 - val_loss: 0.2756\n",
            "Epoch 103/200\n",
            "195/195 [==============================] - 0s 2ms/step - loss: 0.1262 - val_loss: 0.2669\n",
            "Epoch 104/200\n",
            "195/195 [==============================] - 0s 2ms/step - loss: 0.1220 - val_loss: 0.2403\n",
            "Epoch 105/200\n",
            "195/195 [==============================] - 0s 2ms/step - loss: 0.1283 - val_loss: 0.2767\n",
            "Epoch 106/200\n",
            "195/195 [==============================] - 0s 2ms/step - loss: 0.1271 - val_loss: 0.2528\n",
            "Epoch 107/200\n",
            "195/195 [==============================] - 0s 2ms/step - loss: 0.1212 - val_loss: 0.2362\n",
            "Epoch 108/200\n",
            "195/195 [==============================] - 0s 2ms/step - loss: 0.1256 - val_loss: 0.2694\n",
            "Epoch 109/200\n",
            "195/195 [==============================] - 0s 2ms/step - loss: 0.1180 - val_loss: 0.2714\n",
            "Epoch 110/200\n",
            "195/195 [==============================] - 0s 2ms/step - loss: 0.1184 - val_loss: 0.2281\n",
            "Epoch 111/200\n",
            "195/195 [==============================] - 0s 2ms/step - loss: 0.1344 - val_loss: 0.2462\n",
            "Epoch 112/200\n",
            "195/195 [==============================] - 0s 2ms/step - loss: 0.1177 - val_loss: 0.2349\n",
            "Epoch 113/200\n",
            "195/195 [==============================] - 0s 2ms/step - loss: 0.1245 - val_loss: 0.2380\n",
            "Epoch 114/200\n",
            "195/195 [==============================] - 0s 2ms/step - loss: 0.1159 - val_loss: 0.2348\n",
            "Epoch 115/200\n",
            "195/195 [==============================] - 0s 2ms/step - loss: 0.1122 - val_loss: 0.2372\n",
            "Epoch 116/200\n",
            "195/195 [==============================] - 0s 2ms/step - loss: 0.1237 - val_loss: 0.2390\n",
            "Epoch 117/200\n",
            "195/195 [==============================] - 0s 2ms/step - loss: 0.1214 - val_loss: 0.2248\n",
            "Epoch 118/200\n",
            "195/195 [==============================] - 0s 2ms/step - loss: 0.1127 - val_loss: 0.2592\n",
            "Epoch 119/200\n",
            "195/195 [==============================] - 0s 2ms/step - loss: 0.1152 - val_loss: 0.2633\n",
            "Epoch 120/200\n",
            "195/195 [==============================] - 0s 2ms/step - loss: 0.1129 - val_loss: 0.2890\n",
            "Epoch 121/200\n",
            "195/195 [==============================] - 0s 2ms/step - loss: 0.1164 - val_loss: 0.2590\n",
            "Epoch 122/200\n",
            "195/195 [==============================] - 0s 2ms/step - loss: 0.1098 - val_loss: 0.2421\n",
            "Epoch 123/200\n",
            "195/195 [==============================] - 0s 2ms/step - loss: 0.1234 - val_loss: 0.2499\n",
            "Epoch 124/200\n",
            "195/195 [==============================] - 0s 2ms/step - loss: 0.1163 - val_loss: 0.2305\n",
            "Epoch 125/200\n",
            "195/195 [==============================] - 0s 2ms/step - loss: 0.1113 - val_loss: 0.2285\n",
            "Epoch 126/200\n",
            "195/195 [==============================] - 0s 2ms/step - loss: 0.1141 - val_loss: 0.2371\n",
            "Epoch 127/200\n",
            "195/195 [==============================] - 0s 2ms/step - loss: 0.1130 - val_loss: 0.2252\n",
            "Epoch 128/200\n",
            "195/195 [==============================] - 0s 2ms/step - loss: 0.1155 - val_loss: 0.2394\n",
            "Epoch 129/200\n",
            "195/195 [==============================] - 0s 2ms/step - loss: 0.1058 - val_loss: 0.2557\n",
            "Epoch 130/200\n",
            "195/195 [==============================] - 0s 2ms/step - loss: 0.1162 - val_loss: 0.2327\n",
            "Epoch 131/200\n",
            "195/195 [==============================] - 0s 2ms/step - loss: 0.1072 - val_loss: 0.2422\n",
            "Epoch 132/200\n",
            "195/195 [==============================] - 0s 2ms/step - loss: 0.1133 - val_loss: 0.2418\n",
            "Epoch 133/200\n",
            "195/195 [==============================] - 0s 2ms/step - loss: 0.1088 - val_loss: 0.2701\n",
            "Epoch 134/200\n",
            "195/195 [==============================] - 0s 2ms/step - loss: 0.1102 - val_loss: 0.2529\n",
            "Epoch 135/200\n",
            "195/195 [==============================] - 0s 2ms/step - loss: 0.1128 - val_loss: 0.2585\n",
            "Epoch 136/200\n",
            "195/195 [==============================] - 0s 2ms/step - loss: 0.1131 - val_loss: 0.2942\n",
            "Epoch 137/200\n",
            "195/195 [==============================] - 0s 2ms/step - loss: 0.1073 - val_loss: 0.2429\n",
            "Epoch 138/200\n",
            "195/195 [==============================] - 0s 2ms/step - loss: 0.1151 - val_loss: 0.2421\n",
            "Epoch 139/200\n",
            "195/195 [==============================] - 0s 2ms/step - loss: 0.1127 - val_loss: 0.2340\n",
            "Epoch 140/200\n",
            "195/195 [==============================] - 0s 2ms/step - loss: 0.0995 - val_loss: 0.2350\n",
            "Epoch 141/200\n",
            "195/195 [==============================] - 0s 2ms/step - loss: 0.1191 - val_loss: 0.2677\n",
            "Epoch 142/200\n",
            "195/195 [==============================] - 0s 2ms/step - loss: 0.1100 - val_loss: 0.2461\n",
            "Epoch 143/200\n",
            "195/195 [==============================] - 0s 2ms/step - loss: 0.1128 - val_loss: 0.2591\n",
            "Epoch 144/200\n",
            "195/195 [==============================] - 0s 2ms/step - loss: 0.1101 - val_loss: 0.2208\n",
            "Epoch 145/200\n",
            "195/195 [==============================] - 0s 2ms/step - loss: 0.1035 - val_loss: 0.2629\n",
            "Epoch 146/200\n",
            "195/195 [==============================] - 0s 2ms/step - loss: 0.1060 - val_loss: 0.2396\n",
            "Epoch 147/200\n",
            "195/195 [==============================] - 0s 2ms/step - loss: 0.1081 - val_loss: 0.2440\n",
            "Epoch 148/200\n",
            "195/195 [==============================] - 0s 2ms/step - loss: 0.1051 - val_loss: 0.2562\n",
            "Epoch 149/200\n",
            "195/195 [==============================] - 0s 2ms/step - loss: 0.1031 - val_loss: 0.2369\n",
            "Epoch 150/200\n",
            "195/195 [==============================] - 0s 2ms/step - loss: 0.1038 - val_loss: 0.2866\n",
            "Epoch 151/200\n",
            "195/195 [==============================] - 0s 2ms/step - loss: 0.1101 - val_loss: 0.2410\n",
            "Epoch 152/200\n",
            "195/195 [==============================] - 0s 2ms/step - loss: 0.1106 - val_loss: 0.2496\n",
            "Epoch 153/200\n",
            "195/195 [==============================] - 0s 2ms/step - loss: 0.1059 - val_loss: 0.2327\n",
            "Epoch 154/200\n",
            "195/195 [==============================] - 0s 2ms/step - loss: 0.1044 - val_loss: 0.2322\n",
            "Epoch 155/200\n",
            "195/195 [==============================] - 0s 2ms/step - loss: 0.1044 - val_loss: 0.2681\n",
            "Epoch 156/200\n",
            "195/195 [==============================] - 0s 2ms/step - loss: 0.1001 - val_loss: 0.2551\n",
            "Epoch 157/200\n",
            "195/195 [==============================] - 0s 2ms/step - loss: 0.1072 - val_loss: 0.2580\n",
            "Epoch 158/200\n",
            "195/195 [==============================] - 0s 2ms/step - loss: 0.1026 - val_loss: 0.2735\n",
            "Epoch 159/200\n",
            "195/195 [==============================] - 0s 2ms/step - loss: 0.0997 - val_loss: 0.2595\n",
            "Epoch 160/200\n",
            "195/195 [==============================] - 0s 2ms/step - loss: 0.0987 - val_loss: 0.2353\n",
            "Epoch 161/200\n",
            "195/195 [==============================] - 0s 2ms/step - loss: 0.0997 - val_loss: 0.2382\n",
            "Epoch 162/200\n",
            "195/195 [==============================] - 0s 2ms/step - loss: 0.1074 - val_loss: 0.2987\n",
            "Epoch 163/200\n",
            "195/195 [==============================] - 0s 2ms/step - loss: 0.1043 - val_loss: 0.2706\n",
            "Epoch 164/200\n",
            "195/195 [==============================] - 0s 2ms/step - loss: 0.0966 - val_loss: 0.2332\n",
            "Epoch 165/200\n",
            "195/195 [==============================] - 0s 2ms/step - loss: 0.1108 - val_loss: 0.2626\n",
            "Epoch 166/200\n",
            "195/195 [==============================] - 0s 2ms/step - loss: 0.1079 - val_loss: 0.2433\n",
            "Epoch 167/200\n",
            "195/195 [==============================] - 0s 2ms/step - loss: 0.0945 - val_loss: 0.2577\n",
            "Epoch 168/200\n",
            "195/195 [==============================] - 0s 2ms/step - loss: 0.0996 - val_loss: 0.2409\n",
            "Epoch 169/200\n",
            "195/195 [==============================] - 0s 2ms/step - loss: 0.1023 - val_loss: 0.2570\n",
            "Epoch 170/200\n",
            "195/195 [==============================] - 0s 2ms/step - loss: 0.0955 - val_loss: 0.2302\n",
            "Epoch 171/200\n",
            "195/195 [==============================] - 0s 2ms/step - loss: 0.0960 - val_loss: 0.2508\n",
            "Epoch 172/200\n",
            "195/195 [==============================] - 0s 2ms/step - loss: 0.1092 - val_loss: 0.2542\n",
            "Epoch 173/200\n",
            "195/195 [==============================] - 0s 2ms/step - loss: 0.1010 - val_loss: 0.2359\n",
            "Epoch 174/200\n",
            "195/195 [==============================] - 0s 2ms/step - loss: 0.0922 - val_loss: 0.2589\n",
            "Epoch 175/200\n",
            "195/195 [==============================] - 0s 2ms/step - loss: 0.0909 - val_loss: 0.2314\n",
            "Epoch 176/200\n",
            "195/195 [==============================] - 0s 2ms/step - loss: 0.1014 - val_loss: 0.2238\n",
            "Epoch 177/200\n",
            "195/195 [==============================] - 0s 2ms/step - loss: 0.0961 - val_loss: 0.2620\n",
            "Epoch 178/200\n",
            "195/195 [==============================] - 0s 2ms/step - loss: 0.1062 - val_loss: 0.2647\n",
            "Epoch 179/200\n",
            "195/195 [==============================] - 0s 2ms/step - loss: 0.0985 - val_loss: 0.2477\n",
            "Epoch 180/200\n",
            "195/195 [==============================] - 0s 2ms/step - loss: 0.0942 - val_loss: 0.2283\n",
            "Epoch 181/200\n",
            "195/195 [==============================] - 0s 2ms/step - loss: 0.1005 - val_loss: 0.2528\n",
            "Epoch 182/200\n",
            "195/195 [==============================] - 0s 2ms/step - loss: 0.1149 - val_loss: 0.2338\n",
            "Epoch 183/200\n",
            "195/195 [==============================] - 0s 2ms/step - loss: 0.0942 - val_loss: 0.2198\n",
            "Epoch 184/200\n",
            "195/195 [==============================] - 0s 2ms/step - loss: 0.1002 - val_loss: 0.2464\n",
            "Epoch 185/200\n",
            "195/195 [==============================] - 0s 2ms/step - loss: 0.0955 - val_loss: 0.2340\n",
            "Epoch 186/200\n",
            "195/195 [==============================] - 0s 2ms/step - loss: 0.0963 - val_loss: 0.2454\n",
            "Epoch 187/200\n",
            "195/195 [==============================] - 0s 2ms/step - loss: 0.0915 - val_loss: 0.2381\n",
            "Epoch 188/200\n",
            "195/195 [==============================] - 0s 2ms/step - loss: 0.0871 - val_loss: 0.2458\n",
            "Epoch 189/200\n",
            "195/195 [==============================] - 0s 2ms/step - loss: 0.0941 - val_loss: 0.3485\n",
            "Epoch 190/200\n",
            "195/195 [==============================] - 0s 2ms/step - loss: 0.1045 - val_loss: 0.2719\n",
            "Epoch 191/200\n",
            "195/195 [==============================] - 0s 2ms/step - loss: 0.0959 - val_loss: 0.2235\n",
            "Epoch 192/200\n",
            "195/195 [==============================] - 0s 2ms/step - loss: 0.0937 - val_loss: 0.2548\n",
            "Epoch 193/200\n",
            "195/195 [==============================] - 0s 2ms/step - loss: 0.0961 - val_loss: 0.2648\n",
            "Epoch 194/200\n",
            "195/195 [==============================] - 0s 2ms/step - loss: 0.0928 - val_loss: 0.2431\n",
            "Epoch 195/200\n",
            "195/195 [==============================] - 0s 2ms/step - loss: 0.0952 - val_loss: 0.2437\n",
            "Epoch 196/200\n",
            "195/195 [==============================] - 0s 2ms/step - loss: 0.0909 - val_loss: 0.2296\n",
            "Epoch 197/200\n",
            "195/195 [==============================] - 0s 2ms/step - loss: 0.0977 - val_loss: 0.2569\n",
            "Epoch 198/200\n",
            "195/195 [==============================] - 0s 2ms/step - loss: 0.0986 - val_loss: 0.2422\n",
            "Epoch 199/200\n",
            "195/195 [==============================] - 0s 2ms/step - loss: 0.1000 - val_loss: 0.2568\n",
            "Epoch 200/200\n",
            "195/195 [==============================] - 0s 2ms/step - loss: 0.0930 - val_loss: 0.2531\n"
          ],
          "name": "stdout"
        }
      ]
    },
    {
      "cell_type": "code",
      "metadata": {
        "id": "TcSSwL3yVFe8",
        "colab": {
          "base_uri": "https://localhost:8080/"
        },
        "outputId": "7fd2b693-0137-4951-849c-743c5bdbf283"
      },
      "source": [
        "#9 layers dense\n",
        "prediction = model.predict_classes(x_train_scaled)\n",
        "confusion_matrix_ann = confusion_matrix(y_train, prediction)\n",
        "confusion_matrix_ann"
      ],
      "execution_count": null,
      "outputs": [
        {
          "output_type": "stream",
          "text": [
            "WARNING:tensorflow:Model was constructed with shape (None, 5696, 10) for input KerasTensor(type_spec=TensorSpec(shape=(None, 5696, 10), dtype=tf.float32, name='dense_input'), name='dense_input', description=\"created by layer 'dense_input'\"), but it was called on an input with incompatible shape (None, 10).\n"
          ],
          "name": "stdout"
        },
        {
          "output_type": "stream",
          "text": [
            "/usr/local/lib/python3.7/dist-packages/tensorflow/python/keras/engine/sequential.py:455: UserWarning:\n",
            "\n",
            "`model.predict_classes()` is deprecated and will be removed after 2021-01-01. Please use instead:* `np.argmax(model.predict(x), axis=-1)`,   if your model does multi-class classification   (e.g. if it uses a `softmax` last-layer activation).* `(model.predict(x) > 0.5).astype(\"int32\")`,   if your model does binary classification   (e.g. if it uses a `sigmoid` last-layer activation).\n",
            "\n"
          ],
          "name": "stderr"
        },
        {
          "output_type": "execute_result",
          "data": {
            "text/plain": [
              "array([[3726,  178],\n",
              "       [ 205, 3668]])"
            ]
          },
          "metadata": {
            "tags": []
          },
          "execution_count": 78
        }
      ]
    },
    {
      "cell_type": "code",
      "metadata": {
        "id": "iubAtHf_ZppL",
        "colab": {
          "base_uri": "https://localhost:8080/"
        },
        "outputId": "730a3b13-974c-46b7-b7c5-7ff97b4cf5d2"
      },
      "source": [
        "print(accuracy_score(y_train, prediction))\n",
        "print(precision_score(y_train, prediction))\n",
        "print(recall_score(y_train, prediction))\n",
        "print(f1_score(y_train, prediction))\n",
        "print(history.history)"
      ],
      "execution_count": null,
      "outputs": [
        {
          "output_type": "stream",
          "text": [
            "0.9507522180789507\n",
            "0.9537181487259491\n",
            "0.9470694552026853\n",
            "0.9503821738567171\n",
            "{'loss': [0.5621846914291382, 0.4439074397087097, 0.41541188955307007, 0.3931065499782562, 0.3762029707431793, 0.36216890811920166, 0.3438552916049957, 0.3308688998222351, 0.31671053171157837, 0.3056018054485321, 0.2926520109176636, 0.2826456129550934, 0.2718043029308319, 0.2646367847919464, 0.2565171420574188, 0.2500324845314026, 0.241859570145607, 0.24622343480587006, 0.23688681423664093, 0.2281830906867981, 0.22700044512748718, 0.2229825258255005, 0.2153778076171875, 0.2143847793340683, 0.2122408002614975, 0.21066246926784515, 0.2060929834842682, 0.20329736173152924, 0.19587479531764984, 0.19519221782684326, 0.19592386484146118, 0.19036725163459778, 0.19177214801311493, 0.18829120695590973, 0.18552877008914948, 0.18614916503429413, 0.18075288832187653, 0.18405653536319733, 0.17805872857570648, 0.18188540637493134, 0.18663351237773895, 0.1697249710559845, 0.1706007719039917, 0.1783147007226944, 0.16773490607738495, 0.17028123140335083, 0.16500085592269897, 0.16838331520557404, 0.16508345305919647, 0.16237495839595795, 0.16157372295856476, 0.1622079610824585, 0.16371874511241913, 0.162676602602005, 0.1561908721923828, 0.1590697467327118, 0.1554316282272339, 0.1486930549144745, 0.15819084644317627, 0.15229079127311707, 0.15254436433315277, 0.1497722864151001, 0.15104158222675323, 0.14659130573272705, 0.15360519289970398, 0.15234710276126862, 0.15692642331123352, 0.14376434683799744, 0.14086942374706268, 0.14649079740047455, 0.14529961347579956, 0.145220085978508, 0.14362354576587677, 0.14045661687850952, 0.13893699645996094, 0.14201802015304565, 0.14544737339019775, 0.13752485811710358, 0.13809451460838318, 0.1419161856174469, 0.13749320805072784, 0.13952380418777466, 0.13736021518707275, 0.13468003273010254, 0.13901682198047638, 0.14041806757450104, 0.12925663590431213, 0.130931094288826, 0.12982341647148132, 0.13144296407699585, 0.1366003155708313, 0.12901440262794495, 0.1275598108768463, 0.12738949060440063, 0.12712442874908447, 0.12265631556510925, 0.12596304714679718, 0.12822361290454865, 0.12411990016698837, 0.12236545979976654, 0.12361305952072144, 0.12415269762277603, 0.12620311975479126, 0.1219930425286293, 0.12832869589328766, 0.12712833285331726, 0.12115921825170517, 0.125567227602005, 0.11795317381620407, 0.11844344437122345, 0.13442359864711761, 0.11767949163913727, 0.12451978027820587, 0.11594186723232269, 0.11217933148145676, 0.12370652705430984, 0.12142032384872437, 0.11270459741353989, 0.11523839831352234, 0.1129470020532608, 0.11643467098474503, 0.109779492020607, 0.12338458746671677, 0.11631978303194046, 0.11134384572505951, 0.11410122364759445, 0.11303692311048508, 0.11553240567445755, 0.10581127554178238, 0.11621157824993134, 0.10718744993209839, 0.11330609023571014, 0.10876607894897461, 0.1101560965180397, 0.1128484383225441, 0.11314169317483902, 0.10732971876859665, 0.11514642089605331, 0.11272969841957092, 0.09948324412107468, 0.11909721046686172, 0.10996444523334503, 0.11277952790260315, 0.11006549000740051, 0.10351806879043579, 0.10595476627349854, 0.10813269019126892, 0.10508960485458374, 0.10314211249351501, 0.10377920418977737, 0.11006756126880646, 0.11058548092842102, 0.10588511824607849, 0.10442716628313065, 0.10436506569385529, 0.10009355843067169, 0.10719373822212219, 0.10261000692844391, 0.09965573996305466, 0.09870737046003342, 0.09966860711574554, 0.10736589878797531, 0.1042960062623024, 0.09657909721136093, 0.11083147674798965, 0.10788166522979736, 0.09450963884592056, 0.09959758073091507, 0.10232865065336227, 0.09545706957578659, 0.09601214528083801, 0.10921698063611984, 0.10103046894073486, 0.09222012013196945, 0.0909259021282196, 0.10143918544054031, 0.09612520784139633, 0.10619959980249405, 0.0985027328133583, 0.09421475231647491, 0.10052938759326935, 0.1148526594042778, 0.09420108795166016, 0.10021412372589111, 0.09546278417110443, 0.09631245583295822, 0.09146413207054138, 0.08711869269609451, 0.09412044286727905, 0.1044747531414032, 0.09591279178857803, 0.09373436123132706, 0.09609226137399673, 0.09275054931640625, 0.09515192359685898, 0.09093288332223892, 0.09770046919584274, 0.09863070398569107, 0.10002359002828598, 0.09296171367168427], 'val_loss': [0.5011919736862183, 0.46996039152145386, 0.4517483413219452, 0.43702375888824463, 0.4176466763019562, 0.4239935874938965, 0.3890146315097809, 0.3727167546749115, 0.37820157408714294, 0.3515799939632416, 0.3426109552383423, 0.35246315598487854, 0.3266083896160126, 0.3651566207408905, 0.31268659234046936, 0.3064129650592804, 0.31157568097114563, 0.3354703187942505, 0.29838138818740845, 0.3019654154777527, 0.29735639691352844, 0.2801814079284668, 0.26911473274230957, 0.2748655378818512, 0.2675156891345978, 0.2608257234096527, 0.26156070828437805, 0.26628655195236206, 0.2526025176048279, 0.2616115212440491, 0.26730120182037354, 0.25381097197532654, 0.2616506814956665, 0.2570646405220032, 0.25044921040534973, 0.24897857010364532, 0.28353118896484375, 0.24475878477096558, 0.25262245535850525, 0.24829809367656708, 0.23804457485675812, 0.23956416547298431, 0.24677303433418274, 0.24677270650863647, 0.255976140499115, 0.24925674498081207, 0.25853559374809265, 0.24482309818267822, 0.23807387053966522, 0.23191145062446594, 0.25657013058662415, 0.23975051939487457, 0.2608157992362976, 0.27395814657211304, 0.23106110095977783, 0.2543641924858093, 0.23249153792858124, 0.23545973002910614, 0.24168534576892853, 0.23691970109939575, 0.2265351563692093, 0.22763971984386444, 0.26546162366867065, 0.27916398644447327, 0.2422831505537033, 0.23879116773605347, 0.23045064508914948, 0.23807990550994873, 0.23480579257011414, 0.22684535384178162, 0.263271689414978, 0.22463412582874298, 0.2547107934951782, 0.26775044202804565, 0.2998424172401428, 0.2848656177520752, 0.24061504006385803, 0.2618601620197296, 0.2303561568260193, 0.27282464504241943, 0.23124873638153076, 0.2633095979690552, 0.2410496473312378, 0.2652290463447571, 0.2543070614337921, 0.25643762946128845, 0.24021503329277039, 0.2420596033334732, 0.2296883910894394, 0.23768086731433868, 0.23323078453540802, 0.24222205579280853, 0.25057274103164673, 0.25444573163986206, 0.2580547332763672, 0.23648543655872345, 0.25636059045791626, 0.2769694924354553, 0.2384244054555893, 0.2368924617767334, 0.26352962851524353, 0.27555909752845764, 0.2668827176094055, 0.2403084933757782, 0.2766776978969574, 0.2528093159198761, 0.2362218052148819, 0.2693881094455719, 0.2713647484779358, 0.22814041376113892, 0.2461935132741928, 0.23494891822338104, 0.23799510300159454, 0.23481355607509613, 0.23720666766166687, 0.23902030289173126, 0.22481641173362732, 0.259238064289093, 0.2633284628391266, 0.28895851969718933, 0.2589573562145233, 0.24211157858371735, 0.24994856119155884, 0.23049475252628326, 0.22854205965995789, 0.23712696135044098, 0.22517046332359314, 0.23943527042865753, 0.2557103633880615, 0.23269875347614288, 0.24219129979610443, 0.2418423891067505, 0.2701113522052765, 0.25291091203689575, 0.25849029421806335, 0.29415127635002136, 0.2429221123456955, 0.24206674098968506, 0.23399527370929718, 0.2350156307220459, 0.26771777868270874, 0.2460680603981018, 0.2591165602207184, 0.22081147134304047, 0.26285985112190247, 0.23955275118350983, 0.24401308596134186, 0.25615715980529785, 0.23690734803676605, 0.2866034507751465, 0.24097421765327454, 0.24963150918483734, 0.23269838094711304, 0.23215806484222412, 0.26813530921936035, 0.2551287114620209, 0.25804460048675537, 0.2735060155391693, 0.2594836950302124, 0.2353234738111496, 0.23823225498199463, 0.2986873388290405, 0.27057406306266785, 0.23317736387252808, 0.2626000642776489, 0.2432887852191925, 0.25773513317108154, 0.24089615046977997, 0.2569772005081177, 0.23019546270370483, 0.25079646706581116, 0.25416114926338196, 0.23592697083950043, 0.25888144969940186, 0.23144130408763885, 0.22379069030284882, 0.2619767487049103, 0.2647451162338257, 0.24768921732902527, 0.22825461626052856, 0.2527616322040558, 0.23382972180843353, 0.2197611927986145, 0.24637293815612793, 0.23396795988082886, 0.24537211656570435, 0.23809798061847687, 0.24580475687980652, 0.3484792709350586, 0.27185294032096863, 0.22352434694766998, 0.25479546189308167, 0.2648048400878906, 0.2430858612060547, 0.24367161095142365, 0.2296362817287445, 0.2568996846675873, 0.242151141166687, 0.2568008005619049, 0.25306639075279236]}\n"
          ],
          "name": "stdout"
        }
      ]
    },
    {
      "cell_type": "code",
      "metadata": {
        "id": "511DK1nuZswP",
        "colab": {
          "base_uri": "https://localhost:8080/",
          "height": 464
        },
        "outputId": "0a64f794-7818-4bb5-e078-6aed1f16a8f0"
      },
      "source": [
        "print(history.history.keys())\n",
        "plt.rcParams['figure.figsize']=(15,5)\n",
        "plt.plot(history.history['loss'])\n",
        "plt.plot(history.history['val_loss'])\n",
        "plt.title('Model loss',fontsize =25)\n",
        "plt.ylabel('Loss')\n",
        "plt.xlabel('Epoch')\n",
        "ax = plt.axes()\n",
        "plt.legend(['Train', 'Validation'], loc='upper right')\n",
        "plt.show()"
      ],
      "execution_count": null,
      "outputs": [
        {
          "output_type": "stream",
          "text": [
            "dict_keys(['loss', 'val_loss'])\n"
          ],
          "name": "stdout"
        },
        {
          "output_type": "stream",
          "text": [
            "/usr/local/lib/python3.7/dist-packages/ipykernel_launcher.py:8: MatplotlibDeprecationWarning:\n",
            "\n",
            "Adding an axes using the same arguments as a previous axes currently reuses the earlier instance.  In a future version, a new instance will always be created and returned.  Meanwhile, this warning can be suppressed, and the future behavior ensured, by passing a unique label to each axes instance.\n",
            "\n"
          ],
          "name": "stderr"
        },
        {
          "output_type": "display_data",
          "data": {
            "image/png": "[encoded data removed]",
            "text/plain": [
              "<Figure size 1080x360 with 1 Axes>"
            ]
          },
          "metadata": {
            "tags": [],
            "needs_background": "light"
          }
        }
      ]
    },
    {
      "cell_type": "code",
      "metadata": {
        "id": "VJ98HyxmNPBJ"
      },
      "source": [
        "#With the given scores, we can easily see that the random forest performes the best, so lets pickle that model."
      ],
      "execution_count": 85,
      "outputs": []
    },
    {
      "cell_type": "code",
      "metadata": {
        "id": "T8vCrEEbRtKZ"
      },
      "source": [
        "import pickle \n",
        "pickle.dump(random_forest, open('stroke_clf.pkl', 'wb'))"
      ],
      "execution_count": null,
      "outputs": []
    },
    {
      "cell_type": "code",
      "metadata": {
        "colab": {
          "base_uri": "https://localhost:8080/"
        },
        "id": "cq5RyxA7tK0g",
        "outputId": "6863a97c-4759-4c89-88b6-7a02d7eb2074"
      },
      "source": [
        "random_forest.predict_proba([[0, 0,  0,  0,  0,\n",
        "        0, 0, 0, 0, 0]])"
      ],
      "execution_count": null,
      "outputs": [
        {
          "output_type": "execute_result",
          "data": {
            "text/plain": [
              "array([[0.016, 0.984]])"
            ]
          },
          "metadata": {
            "tags": []
          },
          "execution_count": 84
        }
      ]
    }
  ]
}