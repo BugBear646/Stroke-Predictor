{
  "nbformat": 4,
  "nbformat_minor": 0,
  "metadata": {
    "colab": {
      "name": "Stroke_Model.ipynb",
      "provenance": [],
      "toc_visible": true,
      "authorship_tag": "ABX9TyM7X99DNNrtYJwSuK6FmevJ",
      "include_colab_link": true
    },
    "kernelspec": {
      "name": "python3",
      "display_name": "Python 3"
    },
    "language_info": {
      "name": "python"
    }
  },
  "cells": [
    {
      "cell_type": "markdown",
      "metadata": {
        "id": "view-in-github",
        "colab_type": "text"
      },
      "source": [
        "<a href=\"https://colab.research.google.com/github/BugBear646/Stroke-Predictor/blob/main/Stroke_Model.ipynb\" target=\"_parent\"><img src=\"https://colab.research.google.com/assets/colab-badge.svg\" alt=\"Open In Colab\"/></a>"
      ]
    },
    {
      "cell_type": "code",
      "metadata": {
        "id": "I8Esytk4GU2a"
      },
      "source": [
        "import numpy as np\n",
        "import pandas as pd\n",
        "import matplotlib.pyplot as plt\n",
        "import seaborn as sns\n",
        "\n",
        "%matplotlib inline"
      ],
      "execution_count": null,
      "outputs": []
    },
    {
      "cell_type": "code",
      "metadata": {
        "colab": {
          "resources": {
            "http://localhost:8080/nbextensions/google.colab/files.js": {
              "data": "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",
              "ok": true,
              "headers": [
                [
                  "content-type",
                  "application/javascript"
                ]
              ],
              "status": 200,
              "status_text": ""
            }
          },
          "base_uri": "https://localhost:8080/",
          "height": 72
        },
        "id": "CfGHIRzTGZOm",
        "outputId": "5a3d4973-ee47-412c-d1c9-c75e9c74a75a"
      },
      "source": [
        "from google.colab import files\n",
        "uploaded = files.upload()\n",
        "# upload this file to drive then import. It will reduce the labor of importing the file each time."
      ],
      "execution_count": null,
      "outputs": [
        {
          "output_type": "display_data",
          "data": {
            "text/html": [
              "\n",
              "     <input type=\"file\" id=\"files-8b01b8e3-e74d-4b66-9f3b-e4bd809675f8\" name=\"files[]\" multiple disabled\n",
              "        style=\"border:none\" />\n",
              "     <output id=\"result-8b01b8e3-e74d-4b66-9f3b-e4bd809675f8\">\n",
              "      Upload widget is only available when the cell has been executed in the\n",
              "      current browser session. Please rerun this cell to enable.\n",
              "      </output>\n",
              "      <script src=\"/nbextensions/google.colab/files.js\"></script> "
            ],
            "text/plain": [
              "<IPython.core.display.HTML object>"
            ]
          },
          "metadata": {
            "tags": []
          }
        },
        {
          "output_type": "stream",
          "text": [
            "Saving healthcare-dataset-stroke-data.csv to healthcare-dataset-stroke-data.csv\n"
          ],
          "name": "stdout"
        }
      ]
    },
    {
      "cell_type": "code",
      "metadata": {
        "id": "5JjjMFVcGb0v"
      },
      "source": [
        "import io\n",
        "df = pd.read_csv(io.BytesIO(uploaded[\"healthcare-dataset-stroke-data.csv\"]))"
      ],
      "execution_count": null,
      "outputs": []
    },
    {
      "cell_type": "code",
      "metadata": {
        "colab": {
          "base_uri": "https://localhost:8080/"
        },
        "id": "9rADCJE4Gn69",
        "outputId": "b010efa4-b6e0-4a13-e52a-6710cb181ea6"
      },
      "source": [
        "df.info()"
      ],
      "execution_count": null,
      "outputs": [
        {
          "output_type": "stream",
          "text": [
            "<class 'pandas.core.frame.DataFrame'>\n",
            "RangeIndex: 5110 entries, 0 to 5109\n",
            "Data columns (total 12 columns):\n",
            " #   Column             Non-Null Count  Dtype  \n",
            "---  ------             --------------  -----  \n",
            " 0   id                 5110 non-null   int64  \n",
            " 1   gender             5110 non-null   object \n",
            " 2   age                5110 non-null   float64\n",
            " 3   hypertension       5110 non-null   int64  \n",
            " 4   heart_disease      5110 non-null   int64  \n",
            " 5   ever_married       5110 non-null   object \n",
            " 6   work_type          5110 non-null   object \n",
            " 7   Residence_type     5110 non-null   object \n",
            " 8   avg_glucose_level  5110 non-null   float64\n",
            " 9   bmi                4909 non-null   float64\n",
            " 10  smoking_status     5110 non-null   object \n",
            " 11  stroke             5110 non-null   int64  \n",
            "dtypes: float64(3), int64(4), object(5)\n",
            "memory usage: 479.2+ KB\n"
          ],
          "name": "stdout"
        }
      ]
    },
    {
      "cell_type": "code",
      "metadata": {
        "colab": {
          "base_uri": "https://localhost:8080/",
          "height": 204
        },
        "id": "jkQ-7P6SG6PN",
        "outputId": "f23ed7c4-15f9-45f9-c89b-acb0fb6f73f7"
      },
      "source": [
        "df.head()"
      ],
      "execution_count": null,
      "outputs": [
        {
          "output_type": "execute_result",
          "data": {
            "text/html": [
              "<div>\n",
              "<style scoped>\n",
              "    .dataframe tbody tr th:only-of-type {\n",
              "        vertical-align: middle;\n",
              "    }\n",
              "\n",
              "    .dataframe tbody tr th {\n",
              "        vertical-align: top;\n",
              "    }\n",
              "\n",
              "    .dataframe thead th {\n",
              "        text-align: right;\n",
              "    }\n",
              "</style>\n",
              "<table border=\"1\" class=\"dataframe\">\n",
              "  <thead>\n",
              "    <tr style=\"text-align: right;\">\n",
              "      <th></th>\n",
              "      <th>id</th>\n",
              "      <th>gender</th>\n",
              "      <th>age</th>\n",
              "      <th>hypertension</th>\n",
              "      <th>heart_disease</th>\n",
              "      <th>ever_married</th>\n",
              "      <th>work_type</th>\n",
              "      <th>Residence_type</th>\n",
              "      <th>avg_glucose_level</th>\n",
              "      <th>bmi</th>\n",
              "      <th>smoking_status</th>\n",
              "      <th>stroke</th>\n",
              "    </tr>\n",
              "  </thead>\n",
              "  <tbody>\n",
              "    <tr>\n",
              "      <th>0</th>\n",
              "      <td>9046</td>\n",
              "      <td>Male</td>\n",
              "      <td>67.0</td>\n",
              "      <td>0</td>\n",
              "      <td>1</td>\n",
              "      <td>Yes</td>\n",
              "      <td>Private</td>\n",
              "      <td>Urban</td>\n",
              "      <td>228.69</td>\n",
              "      <td>36.6</td>\n",
              "      <td>formerly smoked</td>\n",
              "      <td>1</td>\n",
              "    </tr>\n",
              "    <tr>\n",
              "      <th>1</th>\n",
              "      <td>51676</td>\n",
              "      <td>Female</td>\n",
              "      <td>61.0</td>\n",
              "      <td>0</td>\n",
              "      <td>0</td>\n",
              "      <td>Yes</td>\n",
              "      <td>Self-employed</td>\n",
              "      <td>Rural</td>\n",
              "      <td>202.21</td>\n",
              "      <td>NaN</td>\n",
              "      <td>never smoked</td>\n",
              "      <td>1</td>\n",
              "    </tr>\n",
              "    <tr>\n",
              "      <th>2</th>\n",
              "      <td>31112</td>\n",
              "      <td>Male</td>\n",
              "      <td>80.0</td>\n",
              "      <td>0</td>\n",
              "      <td>1</td>\n",
              "      <td>Yes</td>\n",
              "      <td>Private</td>\n",
              "      <td>Rural</td>\n",
              "      <td>105.92</td>\n",
              "      <td>32.5</td>\n",
              "      <td>never smoked</td>\n",
              "      <td>1</td>\n",
              "    </tr>\n",
              "    <tr>\n",
              "      <th>3</th>\n",
              "      <td>60182</td>\n",
              "      <td>Female</td>\n",
              "      <td>49.0</td>\n",
              "      <td>0</td>\n",
              "      <td>0</td>\n",
              "      <td>Yes</td>\n",
              "      <td>Private</td>\n",
              "      <td>Urban</td>\n",
              "      <td>171.23</td>\n",
              "      <td>34.4</td>\n",
              "      <td>smokes</td>\n",
              "      <td>1</td>\n",
              "    </tr>\n",
              "    <tr>\n",
              "      <th>4</th>\n",
              "      <td>1665</td>\n",
              "      <td>Female</td>\n",
              "      <td>79.0</td>\n",
              "      <td>1</td>\n",
              "      <td>0</td>\n",
              "      <td>Yes</td>\n",
              "      <td>Self-employed</td>\n",
              "      <td>Rural</td>\n",
              "      <td>174.12</td>\n",
              "      <td>24.0</td>\n",
              "      <td>never smoked</td>\n",
              "      <td>1</td>\n",
              "    </tr>\n",
              "  </tbody>\n",
              "</table>\n",
              "</div>"
            ],
            "text/plain": [
              "      id  gender   age  ...   bmi   smoking_status stroke\n",
              "0   9046    Male  67.0  ...  36.6  formerly smoked      1\n",
              "1  51676  Female  61.0  ...   NaN     never smoked      1\n",
              "2  31112    Male  80.0  ...  32.5     never smoked      1\n",
              "3  60182  Female  49.0  ...  34.4           smokes      1\n",
              "4   1665  Female  79.0  ...  24.0     never smoked      1\n",
              "\n",
              "[5 rows x 12 columns]"
            ]
          },
          "metadata": {
            "tags": []
          },
          "execution_count": 5
        }
      ]
    },
    {
      "cell_type": "code",
      "metadata": {
        "id": "H-63g6oRHYn2"
      },
      "source": [
        "#Targeted to predict a person’s probability of getting = p\n",
        "# max(p) = predicted_probability of changing the company.\n",
        "\n",
        "#In this analysis, since we are taking the data as a whole, candidate_id is not required."
      ],
      "execution_count": null,
      "outputs": []
    },
    {
      "cell_type": "code",
      "metadata": {
        "id": "up2eXhqE2oYP"
      },
      "source": [
        "df.drop('id', axis = 1, inplace = True)"
      ],
      "execution_count": null,
      "outputs": []
    },
    {
      "cell_type": "code",
      "metadata": {
        "colab": {
          "base_uri": "https://localhost:8080/",
          "height": 204
        },
        "id": "sSyHD2jzHO1H",
        "outputId": "67efaa43-88aa-4f36-d390-650dc9644179"
      },
      "source": [
        "df.head()"
      ],
      "execution_count": null,
      "outputs": [
        {
          "output_type": "execute_result",
          "data": {
            "text/html": [
              "<div>\n",
              "<style scoped>\n",
              "    .dataframe tbody tr th:only-of-type {\n",
              "        vertical-align: middle;\n",
              "    }\n",
              "\n",
              "    .dataframe tbody tr th {\n",
              "        vertical-align: top;\n",
              "    }\n",
              "\n",
              "    .dataframe thead th {\n",
              "        text-align: right;\n",
              "    }\n",
              "</style>\n",
              "<table border=\"1\" class=\"dataframe\">\n",
              "  <thead>\n",
              "    <tr style=\"text-align: right;\">\n",
              "      <th></th>\n",
              "      <th>gender</th>\n",
              "      <th>age</th>\n",
              "      <th>hypertension</th>\n",
              "      <th>heart_disease</th>\n",
              "      <th>ever_married</th>\n",
              "      <th>work_type</th>\n",
              "      <th>Residence_type</th>\n",
              "      <th>avg_glucose_level</th>\n",
              "      <th>bmi</th>\n",
              "      <th>smoking_status</th>\n",
              "      <th>stroke</th>\n",
              "    </tr>\n",
              "  </thead>\n",
              "  <tbody>\n",
              "    <tr>\n",
              "      <th>0</th>\n",
              "      <td>Male</td>\n",
              "      <td>67.0</td>\n",
              "      <td>0</td>\n",
              "      <td>1</td>\n",
              "      <td>Yes</td>\n",
              "      <td>Private</td>\n",
              "      <td>Urban</td>\n",
              "      <td>228.69</td>\n",
              "      <td>36.6</td>\n",
              "      <td>formerly smoked</td>\n",
              "      <td>1</td>\n",
              "    </tr>\n",
              "    <tr>\n",
              "      <th>1</th>\n",
              "      <td>Female</td>\n",
              "      <td>61.0</td>\n",
              "      <td>0</td>\n",
              "      <td>0</td>\n",
              "      <td>Yes</td>\n",
              "      <td>Self-employed</td>\n",
              "      <td>Rural</td>\n",
              "      <td>202.21</td>\n",
              "      <td>NaN</td>\n",
              "      <td>never smoked</td>\n",
              "      <td>1</td>\n",
              "    </tr>\n",
              "    <tr>\n",
              "      <th>2</th>\n",
              "      <td>Male</td>\n",
              "      <td>80.0</td>\n",
              "      <td>0</td>\n",
              "      <td>1</td>\n",
              "      <td>Yes</td>\n",
              "      <td>Private</td>\n",
              "      <td>Rural</td>\n",
              "      <td>105.92</td>\n",
              "      <td>32.5</td>\n",
              "      <td>never smoked</td>\n",
              "      <td>1</td>\n",
              "    </tr>\n",
              "    <tr>\n",
              "      <th>3</th>\n",
              "      <td>Female</td>\n",
              "      <td>49.0</td>\n",
              "      <td>0</td>\n",
              "      <td>0</td>\n",
              "      <td>Yes</td>\n",
              "      <td>Private</td>\n",
              "      <td>Urban</td>\n",
              "      <td>171.23</td>\n",
              "      <td>34.4</td>\n",
              "      <td>smokes</td>\n",
              "      <td>1</td>\n",
              "    </tr>\n",
              "    <tr>\n",
              "      <th>4</th>\n",
              "      <td>Female</td>\n",
              "      <td>79.0</td>\n",
              "      <td>1</td>\n",
              "      <td>0</td>\n",
              "      <td>Yes</td>\n",
              "      <td>Self-employed</td>\n",
              "      <td>Rural</td>\n",
              "      <td>174.12</td>\n",
              "      <td>24.0</td>\n",
              "      <td>never smoked</td>\n",
              "      <td>1</td>\n",
              "    </tr>\n",
              "  </tbody>\n",
              "</table>\n",
              "</div>"
            ],
            "text/plain": [
              "   gender   age  hypertension  ...   bmi   smoking_status stroke\n",
              "0    Male  67.0             0  ...  36.6  formerly smoked      1\n",
              "1  Female  61.0             0  ...   NaN     never smoked      1\n",
              "2    Male  80.0             0  ...  32.5     never smoked      1\n",
              "3  Female  49.0             0  ...  34.4           smokes      1\n",
              "4  Female  79.0             1  ...  24.0     never smoked      1\n",
              "\n",
              "[5 rows x 11 columns]"
            ]
          },
          "metadata": {
            "tags": []
          },
          "execution_count": 8
        }
      ]
    },
    {
      "cell_type": "code",
      "metadata": {
        "colab": {
          "base_uri": "https://localhost:8080/"
        },
        "id": "6ssBKiQVIXAC",
        "outputId": "b417bc7a-f2ea-473b-f134-d1cc8a0f5c02"
      },
      "source": [
        "df['gender'].unique()"
      ],
      "execution_count": null,
      "outputs": [
        {
          "output_type": "execute_result",
          "data": {
            "text/plain": [
              "array(['Male', 'Female', 'Other'], dtype=object)"
            ]
          },
          "metadata": {
            "tags": []
          },
          "execution_count": 9
        }
      ]
    },
    {
      "cell_type": "code",
      "metadata": {
        "id": "dHNctBeFIhtT"
      },
      "source": [
        "dict1 = {'Male' : 0, 'Female' : 1, 'Other' : 2}\n",
        "df['gender'] = [dict1[item] for item in df['gender']]"
      ],
      "execution_count": null,
      "outputs": []
    },
    {
      "cell_type": "code",
      "metadata": {
        "colab": {
          "base_uri": "https://localhost:8080/",
          "height": 204
        },
        "id": "TVb_pzWiI4-T",
        "outputId": "842e3834-afc7-46bd-d40c-102b10cc11e9"
      },
      "source": [
        "df.head()"
      ],
      "execution_count": null,
      "outputs": [
        {
          "output_type": "execute_result",
          "data": {
            "text/html": [
              "<div>\n",
              "<style scoped>\n",
              "    .dataframe tbody tr th:only-of-type {\n",
              "        vertical-align: middle;\n",
              "    }\n",
              "\n",
              "    .dataframe tbody tr th {\n",
              "        vertical-align: top;\n",
              "    }\n",
              "\n",
              "    .dataframe thead th {\n",
              "        text-align: right;\n",
              "    }\n",
              "</style>\n",
              "<table border=\"1\" class=\"dataframe\">\n",
              "  <thead>\n",
              "    <tr style=\"text-align: right;\">\n",
              "      <th></th>\n",
              "      <th>gender</th>\n",
              "      <th>age</th>\n",
              "      <th>hypertension</th>\n",
              "      <th>heart_disease</th>\n",
              "      <th>ever_married</th>\n",
              "      <th>work_type</th>\n",
              "      <th>Residence_type</th>\n",
              "      <th>avg_glucose_level</th>\n",
              "      <th>bmi</th>\n",
              "      <th>smoking_status</th>\n",
              "      <th>stroke</th>\n",
              "    </tr>\n",
              "  </thead>\n",
              "  <tbody>\n",
              "    <tr>\n",
              "      <th>0</th>\n",
              "      <td>0</td>\n",
              "      <td>67.0</td>\n",
              "      <td>0</td>\n",
              "      <td>1</td>\n",
              "      <td>Yes</td>\n",
              "      <td>Private</td>\n",
              "      <td>Urban</td>\n",
              "      <td>228.69</td>\n",
              "      <td>36.6</td>\n",
              "      <td>formerly smoked</td>\n",
              "      <td>1</td>\n",
              "    </tr>\n",
              "    <tr>\n",
              "      <th>1</th>\n",
              "      <td>1</td>\n",
              "      <td>61.0</td>\n",
              "      <td>0</td>\n",
              "      <td>0</td>\n",
              "      <td>Yes</td>\n",
              "      <td>Self-employed</td>\n",
              "      <td>Rural</td>\n",
              "      <td>202.21</td>\n",
              "      <td>NaN</td>\n",
              "      <td>never smoked</td>\n",
              "      <td>1</td>\n",
              "    </tr>\n",
              "    <tr>\n",
              "      <th>2</th>\n",
              "      <td>0</td>\n",
              "      <td>80.0</td>\n",
              "      <td>0</td>\n",
              "      <td>1</td>\n",
              "      <td>Yes</td>\n",
              "      <td>Private</td>\n",
              "      <td>Rural</td>\n",
              "      <td>105.92</td>\n",
              "      <td>32.5</td>\n",
              "      <td>never smoked</td>\n",
              "      <td>1</td>\n",
              "    </tr>\n",
              "    <tr>\n",
              "      <th>3</th>\n",
              "      <td>1</td>\n",
              "      <td>49.0</td>\n",
              "      <td>0</td>\n",
              "      <td>0</td>\n",
              "      <td>Yes</td>\n",
              "      <td>Private</td>\n",
              "      <td>Urban</td>\n",
              "      <td>171.23</td>\n",
              "      <td>34.4</td>\n",
              "      <td>smokes</td>\n",
              "      <td>1</td>\n",
              "    </tr>\n",
              "    <tr>\n",
              "      <th>4</th>\n",
              "      <td>1</td>\n",
              "      <td>79.0</td>\n",
              "      <td>1</td>\n",
              "      <td>0</td>\n",
              "      <td>Yes</td>\n",
              "      <td>Self-employed</td>\n",
              "      <td>Rural</td>\n",
              "      <td>174.12</td>\n",
              "      <td>24.0</td>\n",
              "      <td>never smoked</td>\n",
              "      <td>1</td>\n",
              "    </tr>\n",
              "  </tbody>\n",
              "</table>\n",
              "</div>"
            ],
            "text/plain": [
              "   gender   age  hypertension  ...   bmi   smoking_status stroke\n",
              "0       0  67.0             0  ...  36.6  formerly smoked      1\n",
              "1       1  61.0             0  ...   NaN     never smoked      1\n",
              "2       0  80.0             0  ...  32.5     never smoked      1\n",
              "3       1  49.0             0  ...  34.4           smokes      1\n",
              "4       1  79.0             1  ...  24.0     never smoked      1\n",
              "\n",
              "[5 rows x 11 columns]"
            ]
          },
          "metadata": {
            "tags": []
          },
          "execution_count": 11
        }
      ]
    },
    {
      "cell_type": "code",
      "metadata": {
        "colab": {
          "base_uri": "https://localhost:8080/"
        },
        "id": "BAcRD1lpJEt5",
        "outputId": "b807aea7-2e0b-4b61-8291-6fbed241e7f1"
      },
      "source": [
        "df['ever_married'].unique()"
      ],
      "execution_count": null,
      "outputs": [
        {
          "output_type": "execute_result",
          "data": {
            "text/plain": [
              "array(['Yes', 'No'], dtype=object)"
            ]
          },
          "metadata": {
            "tags": []
          },
          "execution_count": 12
        }
      ]
    },
    {
      "cell_type": "code",
      "metadata": {
        "id": "veGxv616JMuQ"
      },
      "source": [
        "dict2 = {'Yes' : 1, 'No' : 0}\n",
        "df['ever_married'] = [dict2[item] for item in df['ever_married']]"
      ],
      "execution_count": null,
      "outputs": []
    },
    {
      "cell_type": "code",
      "metadata": {
        "colab": {
          "base_uri": "https://localhost:8080/"
        },
        "id": "v-MDBxHLJeC5",
        "outputId": "02b22954-3db0-42f0-ba87-c696a3f70d2b"
      },
      "source": [
        "df['work_type'].unique()"
      ],
      "execution_count": null,
      "outputs": [
        {
          "output_type": "execute_result",
          "data": {
            "text/plain": [
              "array(['Private', 'Self-employed', 'Govt_job', 'children', 'Never_worked'],\n",
              "      dtype=object)"
            ]
          },
          "metadata": {
            "tags": []
          },
          "execution_count": 14
        }
      ]
    },
    {
      "cell_type": "code",
      "metadata": {
        "id": "FaXar-DnJft4"
      },
      "source": [
        "dict3 = {'Private' : 1, 'Self-employed': 2, 'Govt_job': 3, 'children':4, 'Never_worked':0}\n",
        "df['work_type'] = [dict3[item] for item in df['work_type']]"
      ],
      "execution_count": null,
      "outputs": []
    },
    {
      "cell_type": "code",
      "metadata": {
        "colab": {
          "base_uri": "https://localhost:8080/"
        },
        "id": "4s-qFJ-dJ9-t",
        "outputId": "cfe11ad4-ad2c-46dc-aac1-67bbe2050e2a"
      },
      "source": [
        "df['Residence_type'].unique()"
      ],
      "execution_count": null,
      "outputs": [
        {
          "output_type": "execute_result",
          "data": {
            "text/plain": [
              "array(['Urban', 'Rural'], dtype=object)"
            ]
          },
          "metadata": {
            "tags": []
          },
          "execution_count": 16
        }
      ]
    },
    {
      "cell_type": "code",
      "metadata": {
        "id": "9VyEj3g1KD91"
      },
      "source": [
        "dict4 = {'Urban' : 1, 'Rural' : 0}\n",
        "df['Residence_type'] = [dict4[item] for item in df['Residence_type']]"
      ],
      "execution_count": null,
      "outputs": []
    },
    {
      "cell_type": "code",
      "metadata": {
        "colab": {
          "base_uri": "https://localhost:8080/"
        },
        "id": "T06DLsETKaJL",
        "outputId": "dd97d790-1782-4231-8a01-9f5ba30ba99a"
      },
      "source": [
        "df['smoking_status'].unique()"
      ],
      "execution_count": null,
      "outputs": [
        {
          "output_type": "execute_result",
          "data": {
            "text/plain": [
              "array(['formerly smoked', 'never smoked', 'smokes', 'Unknown'],\n",
              "      dtype=object)"
            ]
          },
          "metadata": {
            "tags": []
          },
          "execution_count": 18
        }
      ]
    },
    {
      "cell_type": "code",
      "metadata": {
        "id": "x1Japj9MKhGa"
      },
      "source": [
        "dict5 = {'formerly smoked':1, 'never smoked':2, 'smokes':3, 'Unknown':0}\n",
        "df['smoking_status'] = [dict5[item] for item in df['smoking_status']]"
      ],
      "execution_count": null,
      "outputs": []
    },
    {
      "cell_type": "code",
      "metadata": {
        "colab": {
          "base_uri": "https://localhost:8080/"
        },
        "id": "JNQx2P8yK1Pr",
        "outputId": "c209db83-281e-4cba-f09d-44a940ae87d5"
      },
      "source": [
        "df['age'].unique()"
      ],
      "execution_count": null,
      "outputs": [
        {
          "output_type": "execute_result",
          "data": {
            "text/plain": [
              "array([6.70e+01, 6.10e+01, 8.00e+01, 4.90e+01, 7.90e+01, 8.10e+01,\n",
              "       7.40e+01, 6.90e+01, 5.90e+01, 7.80e+01, 5.40e+01, 5.00e+01,\n",
              "       6.40e+01, 7.50e+01, 6.00e+01, 5.70e+01, 7.10e+01, 5.20e+01,\n",
              "       8.20e+01, 6.50e+01, 5.80e+01, 4.20e+01, 4.80e+01, 7.20e+01,\n",
              "       6.30e+01, 7.60e+01, 3.90e+01, 7.70e+01, 7.30e+01, 5.60e+01,\n",
              "       4.50e+01, 7.00e+01, 6.60e+01, 5.10e+01, 4.30e+01, 6.80e+01,\n",
              "       4.70e+01, 5.30e+01, 3.80e+01, 5.50e+01, 1.32e+00, 4.60e+01,\n",
              "       3.20e+01, 1.40e+01, 3.00e+00, 8.00e+00, 3.70e+01, 4.00e+01,\n",
              "       3.50e+01, 2.00e+01, 4.40e+01, 2.50e+01, 2.70e+01, 2.30e+01,\n",
              "       1.70e+01, 1.30e+01, 4.00e+00, 1.60e+01, 2.20e+01, 3.00e+01,\n",
              "       2.90e+01, 1.10e+01, 2.10e+01, 1.80e+01, 3.30e+01, 2.40e+01,\n",
              "       3.40e+01, 3.60e+01, 6.40e-01, 4.10e+01, 8.80e-01, 5.00e+00,\n",
              "       2.60e+01, 3.10e+01, 7.00e+00, 1.20e+01, 6.20e+01, 2.00e+00,\n",
              "       9.00e+00, 1.50e+01, 2.80e+01, 1.00e+01, 1.80e+00, 3.20e-01,\n",
              "       1.08e+00, 1.90e+01, 6.00e+00, 1.16e+00, 1.00e+00, 1.40e+00,\n",
              "       1.72e+00, 2.40e-01, 1.64e+00, 1.56e+00, 7.20e-01, 1.88e+00,\n",
              "       1.24e+00, 8.00e-01, 4.00e-01, 8.00e-02, 1.48e+00, 5.60e-01,\n",
              "       4.80e-01, 1.60e-01])"
            ]
          },
          "metadata": {
            "tags": []
          },
          "execution_count": 20
        }
      ]
    },
    {
      "cell_type": "code",
      "metadata": {
        "colab": {
          "base_uri": "https://localhost:8080/"
        },
        "id": "Y6ic_ghIK-ML",
        "outputId": "7a915c44-bd08-4003-9901-bb63cea0c9f2"
      },
      "source": [
        "df['hypertension'].unique()"
      ],
      "execution_count": null,
      "outputs": [
        {
          "output_type": "execute_result",
          "data": {
            "text/plain": [
              "array([0, 1])"
            ]
          },
          "metadata": {
            "tags": []
          },
          "execution_count": 21
        }
      ]
    },
    {
      "cell_type": "code",
      "metadata": {
        "colab": {
          "base_uri": "https://localhost:8080/"
        },
        "id": "kFQW_wVJLQ25",
        "outputId": "db467136-5dbc-49b7-b1e2-369a7102c62a"
      },
      "source": [
        "df['heart_disease'].unique()"
      ],
      "execution_count": null,
      "outputs": [
        {
          "output_type": "execute_result",
          "data": {
            "text/plain": [
              "array([1, 0])"
            ]
          },
          "metadata": {
            "tags": []
          },
          "execution_count": 22
        }
      ]
    },
    {
      "cell_type": "code",
      "metadata": {
        "colab": {
          "base_uri": "https://localhost:8080/"
        },
        "id": "ClA4fi17LavN",
        "outputId": "298fb3be-6d54-4960-982f-f647dbf67885"
      },
      "source": [
        "df['avg_glucose_level'].unique()"
      ],
      "execution_count": null,
      "outputs": [
        {
          "output_type": "execute_result",
          "data": {
            "text/plain": [
              "array([228.69, 202.21, 105.92, ...,  82.99, 166.29,  85.28])"
            ]
          },
          "metadata": {
            "tags": []
          },
          "execution_count": 23
        }
      ]
    },
    {
      "cell_type": "code",
      "metadata": {
        "colab": {
          "base_uri": "https://localhost:8080/"
        },
        "id": "nS6u1fV1LkM1",
        "outputId": "edf4174e-3a1e-4098-a09f-e684d008ffef"
      },
      "source": [
        "df['bmi'].unique()"
      ],
      "execution_count": null,
      "outputs": [
        {
          "output_type": "execute_result",
          "data": {
            "text/plain": [
              "array([36.6,  nan, 32.5, 34.4, 24. , 29. , 27.4, 22.8, 24.2, 29.7, 36.8,\n",
              "       27.3, 28.2, 30.9, 37.5, 25.8, 37.8, 22.4, 48.9, 26.6, 27.2, 23.5,\n",
              "       28.3, 44.2, 25.4, 22.2, 30.5, 26.5, 33.7, 23.1, 32. , 29.9, 23.9,\n",
              "       28.5, 26.4, 20.2, 33.6, 38.6, 39.2, 27.7, 31.4, 36.5, 33.2, 32.8,\n",
              "       40.4, 25.3, 30.2, 47.5, 20.3, 30. , 28.9, 28.1, 31.1, 21.7, 27. ,\n",
              "       24.1, 45.9, 44.1, 22.9, 29.1, 32.3, 41.1, 25.6, 29.8, 26.3, 26.2,\n",
              "       29.4, 24.4, 28. , 28.8, 34.6, 19.4, 30.3, 41.5, 22.6, 56.6, 27.1,\n",
              "       31.3, 31. , 31.7, 35.8, 28.4, 20.1, 26.7, 38.7, 34.9, 25. , 23.8,\n",
              "       21.8, 27.5, 24.6, 32.9, 26.1, 31.9, 34.1, 36.9, 37.3, 45.7, 34.2,\n",
              "       23.6, 22.3, 37.1, 45. , 25.5, 30.8, 37.4, 34.5, 27.9, 29.5, 46. ,\n",
              "       42.5, 35.5, 26.9, 45.5, 31.5, 33. , 23.4, 30.7, 20.5, 21.5, 40. ,\n",
              "       28.6, 42.2, 29.6, 35.4, 16.9, 26.8, 39.3, 32.6, 35.9, 21.2, 42.4,\n",
              "       40.5, 36.7, 29.3, 19.6, 18. , 17.6, 19.1, 50.1, 17.7, 54.6, 35. ,\n",
              "       22. , 39.4, 19.7, 22.5, 25.2, 41.8, 60.9, 23.7, 24.5, 31.2, 16. ,\n",
              "       31.6, 25.1, 24.8, 18.3, 20. , 19.5, 36. , 35.3, 40.1, 43.1, 21.4,\n",
              "       34.3, 27.6, 16.5, 24.3, 25.7, 21.9, 38.4, 25.9, 54.7, 18.6, 24.9,\n",
              "       48.2, 20.7, 39.5, 23.3, 64.8, 35.1, 43.6, 21. , 47.3, 16.6, 21.6,\n",
              "       15.5, 35.6, 16.7, 41.9, 16.4, 17.1, 29.2, 37.9, 44.6, 39.6, 40.3,\n",
              "       41.6, 39. , 23.2, 18.9, 36.1, 36.3, 46.5, 16.8, 46.6, 35.2, 20.9,\n",
              "       13.8, 31.8, 15.3, 38.2, 45.2, 17. , 49.8, 27.8, 60.2, 23. , 22.1,\n",
              "       26. , 44.3, 51. , 39.7, 34.7, 21.3, 41.2, 34.8, 19.2, 35.7, 40.8,\n",
              "       24.7, 19. , 32.4, 34. , 28.7, 32.1, 51.5, 20.4, 30.6, 71.9, 19.3,\n",
              "       40.9, 17.2, 16.1, 16.2, 40.6, 18.4, 21.1, 42.3, 32.2, 50.2, 17.5,\n",
              "       18.7, 42.1, 47.8, 20.8, 30.1, 17.3, 36.4, 12. , 36.2, 55.7, 14.4,\n",
              "       43. , 41.7, 33.8, 43.9, 22.7, 57.5, 37. , 38.5, 16.3, 44. , 32.7,\n",
              "       54.2, 40.2, 33.3, 17.4, 41.3, 52.3, 14.6, 17.8, 46.1, 33.1, 18.1,\n",
              "       43.8, 50.3, 38.9, 43.7, 39.9, 15.9, 19.8, 12.3, 78. , 38.3, 41. ,\n",
              "       42.6, 43.4, 15.1, 20.6, 33.5, 43.2, 30.4, 38. , 33.4, 44.9, 44.7,\n",
              "       37.6, 39.8, 53.4, 55.2, 42. , 37.2, 42.8, 18.8, 42.9, 14.3, 37.7,\n",
              "       48.4, 50.6, 46.2, 49.5, 43.3, 33.9, 18.5, 44.5, 45.4, 55. , 54.8,\n",
              "       19.9, 17.9, 15.6, 52.8, 15.2, 66.8, 55.1, 18.2, 48.5, 55.9, 57.3,\n",
              "       10.3, 14.1, 15.7, 56. , 44.8, 13.4, 51.8, 38.1, 57.7, 44.4, 38.8,\n",
              "       49.3, 39.1, 54. , 56.1, 97.6, 53.9, 13.7, 11.5, 41.4, 14.2, 49.4,\n",
              "       15.4, 45.1, 49.2, 48.7, 53.8, 42.7, 48.8, 52.7, 53.5, 50.5, 15.8,\n",
              "       45.3, 14.8, 51.9, 63.3, 40.7, 61.2, 48. , 46.8, 48.3, 58.1, 50.4,\n",
              "       11.3, 12.8, 13.5, 14.5, 15. , 59.7, 47.4, 52.5, 13.2, 52.9, 61.6,\n",
              "       49.9, 54.3, 47.9, 13. , 13.9, 50.9, 57.2, 64.4, 92. , 50.8, 57.9,\n",
              "       45.8, 47.6, 14. , 46.4, 46.9, 47.1, 13.3, 48.1, 51.7, 46.3, 54.1,\n",
              "       14.9])"
            ]
          },
          "metadata": {
            "tags": []
          },
          "execution_count": 24
        }
      ]
    },
    {
      "cell_type": "code",
      "metadata": {
        "colab": {
          "base_uri": "https://localhost:8080/"
        },
        "id": "wBrrNh34Lq5p",
        "outputId": "bda11d11-20b7-433a-cfb4-447f6cbe5680"
      },
      "source": [
        "df['bmi'].value_counts()"
      ],
      "execution_count": null,
      "outputs": [
        {
          "output_type": "execute_result",
          "data": {
            "text/plain": [
              "28.7    41\n",
              "28.4    38\n",
              "26.7    37\n",
              "27.7    37\n",
              "26.1    37\n",
              "        ..\n",
              "13.9     1\n",
              "49.9     1\n",
              "40.6     1\n",
              "52.3     1\n",
              "44.1     1\n",
              "Name: bmi, Length: 418, dtype: int64"
            ]
          },
          "metadata": {
            "tags": []
          },
          "execution_count": 25
        }
      ]
    },
    {
      "cell_type": "code",
      "metadata": {
        "id": "oyBaVFY4L8zA"
      },
      "source": [
        "#For data features, with normal/gaussian seeming distribution, we will fill the missing values with random numbers in the range between (mean - 25%, mean + 25%) (approximately).\n",
        "#For data features, with modal frequency greater than 50%, we will fill the missing values with modal value."
      ],
      "execution_count": null,
      "outputs": []
    },
    {
      "cell_type": "code",
      "metadata": {
        "colab": {
          "base_uri": "https://localhost:8080/",
          "height": 508
        },
        "id": "0RvLZpl7Mlmb",
        "outputId": "00973104-f1b2-4cb9-97dc-ded6c52c3abc"
      },
      "source": [
        "#Since there are lot of value counts, let's  plot it, to get an idea about its' distribution.\n",
        "plt.rcParams['figure.figsize']=(30,8)\n",
        "sns.countplot(df['bmi'],palette='rocket')\n",
        "plt.title('BMI Distribution', fontsize=25)\n",
        "plt.show()"
      ],
      "execution_count": null,
      "outputs": [
        {
          "output_type": "stream",
          "text": [
            "/usr/local/lib/python3.7/dist-packages/seaborn/_decorators.py:43: FutureWarning: Pass the following variable as a keyword arg: x. From version 0.12, the only valid positional argument will be `data`, and passing other arguments without an explicit keyword will result in an error or misinterpretation.\n",
            "  FutureWarning\n"
          ],
          "name": "stderr"
        },
        {
          "output_type": "display_data",
          "data": {
            "image/png": "[encoded data removed]",
            "text/plain": [
              "<Figure size 2160x576 with 1 Axes>"
            ]
          },
          "metadata": {
            "tags": [],
            "needs_background": "light"
          }
        }
      ]
    },
    {
      "cell_type": "code",
      "metadata": {
        "id": "rtUescSgM8Rm"
      },
      "source": [
        "import random\n",
        "df.bmi.fillna(np.random.uniform(25,29),inplace=True)"
      ],
      "execution_count": null,
      "outputs": []
    },
    {
      "cell_type": "code",
      "metadata": {
        "colab": {
          "base_uri": "https://localhost:8080/"
        },
        "id": "smtRpz7TNfqk",
        "outputId": "521a02c8-5feb-4205-8ecf-395655a212e5"
      },
      "source": [
        "df['stroke'].value_counts()"
      ],
      "execution_count": null,
      "outputs": [
        {
          "output_type": "execute_result",
          "data": {
            "text/plain": [
              "0    4861\n",
              "1     249\n",
              "Name: stroke, dtype: int64"
            ]
          },
          "metadata": {
            "tags": []
          },
          "execution_count": 29
        }
      ]
    },
    {
      "cell_type": "markdown",
      "metadata": {
        "id": "29oRrnfSuNw9"
      },
      "source": [
        "Since, we can easily see there's a class imbalance and that may lead to very poor results. We will use SMOTE, **Synthetic Minority Oversampling Technique(SMOTE)** is an oversampling technique and widely used to handle the imbalanced dataset. Through this, we will synthesize new data points for minority class and oversample that class."
      ]
    },
    {
      "cell_type": "code",
      "metadata": {
        "colab": {
          "base_uri": "https://localhost:8080/"
        },
        "id": "um2JXC0BOmjY",
        "outputId": "8ef537c0-b517-4b8b-ec1d-54d659af3170"
      },
      "source": [
        "df.info()"
      ],
      "execution_count": null,
      "outputs": [
        {
          "output_type": "stream",
          "text": [
            "<class 'pandas.core.frame.DataFrame'>\n",
            "RangeIndex: 5110 entries, 0 to 5109\n",
            "Data columns (total 11 columns):\n",
            " #   Column             Non-Null Count  Dtype  \n",
            "---  ------             --------------  -----  \n",
            " 0   gender             5110 non-null   int64  \n",
            " 1   age                5110 non-null   float64\n",
            " 2   hypertension       5110 non-null   int64  \n",
            " 3   heart_disease      5110 non-null   int64  \n",
            " 4   ever_married       5110 non-null   int64  \n",
            " 5   work_type          5110 non-null   int64  \n",
            " 6   Residence_type     5110 non-null   int64  \n",
            " 7   avg_glucose_level  5110 non-null   float64\n",
            " 8   bmi                5110 non-null   float64\n",
            " 9   smoking_status     5110 non-null   int64  \n",
            " 10  stroke             5110 non-null   int64  \n",
            "dtypes: float64(3), int64(8)\n",
            "memory usage: 439.3 KB\n"
          ],
          "name": "stdout"
        }
      ]
    },
    {
      "cell_type": "code",
      "metadata": {
        "colab": {
          "base_uri": "https://localhost:8080/",
          "height": 204
        },
        "id": "DxxxjjKxOwt2",
        "outputId": "c605fe1c-9e80-472d-e32a-17f065e9214a"
      },
      "source": [
        "df.head()"
      ],
      "execution_count": null,
      "outputs": [
        {
          "output_type": "execute_result",
          "data": {
            "text/html": [
              "<div>\n",
              "<style scoped>\n",
              "    .dataframe tbody tr th:only-of-type {\n",
              "        vertical-align: middle;\n",
              "    }\n",
              "\n",
              "    .dataframe tbody tr th {\n",
              "        vertical-align: top;\n",
              "    }\n",
              "\n",
              "    .dataframe thead th {\n",
              "        text-align: right;\n",
              "    }\n",
              "</style>\n",
              "<table border=\"1\" class=\"dataframe\">\n",
              "  <thead>\n",
              "    <tr style=\"text-align: right;\">\n",
              "      <th></th>\n",
              "      <th>gender</th>\n",
              "      <th>age</th>\n",
              "      <th>hypertension</th>\n",
              "      <th>heart_disease</th>\n",
              "      <th>ever_married</th>\n",
              "      <th>work_type</th>\n",
              "      <th>Residence_type</th>\n",
              "      <th>avg_glucose_level</th>\n",
              "      <th>bmi</th>\n",
              "      <th>smoking_status</th>\n",
              "      <th>stroke</th>\n",
              "    </tr>\n",
              "  </thead>\n",
              "  <tbody>\n",
              "    <tr>\n",
              "      <th>0</th>\n",
              "      <td>0</td>\n",
              "      <td>67.0</td>\n",
              "      <td>0</td>\n",
              "      <td>1</td>\n",
              "      <td>1</td>\n",
              "      <td>1</td>\n",
              "      <td>1</td>\n",
              "      <td>228.69</td>\n",
              "      <td>36.600000</td>\n",
              "      <td>1</td>\n",
              "      <td>1</td>\n",
              "    </tr>\n",
              "    <tr>\n",
              "      <th>1</th>\n",
              "      <td>1</td>\n",
              "      <td>61.0</td>\n",
              "      <td>0</td>\n",
              "      <td>0</td>\n",
              "      <td>1</td>\n",
              "      <td>2</td>\n",
              "      <td>0</td>\n",
              "      <td>202.21</td>\n",
              "      <td>27.367156</td>\n",
              "      <td>2</td>\n",
              "      <td>1</td>\n",
              "    </tr>\n",
              "    <tr>\n",
              "      <th>2</th>\n",
              "      <td>0</td>\n",
              "      <td>80.0</td>\n",
              "      <td>0</td>\n",
              "      <td>1</td>\n",
              "      <td>1</td>\n",
              "      <td>1</td>\n",
              "      <td>0</td>\n",
              "      <td>105.92</td>\n",
              "      <td>32.500000</td>\n",
              "      <td>2</td>\n",
              "      <td>1</td>\n",
              "    </tr>\n",
              "    <tr>\n",
              "      <th>3</th>\n",
              "      <td>1</td>\n",
              "      <td>49.0</td>\n",
              "      <td>0</td>\n",
              "      <td>0</td>\n",
              "      <td>1</td>\n",
              "      <td>1</td>\n",
              "      <td>1</td>\n",
              "      <td>171.23</td>\n",
              "      <td>34.400000</td>\n",
              "      <td>3</td>\n",
              "      <td>1</td>\n",
              "    </tr>\n",
              "    <tr>\n",
              "      <th>4</th>\n",
              "      <td>1</td>\n",
              "      <td>79.0</td>\n",
              "      <td>1</td>\n",
              "      <td>0</td>\n",
              "      <td>1</td>\n",
              "      <td>2</td>\n",
              "      <td>0</td>\n",
              "      <td>174.12</td>\n",
              "      <td>24.000000</td>\n",
              "      <td>2</td>\n",
              "      <td>1</td>\n",
              "    </tr>\n",
              "  </tbody>\n",
              "</table>\n",
              "</div>"
            ],
            "text/plain": [
              "   gender   age  hypertension  ...        bmi  smoking_status  stroke\n",
              "0       0  67.0             0  ...  36.600000               1       1\n",
              "1       1  61.0             0  ...  27.367156               2       1\n",
              "2       0  80.0             0  ...  32.500000               2       1\n",
              "3       1  49.0             0  ...  34.400000               3       1\n",
              "4       1  79.0             1  ...  24.000000               2       1\n",
              "\n",
              "[5 rows x 11 columns]"
            ]
          },
          "metadata": {
            "tags": []
          },
          "execution_count": 31
        }
      ]
    },
    {
      "cell_type": "code",
      "metadata": {
        "colab": {
          "base_uri": "https://localhost:8080/",
          "height": 477
        },
        "id": "tv0D9Oq8OzYH",
        "outputId": "020b64b4-f1be-41b4-9491-c9b81bba6d3f"
      },
      "source": [
        "corrMatrix = df.corr()\n",
        "plt.figure(figsize=(16, 6))\n",
        "heatmap = sns.heatmap(df.corr(), vmin=-1, vmax=1, annot=True)\n",
        "#heatmap.\n",
        "heatmap.set_title('Correlation Heatmap', fontdict={'fontsize':12}, pad=12)\n",
        "plt.show()"
      ],
      "execution_count": null,
      "outputs": [
        {
          "output_type": "display_data",
          "data": {
            "image/png": "[encoded data removed]",
            "text/plain": [
              "<Figure size 1152x432 with 2 Axes>"
            ]
          },
          "metadata": {
            "tags": [],
            "needs_background": "light"
          }
        }
      ]
    },
    {
      "cell_type": "code",
      "metadata": {
        "id": "DWEKksOBJWYO",
        "colab": {
          "base_uri": "https://localhost:8080/",
          "height": 297
        },
        "outputId": "3a05b6c6-485c-4625-8ff0-1975c10f63e0"
      },
      "source": [
        "df.describe()"
      ],
      "execution_count": null,
      "outputs": [
        {
          "output_type": "execute_result",
          "data": {
            "text/html": [
              "<div>\n",
              "<style scoped>\n",
              "    .dataframe tbody tr th:only-of-type {\n",
              "        vertical-align: middle;\n",
              "    }\n",
              "\n",
              "    .dataframe tbody tr th {\n",
              "        vertical-align: top;\n",
              "    }\n",
              "\n",
              "    .dataframe thead th {\n",
              "        text-align: right;\n",
              "    }\n",
              "</style>\n",
              "<table border=\"1\" class=\"dataframe\">\n",
              "  <thead>\n",
              "    <tr style=\"text-align: right;\">\n",
              "      <th></th>\n",
              "      <th>gender</th>\n",
              "      <th>age</th>\n",
              "      <th>hypertension</th>\n",
              "      <th>heart_disease</th>\n",
              "      <th>ever_married</th>\n",
              "      <th>work_type</th>\n",
              "      <th>Residence_type</th>\n",
              "      <th>avg_glucose_level</th>\n",
              "      <th>bmi</th>\n",
              "      <th>smoking_status</th>\n",
              "      <th>stroke</th>\n",
              "    </tr>\n",
              "  </thead>\n",
              "  <tbody>\n",
              "    <tr>\n",
              "      <th>count</th>\n",
              "      <td>5110.000000</td>\n",
              "      <td>5110.000000</td>\n",
              "      <td>5110.000000</td>\n",
              "      <td>5110.000000</td>\n",
              "      <td>5110.000000</td>\n",
              "      <td>5110.000000</td>\n",
              "      <td>5110.000000</td>\n",
              "      <td>5110.000000</td>\n",
              "      <td>5110.000000</td>\n",
              "      <td>5110.000000</td>\n",
              "      <td>5110.000000</td>\n",
              "    </tr>\n",
              "    <tr>\n",
              "      <th>mean</th>\n",
              "      <td>0.586301</td>\n",
              "      <td>43.226614</td>\n",
              "      <td>0.097456</td>\n",
              "      <td>0.054012</td>\n",
              "      <td>0.656164</td>\n",
              "      <td>1.816438</td>\n",
              "      <td>0.508023</td>\n",
              "      <td>106.147677</td>\n",
              "      <td>28.833209</td>\n",
              "      <td>1.376908</td>\n",
              "      <td>0.048728</td>\n",
              "    </tr>\n",
              "    <tr>\n",
              "      <th>std</th>\n",
              "      <td>0.492941</td>\n",
              "      <td>22.612647</td>\n",
              "      <td>0.296607</td>\n",
              "      <td>0.226063</td>\n",
              "      <td>0.475034</td>\n",
              "      <td>1.105673</td>\n",
              "      <td>0.499985</td>\n",
              "      <td>45.283560</td>\n",
              "      <td>7.703733</td>\n",
              "      <td>1.071534</td>\n",
              "      <td>0.215320</td>\n",
              "    </tr>\n",
              "    <tr>\n",
              "      <th>min</th>\n",
              "      <td>0.000000</td>\n",
              "      <td>0.080000</td>\n",
              "      <td>0.000000</td>\n",
              "      <td>0.000000</td>\n",
              "      <td>0.000000</td>\n",
              "      <td>0.000000</td>\n",
              "      <td>0.000000</td>\n",
              "      <td>55.120000</td>\n",
              "      <td>10.300000</td>\n",
              "      <td>0.000000</td>\n",
              "      <td>0.000000</td>\n",
              "    </tr>\n",
              "    <tr>\n",
              "      <th>25%</th>\n",
              "      <td>0.000000</td>\n",
              "      <td>25.000000</td>\n",
              "      <td>0.000000</td>\n",
              "      <td>0.000000</td>\n",
              "      <td>0.000000</td>\n",
              "      <td>1.000000</td>\n",
              "      <td>0.000000</td>\n",
              "      <td>77.245000</td>\n",
              "      <td>23.800000</td>\n",
              "      <td>0.000000</td>\n",
              "      <td>0.000000</td>\n",
              "    </tr>\n",
              "    <tr>\n",
              "      <th>50%</th>\n",
              "      <td>1.000000</td>\n",
              "      <td>45.000000</td>\n",
              "      <td>0.000000</td>\n",
              "      <td>0.000000</td>\n",
              "      <td>1.000000</td>\n",
              "      <td>1.000000</td>\n",
              "      <td>1.000000</td>\n",
              "      <td>91.885000</td>\n",
              "      <td>27.700000</td>\n",
              "      <td>2.000000</td>\n",
              "      <td>0.000000</td>\n",
              "    </tr>\n",
              "    <tr>\n",
              "      <th>75%</th>\n",
              "      <td>1.000000</td>\n",
              "      <td>61.000000</td>\n",
              "      <td>0.000000</td>\n",
              "      <td>0.000000</td>\n",
              "      <td>1.000000</td>\n",
              "      <td>3.000000</td>\n",
              "      <td>1.000000</td>\n",
              "      <td>114.090000</td>\n",
              "      <td>32.800000</td>\n",
              "      <td>2.000000</td>\n",
              "      <td>0.000000</td>\n",
              "    </tr>\n",
              "    <tr>\n",
              "      <th>max</th>\n",
              "      <td>2.000000</td>\n",
              "      <td>82.000000</td>\n",
              "      <td>1.000000</td>\n",
              "      <td>1.000000</td>\n",
              "      <td>1.000000</td>\n",
              "      <td>4.000000</td>\n",
              "      <td>1.000000</td>\n",
              "      <td>271.740000</td>\n",
              "      <td>97.600000</td>\n",
              "      <td>3.000000</td>\n",
              "      <td>1.000000</td>\n",
              "    </tr>\n",
              "  </tbody>\n",
              "</table>\n",
              "</div>"
            ],
            "text/plain": [
              "            gender          age  ...  smoking_status       stroke\n",
              "count  5110.000000  5110.000000  ...     5110.000000  5110.000000\n",
              "mean      0.586301    43.226614  ...        1.376908     0.048728\n",
              "std       0.492941    22.612647  ...        1.071534     0.215320\n",
              "min       0.000000     0.080000  ...        0.000000     0.000000\n",
              "25%       0.000000    25.000000  ...        0.000000     0.000000\n",
              "50%       1.000000    45.000000  ...        2.000000     0.000000\n",
              "75%       1.000000    61.000000  ...        2.000000     0.000000\n",
              "max       2.000000    82.000000  ...        3.000000     1.000000\n",
              "\n",
              "[8 rows x 11 columns]"
            ]
          },
          "metadata": {
            "tags": []
          },
          "execution_count": 33
        }
      ]
    },
    {
      "cell_type": "code",
      "metadata": {
        "colab": {
          "base_uri": "https://localhost:8080/"
        },
        "id": "SSrVCa5IPQ8R",
        "outputId": "f49952f5-2bd8-423d-944b-2b486be89a9a"
      },
      "source": [
        "import scipy\n",
        "import math\n",
        "import matplotlib.ticker as mtick\n",
        "from sklearn.model_selection import train_test_split\n",
        "from sklearn.preprocessing import StandardScaler\n",
        "from imblearn.over_sampling import SMOTE\n",
        "from sklearn.ensemble import RandomForestClassifier\n",
        "from sklearn.metrics import accuracy_score, precision_score, recall_score\n",
        "from sklearn.model_selection import cross_val_predict\n",
        "from sklearn.metrics import confusion_matrix ,f1_score\n",
        "from sklearn.svm import SVC\n",
        "from sklearn.linear_model import LogisticRegression\n",
        "from sklearn.ensemble import AdaBoostClassifier \n",
        "from sklearn.linear_model import SGDClassifier\n",
        "from sklearn.neighbors import KNeighborsClassifier\n",
        "from sklearn.ensemble import VotingClassifier\n",
        "import plotly.express as px"
      ],
      "execution_count": null,
      "outputs": [
        {
          "output_type": "stream",
          "text": [
            "/usr/local/lib/python3.7/dist-packages/sklearn/externals/six.py:31: FutureWarning: The module is deprecated in version 0.21 and will be removed in version 0.23 since we've dropped support for Python 2.7. Please rely on the official version of six (https://pypi.org/project/six/).\n",
            "  \"(https://pypi.org/project/six/).\", FutureWarning)\n",
            "/usr/local/lib/python3.7/dist-packages/sklearn/utils/deprecation.py:144: FutureWarning: The sklearn.neighbors.base module is  deprecated in version 0.22 and will be removed in version 0.24. The corresponding classes / functions should instead be imported from sklearn.neighbors. Anything that cannot be imported from sklearn.neighbors is now part of the private API.\n",
            "  warnings.warn(message, FutureWarning)\n"
          ],
          "name": "stderr"
        }
      ]
    },
    {
      "cell_type": "code",
      "metadata": {
        "id": "bzzJ2dSvPixX"
      },
      "source": [
        "x = df.iloc[:, 0:10]\n",
        "y = df.iloc[:, -1]"
      ],
      "execution_count": null,
      "outputs": []
    },
    {
      "cell_type": "code",
      "metadata": {
        "colab": {
          "base_uri": "https://localhost:8080/"
        },
        "id": "KP7xr7tFPkh7",
        "outputId": "45e5b826-1851-4133-dd9f-cd27756361ef"
      },
      "source": [
        "print(x.shape)\n",
        "print(y.shape)"
      ],
      "execution_count": null,
      "outputs": [
        {
          "output_type": "stream",
          "text": [
            "(5110, 10)\n",
            "(5110,)\n"
          ],
          "name": "stdout"
        }
      ]
    },
    {
      "cell_type": "code",
      "metadata": {
        "colab": {
          "base_uri": "https://localhost:8080/"
        },
        "id": "A93_KbZnPoSj",
        "outputId": "6e0e4b3d-8a66-4722-b45b-7cd55c4a154f"
      },
      "source": [
        "X,Y=SMOTE().fit_resample(x,y)"
      ],
      "execution_count": null,
      "outputs": [
        {
          "output_type": "stream",
          "text": [
            "/usr/local/lib/python3.7/dist-packages/sklearn/utils/deprecation.py:87: FutureWarning:\n",
            "\n",
            "Function safe_indexing is deprecated; safe_indexing is deprecated in version 0.22 and will be removed in version 0.24.\n",
            "\n"
          ],
          "name": "stderr"
        }
      ]
    },
    {
      "cell_type": "code",
      "metadata": {
        "colab": {
          "base_uri": "https://localhost:8080/"
        },
        "id": "ybNsYsjqPrXY",
        "outputId": "dda7d2e7-f670-4f77-8b42-5473edf51a2a"
      },
      "source": [
        "print(X.shape)\n",
        "print(Y.shape)"
      ],
      "execution_count": null,
      "outputs": [
        {
          "output_type": "stream",
          "text": [
            "(9722, 10)\n",
            "(9722,)\n"
          ],
          "name": "stdout"
        }
      ]
    },
    {
      "cell_type": "code",
      "metadata": {
        "colab": {
          "base_uri": "https://localhost:8080/"
        },
        "id": "EZmAxVtmPujL",
        "outputId": "91f0ad73-9b74-4b63-d57f-81d850226ffd"
      },
      "source": [
        "unique_elements, counts_elements = np.unique(Y, return_counts=True)\n",
        "print(np.asarray((unique_elements, counts_elements)))"
      ],
      "execution_count": null,
      "outputs": [
        {
          "output_type": "stream",
          "text": [
            "[[   0    1]\n",
            " [4861 4861]]\n"
          ],
          "name": "stdout"
        }
      ]
    },
    {
      "cell_type": "code",
      "metadata": {
        "colab": {
          "base_uri": "https://localhost:8080/"
        },
        "id": "SDpVWjikP0wG",
        "outputId": "4a554158-5c50-4dbc-e6aa-dfe46e898de1"
      },
      "source": [
        "unique_elements, counts_elements = np.unique(X, return_counts=True)\n",
        "print(np.asarray((unique_elements, counts_elements)))"
      ],
      "execution_count": null,
      "outputs": [
        {
          "output_type": "stream",
          "text": [
            "[[0.00000000e+00 9.48175434e-05 1.01959720e-04 ... 2.70910124e+02\n",
            "  2.71033492e+02 2.71740000e+02]\n",
            " [2.52450000e+04 1.00000000e+00 1.00000000e+00 ... 1.00000000e+00\n",
            "  1.00000000e+00 1.00000000e+00]]\n"
          ],
          "name": "stdout"
        }
      ]
    },
    {
      "cell_type": "code",
      "metadata": {
        "id": "OMUiJrp6P9gB"
      },
      "source": [
        "x_train, x_test, y_train, y_test = train_test_split(X, Y, test_size=0.2)"
      ],
      "execution_count": null,
      "outputs": []
    },
    {
      "cell_type": "code",
      "metadata": {
        "id": "a1VJXK4FQBXu"
      },
      "source": [
        "standard_scale = StandardScaler()\n",
        "x_train_scaled = standard_scale.fit_transform(x_train)"
      ],
      "execution_count": null,
      "outputs": []
    },
    {
      "cell_type": "code",
      "metadata": {
        "id": "ZGahNi64PuiU"
      },
      "source": [
        "#Random Forest Classifier"
      ],
      "execution_count": null,
      "outputs": []
    },
    {
      "cell_type": "code",
      "metadata": {
        "id": "OV5pO1k9PJ65",
        "colab": {
          "base_uri": "https://localhost:8080/"
        },
        "outputId": "e8d324cd-0862-4115-9e90-bcca2d10c494"
      },
      "source": [
        "random_forest=RandomForestClassifier(n_estimators=500)\n",
        "random_forest.fit(x_train_scaled, y_train)"
      ],
      "execution_count": null,
      "outputs": [
        {
          "output_type": "execute_result",
          "data": {
            "text/plain": [
              "RandomForestClassifier(bootstrap=True, ccp_alpha=0.0, class_weight=None,\n",
              "                       criterion='gini', max_depth=None, max_features='auto',\n",
              "                       max_leaf_nodes=None, max_samples=None,\n",
              "                       min_impurity_decrease=0.0, min_impurity_split=None,\n",
              "                       min_samples_leaf=1, min_samples_split=2,\n",
              "                       min_weight_fraction_leaf=0.0, n_estimators=500,\n",
              "                       n_jobs=None, oob_score=False, random_state=None,\n",
              "                       verbose=0, warm_start=False)"
            ]
          },
          "metadata": {
            "tags": []
          },
          "execution_count": 44
        }
      ]
    },
    {
      "cell_type": "code",
      "metadata": {
        "id": "5iULt9OBPQFs"
      },
      "source": [
        "y_train_pred_random_forest=cross_val_predict(random_forest, x_train_scaled, y_train, cv=5)"
      ],
      "execution_count": null,
      "outputs": []
    },
    {
      "cell_type": "code",
      "metadata": {
        "id": "Zf3AOz3XPe7Q",
        "colab": {
          "base_uri": "https://localhost:8080/"
        },
        "outputId": "8c9eb6ad-0d80-4f5f-cba8-b0ff1b6f3818"
      },
      "source": [
        "confusion_matrix_random_forest = confusion_matrix(y_train, y_train_pred_random_forest)\n",
        "confusion_matrix_random_forest"
      ],
      "execution_count": null,
      "outputs": [
        {
          "output_type": "execute_result",
          "data": {
            "text/plain": [
              "array([[3818,   39],\n",
              "       [ 189, 3731]])"
            ]
          },
          "metadata": {
            "tags": []
          },
          "execution_count": 46
        }
      ]
    },
    {
      "cell_type": "code",
      "metadata": {
        "id": "zH7J6rBiPrxk",
        "colab": {
          "base_uri": "https://localhost:8080/"
        },
        "outputId": "9328080a-1442-4e8a-ce70-a9bf36a49a7e"
      },
      "source": [
        "print(accuracy_score(y_train, y_train_pred_random_forest))\n",
        "print(precision_score(y_train, y_train_pred_random_forest))\n",
        "print(recall_score(y_train, y_train_pred_random_forest))\n",
        "print(f1_score(y_train, y_train_pred_random_forest))"
      ],
      "execution_count": null,
      "outputs": [
        {
          "output_type": "stream",
          "text": [
            "0.9706827825639707\n",
            "0.9896551724137931\n",
            "0.9517857142857142\n",
            "0.9703511053315995\n"
          ],
          "name": "stdout"
        }
      ]
    },
    {
      "cell_type": "code",
      "metadata": {
        "id": "84UWnUOyRjKx"
      },
      "source": [
        "#Logistic Regression"
      ],
      "execution_count": null,
      "outputs": []
    },
    {
      "cell_type": "code",
      "metadata": {
        "id": "60tPF2_8R12x",
        "colab": {
          "base_uri": "https://localhost:8080/"
        },
        "outputId": "4ccf3b0b-6823-4eac-e690-fe5db15ece94"
      },
      "source": [
        "logistic_regression=LogisticRegression(max_iter=10000)\n",
        "logistic_regression.fit(x_train_scaled, y_train)"
      ],
      "execution_count": null,
      "outputs": [
        {
          "output_type": "execute_result",
          "data": {
            "text/plain": [
              "LogisticRegression(C=1.0, class_weight=None, dual=False, fit_intercept=True,\n",
              "                   intercept_scaling=1, l1_ratio=None, max_iter=10000,\n",
              "                   multi_class='auto', n_jobs=None, penalty='l2',\n",
              "                   random_state=None, solver='lbfgs', tol=0.0001, verbose=0,\n",
              "                   warm_start=False)"
            ]
          },
          "metadata": {
            "tags": []
          },
          "execution_count": 49
        }
      ]
    },
    {
      "cell_type": "code",
      "metadata": {
        "id": "7MtLrt7jR4b7"
      },
      "source": [
        "y_train_pred_log=cross_val_predict(logistic_regression, x_train_scaled, y_train, cv=5)"
      ],
      "execution_count": null,
      "outputs": []
    },
    {
      "cell_type": "code",
      "metadata": {
        "id": "Rl1VxI3zR-b0",
        "colab": {
          "base_uri": "https://localhost:8080/"
        },
        "outputId": "0cd11a0e-6f40-4dee-ef52-dda7946381e1"
      },
      "source": [
        "confusion_matrix_log = confusion_matrix(y_train, y_train_pred_log)\n",
        "confusion_matrix_log"
      ],
      "execution_count": null,
      "outputs": [
        {
          "output_type": "execute_result",
          "data": {
            "text/plain": [
              "array([[2849, 1008],\n",
              "       [ 738, 3182]])"
            ]
          },
          "metadata": {
            "tags": []
          },
          "execution_count": 51
        }
      ]
    },
    {
      "cell_type": "code",
      "metadata": {
        "id": "JZ27hanBSFqz",
        "colab": {
          "base_uri": "https://localhost:8080/"
        },
        "outputId": "2cef5b9a-bbdf-452f-d160-d67d7f273f15"
      },
      "source": [
        "print(accuracy_score(y_train, y_train_pred_log))\n",
        "print(precision_score(y_train, y_train_pred_log))\n",
        "print(recall_score(y_train, y_train_pred_log))\n",
        "print(f1_score(y_train, y_train_pred_log))"
      ],
      "execution_count": null,
      "outputs": [
        {
          "output_type": "stream",
          "text": [
            "0.7754918348977755\n",
            "0.7594272076372315\n",
            "0.811734693877551\n",
            "0.7847102342786684\n"
          ],
          "name": "stdout"
        }
      ]
    },
    {
      "cell_type": "code",
      "metadata": {
        "id": "ODUOswLWXk6f"
      },
      "source": [
        "#Adaboost Classifier"
      ],
      "execution_count": null,
      "outputs": []
    },
    {
      "cell_type": "code",
      "metadata": {
        "id": "gtUfmn_HSf0i",
        "colab": {
          "base_uri": "https://localhost:8080/"
        },
        "outputId": "0985f7c2-3c64-4399-b8b8-2e36821cab44"
      },
      "source": [
        "adaboost_classifier=AdaBoostClassifier(\n",
        "    RandomForestClassifier(), n_estimators=500, algorithm=\"SAMME.R\", learning_rate=0.5\n",
        ")\n",
        "adaboost_classifier.fit(x_train_scaled, y_train)"
      ],
      "execution_count": null,
      "outputs": [
        {
          "output_type": "execute_result",
          "data": {
            "text/plain": [
              "AdaBoostClassifier(algorithm='SAMME.R',\n",
              "                   base_estimator=RandomForestClassifier(bootstrap=True,\n",
              "                                                         ccp_alpha=0.0,\n",
              "                                                         class_weight=None,\n",
              "                                                         criterion='gini',\n",
              "                                                         max_depth=None,\n",
              "                                                         max_features='auto',\n",
              "                                                         max_leaf_nodes=None,\n",
              "                                                         max_samples=None,\n",
              "                                                         min_impurity_decrease=0.0,\n",
              "                                                         min_impurity_split=None,\n",
              "                                                         min_samples_leaf=1,\n",
              "                                                         min_samples_split=2,\n",
              "                                                         min_weight_fraction_leaf=0.0,\n",
              "                                                         n_estimators=100,\n",
              "                                                         n_jobs=None,\n",
              "                                                         oob_score=False,\n",
              "                                                         random_state=None,\n",
              "                                                         verbose=0,\n",
              "                                                         warm_start=False),\n",
              "                   learning_rate=0.5, n_estimators=500, random_state=None)"
            ]
          },
          "metadata": {
            "tags": []
          },
          "execution_count": 54
        }
      ]
    },
    {
      "cell_type": "code",
      "metadata": {
        "id": "r4lNGl7QSivD"
      },
      "source": [
        "y_train_pred_adaboost=cross_val_predict(adaboost_classifier, x_train_scaled, y_train, cv=5)"
      ],
      "execution_count": null,
      "outputs": []
    },
    {
      "cell_type": "code",
      "metadata": {
        "id": "qjeOtSTXSuLS",
        "colab": {
          "base_uri": "https://localhost:8080/"
        },
        "outputId": "a2c2cb34-311e-4761-d040-1ddab599263a"
      },
      "source": [
        "confusion_matrix_adaboost = confusion_matrix(y_train, y_train_pred_adaboost)\n",
        "confusion_matrix_adaboost"
      ],
      "execution_count": null,
      "outputs": [
        {
          "output_type": "execute_result",
          "data": {
            "text/plain": [
              "array([[3822,   35],\n",
              "       [ 191, 3729]])"
            ]
          },
          "metadata": {
            "tags": []
          },
          "execution_count": 56
        }
      ]
    },
    {
      "cell_type": "code",
      "metadata": {
        "id": "4F3_hnWKXS7g",
        "colab": {
          "base_uri": "https://localhost:8080/"
        },
        "outputId": "346943ff-93eb-45d5-a01d-8b317f9d650d"
      },
      "source": [
        "print(accuracy_score(y_train, y_train_pred_adaboost))\n",
        "print(precision_score(y_train, y_train_pred_adaboost))\n",
        "print(recall_score(y_train, y_train_pred_adaboost))\n",
        "print(f1_score(y_train, y_train_pred_adaboost))"
      ],
      "execution_count": null,
      "outputs": [
        {
          "output_type": "stream",
          "text": [
            "0.9709399511379709\n",
            "0.990701381509033\n",
            "0.9512755102040816\n",
            "0.9705882352941176\n"
          ],
          "name": "stdout"
        }
      ]
    },
    {
      "cell_type": "code",
      "metadata": {
        "id": "jn9rLNxxXowo"
      },
      "source": [
        "#SGD Classifier"
      ],
      "execution_count": null,
      "outputs": []
    },
    {
      "cell_type": "code",
      "metadata": {
        "id": "Dp5XCddASyQo",
        "colab": {
          "base_uri": "https://localhost:8080/"
        },
        "outputId": "b4d37dfe-39d0-4114-8554-367336e36d4d"
      },
      "source": [
        "sgd_clf=SGDClassifier(random_state=42)\n",
        "sgd_clf.fit(x_train_scaled, y_train)"
      ],
      "execution_count": null,
      "outputs": [
        {
          "output_type": "execute_result",
          "data": {
            "text/plain": [
              "SGDClassifier(alpha=0.0001, average=False, class_weight=None,\n",
              "              early_stopping=False, epsilon=0.1, eta0=0.0, fit_intercept=True,\n",
              "              l1_ratio=0.15, learning_rate='optimal', loss='hinge',\n",
              "              max_iter=1000, n_iter_no_change=5, n_jobs=None, penalty='l2',\n",
              "              power_t=0.5, random_state=42, shuffle=True, tol=0.001,\n",
              "              validation_fraction=0.1, verbose=0, warm_start=False)"
            ]
          },
          "metadata": {
            "tags": []
          },
          "execution_count": 59
        }
      ]
    },
    {
      "cell_type": "code",
      "metadata": {
        "id": "j3vv-8qaTNi3"
      },
      "source": [
        "y_train_pred_sgd_clf=cross_val_predict(sgd_clf, x_train_scaled, y_train, cv=5)"
      ],
      "execution_count": null,
      "outputs": []
    },
    {
      "cell_type": "code",
      "metadata": {
        "id": "GAPvJv6HTVSA",
        "colab": {
          "base_uri": "https://localhost:8080/"
        },
        "outputId": "c8e32258-32ac-469a-de9d-aca6a21078cd"
      },
      "source": [
        "confusion_matrix_sgd_clf = confusion_matrix(y_train, y_train_pred_sgd_clf)\n",
        "confusion_matrix_sgd_clf"
      ],
      "execution_count": null,
      "outputs": [
        {
          "output_type": "execute_result",
          "data": {
            "text/plain": [
              "array([[2755, 1102],\n",
              "       [ 679, 3241]])"
            ]
          },
          "metadata": {
            "tags": []
          },
          "execution_count": 61
        }
      ]
    },
    {
      "cell_type": "code",
      "metadata": {
        "id": "ObYdTUI1TXuN",
        "colab": {
          "base_uri": "https://localhost:8080/"
        },
        "outputId": "798e47d4-4a0b-4324-bf68-f1daab5a6879"
      },
      "source": [
        "print(accuracy_score(y_train, y_train_pred_sgd_clf))\n",
        "print(precision_score(y_train, y_train_pred_sgd_clf))\n",
        "print(recall_score(y_train, y_train_pred_sgd_clf))\n",
        "print(f1_score(y_train, y_train_pred_sgd_clf))"
      ],
      "execution_count": null,
      "outputs": [
        {
          "output_type": "stream",
          "text": [
            "0.770991384852771\n",
            "0.7462583467649091\n",
            "0.8267857142857142\n",
            "0.7844608495703739\n"
          ],
          "name": "stdout"
        }
      ]
    },
    {
      "cell_type": "code",
      "metadata": {
        "id": "_MMytAQSYubV"
      },
      "source": [
        "#K nearest Neighbours"
      ],
      "execution_count": null,
      "outputs": []
    },
    {
      "cell_type": "code",
      "metadata": {
        "id": "rERr0jieTZ-w",
        "colab": {
          "base_uri": "https://localhost:8080/"
        },
        "outputId": "708ddef5-2631-43c1-e2b3-c57b76162ec2"
      },
      "source": [
        "k_neig=KNeighborsClassifier(n_neighbors=15)\n",
        "k_neig.fit(x_train_scaled, y_train)"
      ],
      "execution_count": null,
      "outputs": [
        {
          "output_type": "execute_result",
          "data": {
            "text/plain": [
              "KNeighborsClassifier(algorithm='auto', leaf_size=30, metric='minkowski',\n",
              "                     metric_params=None, n_jobs=None, n_neighbors=15, p=2,\n",
              "                     weights='uniform')"
            ]
          },
          "metadata": {
            "tags": []
          },
          "execution_count": 64
        }
      ]
    },
    {
      "cell_type": "code",
      "metadata": {
        "id": "hLgh37a3TeqF"
      },
      "source": [
        "y_train_pred_k_neig=cross_val_predict(k_neig, x_train_scaled, y_train, cv=5)"
      ],
      "execution_count": null,
      "outputs": []
    },
    {
      "cell_type": "code",
      "metadata": {
        "id": "Kk-v2RKCTiD9",
        "colab": {
          "base_uri": "https://localhost:8080/"
        },
        "outputId": "852a22d2-c1b3-4e43-970b-c329da256302"
      },
      "source": [
        "confusion_matrix_k_neig = confusion_matrix(y_train, y_train_pred_k_neig)\n",
        "confusion_matrix_k_neig"
      ],
      "execution_count": null,
      "outputs": [
        {
          "output_type": "execute_result",
          "data": {
            "text/plain": [
              "array([[3051,  806],\n",
              "       [ 198, 3722]])"
            ]
          },
          "metadata": {
            "tags": []
          },
          "execution_count": 66
        }
      ]
    },
    {
      "cell_type": "code",
      "metadata": {
        "id": "y9qAU5IXTlGK",
        "colab": {
          "base_uri": "https://localhost:8080/"
        },
        "outputId": "7eb5e0bb-8f0a-4f7b-b7b0-1d971ed3ba12"
      },
      "source": [
        "print(accuracy_score(y_train, y_train_pred_k_neig))\n",
        "print(precision_score(y_train, y_train_pred_k_neig))\n",
        "print(recall_score(y_train, y_train_pred_k_neig))\n",
        "print(f1_score(y_train, y_train_pred_k_neig))"
      ],
      "execution_count": null,
      "outputs": [
        {
          "output_type": "stream",
          "text": [
            "0.8709013758518709\n",
            "0.8219964664310954\n",
            "0.9494897959183674\n",
            "0.8811553030303031\n"
          ],
          "name": "stdout"
        }
      ]
    },
    {
      "cell_type": "code",
      "metadata": {
        "id": "9PI1gLNpZDpp"
      },
      "source": [
        "#Voting Classifier"
      ],
      "execution_count": null,
      "outputs": []
    },
    {
      "cell_type": "code",
      "metadata": {
        "id": "6FtirSb1ToOV",
        "colab": {
          "base_uri": "https://localhost:8080/"
        },
        "outputId": "d4b7c02f-7783-43e2-c980-bf8a3beae36e"
      },
      "source": [
        "voting_clf=VotingClassifier(\n",
        "    estimators=[('lr', logistic_regression), ('rf', random_forest), ('kn', k_neig)], voting='soft'\n",
        ")\n",
        "voting_clf.fit(x_train_scaled, y_train)"
      ],
      "execution_count": null,
      "outputs": [
        {
          "output_type": "execute_result",
          "data": {
            "text/plain": [
              "VotingClassifier(estimators=[('lr',\n",
              "                              LogisticRegression(C=1.0, class_weight=None,\n",
              "                                                 dual=False, fit_intercept=True,\n",
              "                                                 intercept_scaling=1,\n",
              "                                                 l1_ratio=None, max_iter=10000,\n",
              "                                                 multi_class='auto',\n",
              "                                                 n_jobs=None, penalty='l2',\n",
              "                                                 random_state=None,\n",
              "                                                 solver='lbfgs', tol=0.0001,\n",
              "                                                 verbose=0, warm_start=False)),\n",
              "                             ('rf',\n",
              "                              RandomForestClassifier(bootstrap=True,\n",
              "                                                     ccp_alpha=0.0,\n",
              "                                                     class_weight=None,...\n",
              "                                                     min_samples_split=2,\n",
              "                                                     min_weight_fraction_leaf=0.0,\n",
              "                                                     n_estimators=500,\n",
              "                                                     n_jobs=None,\n",
              "                                                     oob_score=False,\n",
              "                                                     random_state=None,\n",
              "                                                     verbose=0,\n",
              "                                                     warm_start=False)),\n",
              "                             ('kn',\n",
              "                              KNeighborsClassifier(algorithm='auto',\n",
              "                                                   leaf_size=30,\n",
              "                                                   metric='minkowski',\n",
              "                                                   metric_params=None,\n",
              "                                                   n_jobs=None, n_neighbors=15,\n",
              "                                                   p=2, weights='uniform'))],\n",
              "                 flatten_transform=True, n_jobs=None, voting='soft',\n",
              "                 weights=None)"
            ]
          },
          "metadata": {
            "tags": []
          },
          "execution_count": 69
        }
      ]
    },
    {
      "cell_type": "code",
      "metadata": {
        "id": "rudWtqU5Tuy8"
      },
      "source": [
        "y_train_pred_voting_clf=cross_val_predict(voting_clf, x_train_scaled, y_train, cv=5)"
      ],
      "execution_count": null,
      "outputs": []
    },
    {
      "cell_type": "code",
      "metadata": {
        "id": "S39xcNeaT1Uh",
        "colab": {
          "base_uri": "https://localhost:8080/"
        },
        "outputId": "fa23a210-fb84-4991-ea45-5c421175987b"
      },
      "source": [
        "confusion_matrix_voting_clf = confusion_matrix(y_train, y_train_pred_voting_clf)\n",
        "confusion_matrix_voting_clf"
      ],
      "execution_count": null,
      "outputs": [
        {
          "output_type": "execute_result",
          "data": {
            "text/plain": [
              "array([[3379,  478],\n",
              "       [ 125, 3795]])"
            ]
          },
          "metadata": {
            "tags": []
          },
          "execution_count": 71
        }
      ]
    },
    {
      "cell_type": "code",
      "metadata": {
        "id": "qKHO_IZlT6X_",
        "colab": {
          "base_uri": "https://localhost:8080/"
        },
        "outputId": "245f3819-ce78-490c-c99f-9cf2fa6f89e4"
      },
      "source": [
        "print(accuracy_score(y_train, y_train_pred_voting_clf))\n",
        "print(precision_score(y_train, y_train_pred_voting_clf))\n",
        "print(recall_score(y_train, y_train_pred_voting_clf))\n",
        "print(f1_score(y_train, y_train_pred_voting_clf))\n",
        "print(x_train.shape)"
      ],
      "execution_count": null,
      "outputs": [
        {
          "output_type": "stream",
          "text": [
            "0.9224636749389225\n",
            "0.888134799906389\n",
            "0.9681122448979592\n",
            "0.9264005858659832\n",
            "(7777, 10)\n"
          ],
          "name": "stdout"
        }
      ]
    },
    {
      "cell_type": "code",
      "metadata": {
        "id": "Oo-YaPZNu_HR"
      },
      "source": [
        "#Neural Networks"
      ],
      "execution_count": null,
      "outputs": []
    },
    {
      "cell_type": "code",
      "metadata": {
        "id": "4cjXX90pT87h"
      },
      "source": [
        "from tensorflow.keras.models import Sequential\n",
        "import tensorflow as tf\n",
        "from tensorflow.keras.layers import Dense,Dropout\n",
        "from tensorflow.keras.callbacks import EarlyStopping\n",
        "seed_value=42\n",
        "import tensorflow as tf\n",
        "tf.random.set_seed(seed_value)\n",
        "import numpy as np\n",
        "np.random.seed(seed_value)\n",
        "import random\n",
        "random.seed(seed_value)"
      ],
      "execution_count": null,
      "outputs": []
    },
    {
      "cell_type": "code",
      "metadata": {
        "id": "KqZsHJ2xUZXC",
        "colab": {
          "base_uri": "https://localhost:8080/"
        },
        "outputId": "23e5264c-4e62-41da-acb5-f8bbd4c1c045"
      },
      "source": [
        "model = Sequential()\n",
        "#model.add(tf.keras.layers.Flatten()) \n",
        "model.add(Dense(16,activation='relu', input_shape = (5696, 10)))\n",
        "model.add(Dense(16,activation='relu'))\n",
        "model.add(Dense(16,activation='relu'))\n",
        "model.add(Dense(8,activation='relu'))\n",
        "model.add(Dense(8,activation='relu'))\n",
        "model.add(Dense(8,activation='relu'))\n",
        "model.add(Dense(4,activation='relu'))\n",
        "model.add(Dense(2,activation='relu'))\n",
        "\n",
        "model.add(Dense(1,activation='sigmoid'))\n",
        "\n",
        "model.compile(optimizer='adam',\n",
        "             loss='binary_crossentropy')\n",
        "\n",
        "\n",
        "history = model.fit(x_train_scaled, y_train, epochs=200, validation_split=0.2, shuffle=True)"
      ],
      "execution_count": null,
      "outputs": [
        {
          "output_type": "stream",
          "text": [
            "Epoch 1/200\n",
            "WARNING:tensorflow:Model was constructed with shape (None, 5696, 10) for input KerasTensor(type_spec=TensorSpec(shape=(None, 5696, 10), dtype=tf.float32, name='dense_input'), name='dense_input', description=\"created by layer 'dense_input'\"), but it was called on an input with incompatible shape (None, 10).\n",
            "WARNING:tensorflow:Model was constructed with shape (None, 5696, 10) for input KerasTensor(type_spec=TensorSpec(shape=(None, 5696, 10), dtype=tf.float32, name='dense_input'), name='dense_input', description=\"created by layer 'dense_input'\"), but it was called on an input with incompatible shape (None, 10).\n",
            "190/195 [============================>.] - ETA: 0s - loss: 0.5682WARNING:tensorflow:Model was constructed with shape (None, 5696, 10) for input KerasTensor(type_spec=TensorSpec(shape=(None, 5696, 10), dtype=tf.float32, name='dense_input'), name='dense_input', description=\"created by layer 'dense_input'\"), but it was called on an input with incompatible shape (None, 10).\n",
            "195/195 [==============================] - 2s 3ms/step - loss: 0.5659 - val_loss: 0.4797\n",
            "Epoch 2/200\n",
            "195/195 [==============================] - 0s 2ms/step - loss: 0.4643 - val_loss: 0.4481\n",
            "Epoch 3/200\n",
            "195/195 [==============================] - 0s 2ms/step - loss: 0.4328 - val_loss: 0.4371\n",
            "Epoch 4/200\n",
            "195/195 [==============================] - 0s 2ms/step - loss: 0.4075 - val_loss: 0.4023\n",
            "Epoch 5/200\n",
            "195/195 [==============================] - 0s 2ms/step - loss: 0.3870 - val_loss: 0.3926\n",
            "Epoch 6/200\n",
            "195/195 [==============================] - 0s 2ms/step - loss: 0.3700 - val_loss: 0.3705\n",
            "Epoch 7/200\n",
            "195/195 [==============================] - 0s 2ms/step - loss: 0.3562 - val_loss: 0.3638\n",
            "Epoch 8/200\n",
            "195/195 [==============================] - 0s 2ms/step - loss: 0.3416 - val_loss: 0.3545\n",
            "Epoch 9/200\n",
            "195/195 [==============================] - 0s 2ms/step - loss: 0.3332 - val_loss: 0.3596\n",
            "Epoch 10/200\n",
            "195/195 [==============================] - 0s 2ms/step - loss: 0.3249 - val_loss: 0.3451\n",
            "Epoch 11/200\n",
            "195/195 [==============================] - 0s 2ms/step - loss: 0.3134 - val_loss: 0.3429\n",
            "Epoch 12/200\n",
            "195/195 [==============================] - 0s 2ms/step - loss: 0.3059 - val_loss: 0.3598\n",
            "Epoch 13/200\n",
            "195/195 [==============================] - 0s 2ms/step - loss: 0.2967 - val_loss: 0.3164\n",
            "Epoch 14/200\n",
            "195/195 [==============================] - 0s 2ms/step - loss: 0.2871 - val_loss: 0.3323\n",
            "Epoch 15/200\n",
            "195/195 [==============================] - 0s 2ms/step - loss: 0.2820 - val_loss: 0.3058\n",
            "Epoch 16/200\n",
            "195/195 [==============================] - 0s 2ms/step - loss: 0.2757 - val_loss: 0.3199\n",
            "Epoch 17/200\n",
            "195/195 [==============================] - 0s 2ms/step - loss: 0.2697 - val_loss: 0.3248\n",
            "Epoch 18/200\n",
            "195/195 [==============================] - 0s 2ms/step - loss: 0.2632 - val_loss: 0.2979\n",
            "Epoch 19/200\n",
            "195/195 [==============================] - 0s 2ms/step - loss: 0.2565 - val_loss: 0.2976\n",
            "Epoch 20/200\n",
            "195/195 [==============================] - 0s 2ms/step - loss: 0.2455 - val_loss: 0.3034\n",
            "Epoch 21/200\n",
            "195/195 [==============================] - 0s 2ms/step - loss: 0.2435 - val_loss: 0.2845\n",
            "Epoch 22/200\n",
            "195/195 [==============================] - 0s 2ms/step - loss: 0.2383 - val_loss: 0.3095\n",
            "Epoch 23/200\n",
            "195/195 [==============================] - 0s 2ms/step - loss: 0.2354 - val_loss: 0.2929\n",
            "Epoch 24/200\n",
            "195/195 [==============================] - 0s 2ms/step - loss: 0.2351 - val_loss: 0.2821\n",
            "Epoch 25/200\n",
            "195/195 [==============================] - 0s 2ms/step - loss: 0.2292 - val_loss: 0.2796\n",
            "Epoch 26/200\n",
            "195/195 [==============================] - 0s 2ms/step - loss: 0.2227 - val_loss: 0.2763\n",
            "Epoch 27/200\n",
            "195/195 [==============================] - 0s 2ms/step - loss: 0.2204 - val_loss: 0.2742\n",
            "Epoch 28/200\n",
            "195/195 [==============================] - 0s 2ms/step - loss: 0.2219 - val_loss: 0.3384\n",
            "Epoch 29/200\n",
            "195/195 [==============================] - 0s 2ms/step - loss: 0.2168 - val_loss: 0.2857\n",
            "Epoch 30/200\n",
            "195/195 [==============================] - 0s 2ms/step - loss: 0.2149 - val_loss: 0.2701\n",
            "Epoch 31/200\n",
            "195/195 [==============================] - 0s 2ms/step - loss: 0.2143 - val_loss: 0.2858\n",
            "Epoch 32/200\n",
            "195/195 [==============================] - 0s 2ms/step - loss: 0.2126 - val_loss: 0.2665\n",
            "Epoch 33/200\n",
            "195/195 [==============================] - 0s 2ms/step - loss: 0.2087 - val_loss: 0.2577\n",
            "Epoch 34/200\n",
            "195/195 [==============================] - 0s 2ms/step - loss: 0.2031 - val_loss: 0.3215\n",
            "Epoch 35/200\n",
            "195/195 [==============================] - 0s 2ms/step - loss: 0.2003 - val_loss: 0.2577\n",
            "Epoch 36/200\n",
            "195/195 [==============================] - 0s 2ms/step - loss: 0.1974 - val_loss: 0.2671\n",
            "Epoch 37/200\n",
            "195/195 [==============================] - 0s 2ms/step - loss: 0.1961 - val_loss: 0.2504\n",
            "Epoch 38/200\n",
            "195/195 [==============================] - 0s 2ms/step - loss: 0.2014 - val_loss: 0.2566\n",
            "Epoch 39/200\n",
            "195/195 [==============================] - 0s 2ms/step - loss: 0.1986 - val_loss: 0.2522\n",
            "Epoch 40/200\n",
            "195/195 [==============================] - 0s 2ms/step - loss: 0.1929 - val_loss: 0.2803\n",
            "Epoch 41/200\n",
            "195/195 [==============================] - 0s 2ms/step - loss: 0.1965 - val_loss: 0.2725\n",
            "Epoch 42/200\n",
            "195/195 [==============================] - 0s 2ms/step - loss: 0.1891 - val_loss: 0.2589\n",
            "Epoch 43/200\n",
            "195/195 [==============================] - 0s 2ms/step - loss: 0.1873 - val_loss: 0.2493\n",
            "Epoch 44/200\n",
            "195/195 [==============================] - 0s 2ms/step - loss: 0.1858 - val_loss: 0.2708\n",
            "Epoch 45/200\n",
            "195/195 [==============================] - 0s 2ms/step - loss: 0.1859 - val_loss: 0.2524\n",
            "Epoch 46/200\n",
            "195/195 [==============================] - 0s 2ms/step - loss: 0.1828 - val_loss: 0.2586\n",
            "Epoch 47/200\n",
            "195/195 [==============================] - 0s 2ms/step - loss: 0.1827 - val_loss: 0.2575\n",
            "Epoch 48/200\n",
            "195/195 [==============================] - 0s 2ms/step - loss: 0.1829 - val_loss: 0.2485\n",
            "Epoch 49/200\n",
            "195/195 [==============================] - 0s 2ms/step - loss: 0.1772 - val_loss: 0.2493\n",
            "Epoch 50/200\n",
            "195/195 [==============================] - 0s 2ms/step - loss: 0.1788 - val_loss: 0.2427\n",
            "Epoch 51/200\n",
            "195/195 [==============================] - 0s 2ms/step - loss: 0.1762 - val_loss: 0.2447\n",
            "Epoch 52/200\n",
            "195/195 [==============================] - 0s 2ms/step - loss: 0.1743 - val_loss: 0.2379\n",
            "Epoch 53/200\n",
            "195/195 [==============================] - 0s 2ms/step - loss: 0.1708 - val_loss: 0.2492\n",
            "Epoch 54/200\n",
            "195/195 [==============================] - 0s 2ms/step - loss: 0.1686 - val_loss: 0.2432\n",
            "Epoch 55/200\n",
            "195/195 [==============================] - 0s 2ms/step - loss: 0.1698 - val_loss: 0.2756\n",
            "Epoch 56/200\n",
            "195/195 [==============================] - 0s 2ms/step - loss: 0.1693 - val_loss: 0.2338\n",
            "Epoch 57/200\n",
            "195/195 [==============================] - 0s 2ms/step - loss: 0.1669 - val_loss: 0.2633\n",
            "Epoch 58/200\n",
            "195/195 [==============================] - 0s 2ms/step - loss: 0.1612 - val_loss: 0.2401\n",
            "Epoch 59/200\n",
            "195/195 [==============================] - 0s 2ms/step - loss: 0.1687 - val_loss: 0.2457\n",
            "Epoch 60/200\n",
            "195/195 [==============================] - 0s 2ms/step - loss: 0.1612 - val_loss: 0.2417\n",
            "Epoch 61/200\n",
            "195/195 [==============================] - 0s 2ms/step - loss: 0.1669 - val_loss: 0.2449\n",
            "Epoch 62/200\n",
            "195/195 [==============================] - 0s 2ms/step - loss: 0.1732 - val_loss: 0.2542\n",
            "Epoch 63/200\n",
            "195/195 [==============================] - 0s 2ms/step - loss: 0.1620 - val_loss: 0.2334\n",
            "Epoch 64/200\n",
            "195/195 [==============================] - 0s 2ms/step - loss: 0.1658 - val_loss: 0.2590\n",
            "Epoch 65/200\n",
            "195/195 [==============================] - 0s 2ms/step - loss: 0.1642 - val_loss: 0.2339\n",
            "Epoch 66/200\n",
            "195/195 [==============================] - 0s 2ms/step - loss: 0.1553 - val_loss: 0.2676\n",
            "Epoch 67/200\n",
            "195/195 [==============================] - 0s 2ms/step - loss: 0.1691 - val_loss: 0.2283\n",
            "Epoch 68/200\n",
            "195/195 [==============================] - 0s 2ms/step - loss: 0.1550 - val_loss: 0.2574\n",
            "Epoch 69/200\n",
            "195/195 [==============================] - 0s 2ms/step - loss: 0.1559 - val_loss: 0.2500\n",
            "Epoch 70/200\n",
            "195/195 [==============================] - 0s 2ms/step - loss: 0.1571 - val_loss: 0.2335\n",
            "Epoch 71/200\n",
            "195/195 [==============================] - 0s 2ms/step - loss: 0.1581 - val_loss: 0.2333\n",
            "Epoch 72/200\n",
            "195/195 [==============================] - 0s 2ms/step - loss: 0.1568 - val_loss: 0.2344\n",
            "Epoch 73/200\n",
            "195/195 [==============================] - 0s 2ms/step - loss: 0.1548 - val_loss: 0.2950\n",
            "Epoch 74/200\n",
            "195/195 [==============================] - 0s 2ms/step - loss: 0.1546 - val_loss: 0.2387\n",
            "Epoch 75/200\n",
            "195/195 [==============================] - 0s 2ms/step - loss: 0.1559 - val_loss: 0.2414\n",
            "Epoch 76/200\n",
            "195/195 [==============================] - 0s 2ms/step - loss: 0.1516 - val_loss: 0.2394\n",
            "Epoch 77/200\n",
            "195/195 [==============================] - 0s 2ms/step - loss: 0.1576 - val_loss: 0.2832\n",
            "Epoch 78/200\n",
            "195/195 [==============================] - 0s 2ms/step - loss: 0.1589 - val_loss: 0.2753\n",
            "Epoch 79/200\n",
            "195/195 [==============================] - 0s 2ms/step - loss: 0.1496 - val_loss: 0.2358\n",
            "Epoch 80/200\n",
            "195/195 [==============================] - 0s 2ms/step - loss: 0.1515 - val_loss: 0.2501\n",
            "Epoch 81/200\n",
            "195/195 [==============================] - 0s 2ms/step - loss: 0.1501 - val_loss: 0.2581\n",
            "Epoch 82/200\n",
            "195/195 [==============================] - 0s 2ms/step - loss: 0.1493 - val_loss: 0.2801\n",
            "Epoch 83/200\n",
            "195/195 [==============================] - 0s 2ms/step - loss: 0.1479 - val_loss: 0.2588\n",
            "Epoch 84/200\n",
            "195/195 [==============================] - 0s 2ms/step - loss: 0.1496 - val_loss: 0.2640\n",
            "Epoch 85/200\n",
            "195/195 [==============================] - 0s 2ms/step - loss: 0.1464 - val_loss: 0.2380\n",
            "Epoch 86/200\n",
            "195/195 [==============================] - 0s 2ms/step - loss: 0.1546 - val_loss: 0.2722\n",
            "Epoch 87/200\n",
            "195/195 [==============================] - 0s 2ms/step - loss: 0.1534 - val_loss: 0.2339\n",
            "Epoch 88/200\n",
            "195/195 [==============================] - 0s 2ms/step - loss: 0.1484 - val_loss: 0.2798\n",
            "Epoch 89/200\n",
            "195/195 [==============================] - 0s 2ms/step - loss: 0.1462 - val_loss: 0.2449\n",
            "Epoch 90/200\n",
            "195/195 [==============================] - 0s 2ms/step - loss: 0.1524 - val_loss: 0.2453\n",
            "Epoch 91/200\n",
            "195/195 [==============================] - 0s 2ms/step - loss: 0.1392 - val_loss: 0.2484\n",
            "Epoch 92/200\n",
            "195/195 [==============================] - 0s 2ms/step - loss: 0.1490 - val_loss: 0.2490\n",
            "Epoch 93/200\n",
            "195/195 [==============================] - 0s 2ms/step - loss: 0.1501 - val_loss: 0.2549\n",
            "Epoch 94/200\n",
            "195/195 [==============================] - 0s 2ms/step - loss: 0.1418 - val_loss: 0.2630\n",
            "Epoch 95/200\n",
            "195/195 [==============================] - 0s 2ms/step - loss: 0.1460 - val_loss: 0.2512\n",
            "Epoch 96/200\n",
            "195/195 [==============================] - 0s 2ms/step - loss: 0.1431 - val_loss: 0.2793\n",
            "Epoch 97/200\n",
            "195/195 [==============================] - 0s 2ms/step - loss: 0.1416 - val_loss: 0.2678\n",
            "Epoch 98/200\n",
            "195/195 [==============================] - 0s 2ms/step - loss: 0.1371 - val_loss: 0.2765\n",
            "Epoch 99/200\n",
            "195/195 [==============================] - 0s 2ms/step - loss: 0.1421 - val_loss: 0.2516\n",
            "Epoch 100/200\n",
            "195/195 [==============================] - 0s 2ms/step - loss: 0.1408 - val_loss: 0.2471\n",
            "Epoch 101/200\n",
            "195/195 [==============================] - 0s 2ms/step - loss: 0.1408 - val_loss: 0.2783\n",
            "Epoch 102/200\n",
            "195/195 [==============================] - 0s 2ms/step - loss: 0.1399 - val_loss: 0.2506\n",
            "Epoch 103/200\n",
            "195/195 [==============================] - 0s 2ms/step - loss: 0.1372 - val_loss: 0.2513\n",
            "Epoch 104/200\n",
            "195/195 [==============================] - 0s 2ms/step - loss: 0.1440 - val_loss: 0.2505\n",
            "Epoch 105/200\n",
            "195/195 [==============================] - 0s 2ms/step - loss: 0.1354 - val_loss: 0.2487\n",
            "Epoch 106/200\n",
            "195/195 [==============================] - 0s 2ms/step - loss: 0.1323 - val_loss: 0.2567\n",
            "Epoch 107/200\n",
            "195/195 [==============================] - 0s 2ms/step - loss: 0.1395 - val_loss: 0.2514\n",
            "Epoch 108/200\n",
            "195/195 [==============================] - 0s 2ms/step - loss: 0.1392 - val_loss: 0.2594\n",
            "Epoch 109/200\n",
            "195/195 [==============================] - 0s 2ms/step - loss: 0.1347 - val_loss: 0.2453\n",
            "Epoch 110/200\n",
            "195/195 [==============================] - 0s 2ms/step - loss: 0.1335 - val_loss: 0.2430\n",
            "Epoch 111/200\n",
            "195/195 [==============================] - 0s 2ms/step - loss: 0.1295 - val_loss: 0.2411\n",
            "Epoch 112/200\n",
            "195/195 [==============================] - 0s 2ms/step - loss: 0.1336 - val_loss: 0.2569\n",
            "Epoch 113/200\n",
            "195/195 [==============================] - 0s 2ms/step - loss: 0.1265 - val_loss: 0.2530\n",
            "Epoch 114/200\n",
            "195/195 [==============================] - 0s 2ms/step - loss: 0.1348 - val_loss: 0.2557\n",
            "Epoch 115/200\n",
            "195/195 [==============================] - 0s 2ms/step - loss: 0.1322 - val_loss: 0.2448\n",
            "Epoch 116/200\n",
            "195/195 [==============================] - 0s 2ms/step - loss: 0.1365 - val_loss: 0.2863\n",
            "Epoch 117/200\n",
            "195/195 [==============================] - 0s 2ms/step - loss: 0.1415 - val_loss: 0.2761\n",
            "Epoch 118/200\n",
            "195/195 [==============================] - 0s 2ms/step - loss: 0.1305 - val_loss: 0.2620\n",
            "Epoch 119/200\n",
            "195/195 [==============================] - 0s 2ms/step - loss: 0.1347 - val_loss: 0.2571\n",
            "Epoch 120/200\n",
            "195/195 [==============================] - 0s 2ms/step - loss: 0.1273 - val_loss: 0.2815\n",
            "Epoch 121/200\n",
            "195/195 [==============================] - 0s 2ms/step - loss: 0.1289 - val_loss: 0.2540\n",
            "Epoch 122/200\n",
            "195/195 [==============================] - 0s 2ms/step - loss: 0.1322 - val_loss: 0.2665\n",
            "Epoch 123/200\n",
            "195/195 [==============================] - 0s 2ms/step - loss: 0.1270 - val_loss: 0.2640\n",
            "Epoch 124/200\n",
            "195/195 [==============================] - 0s 2ms/step - loss: 0.1195 - val_loss: 0.2545\n",
            "Epoch 125/200\n",
            "195/195 [==============================] - 0s 2ms/step - loss: 0.1404 - val_loss: 0.2516\n",
            "Epoch 126/200\n",
            "195/195 [==============================] - 0s 2ms/step - loss: 0.1240 - val_loss: 0.2755\n",
            "Epoch 127/200\n",
            "195/195 [==============================] - 0s 2ms/step - loss: 0.1239 - val_loss: 0.2704\n",
            "Epoch 128/200\n",
            "195/195 [==============================] - 0s 2ms/step - loss: 0.1249 - val_loss: 0.2618\n",
            "Epoch 129/200\n",
            "195/195 [==============================] - 0s 2ms/step - loss: 0.1198 - val_loss: 0.2730\n",
            "Epoch 130/200\n",
            "195/195 [==============================] - 0s 2ms/step - loss: 0.1298 - val_loss: 0.2730\n",
            "Epoch 131/200\n",
            "195/195 [==============================] - 0s 2ms/step - loss: 0.1262 - val_loss: 0.2732\n",
            "Epoch 132/200\n",
            "195/195 [==============================] - 0s 2ms/step - loss: 0.1297 - val_loss: 0.2561\n",
            "Epoch 133/200\n",
            "195/195 [==============================] - 0s 2ms/step - loss: 0.1293 - val_loss: 0.2398\n",
            "Epoch 134/200\n",
            "195/195 [==============================] - 0s 2ms/step - loss: 0.1162 - val_loss: 0.2602\n",
            "Epoch 135/200\n",
            "195/195 [==============================] - 0s 2ms/step - loss: 0.1219 - val_loss: 0.2586\n",
            "Epoch 136/200\n",
            "195/195 [==============================] - 0s 2ms/step - loss: 0.1286 - val_loss: 0.2713\n",
            "Epoch 137/200\n",
            "195/195 [==============================] - 0s 2ms/step - loss: 0.1254 - val_loss: 0.2843\n",
            "Epoch 138/200\n",
            "195/195 [==============================] - 0s 2ms/step - loss: 0.1258 - val_loss: 0.2608\n",
            "Epoch 139/200\n",
            "195/195 [==============================] - 0s 2ms/step - loss: 0.1172 - val_loss: 0.2784\n",
            "Epoch 140/200\n",
            "195/195 [==============================] - 0s 2ms/step - loss: 0.1230 - val_loss: 0.2714\n",
            "Epoch 141/200\n",
            "195/195 [==============================] - 0s 2ms/step - loss: 0.1217 - val_loss: 0.2911\n",
            "Epoch 142/200\n",
            "195/195 [==============================] - 0s 2ms/step - loss: 0.1205 - val_loss: 0.2909\n",
            "Epoch 143/200\n",
            "195/195 [==============================] - 0s 2ms/step - loss: 0.1205 - val_loss: 0.2660\n",
            "Epoch 144/200\n",
            "195/195 [==============================] - 0s 2ms/step - loss: 0.1141 - val_loss: 0.2668\n",
            "Epoch 145/200\n",
            "195/195 [==============================] - 0s 2ms/step - loss: 0.1179 - val_loss: 0.2667\n",
            "Epoch 146/200\n",
            "195/195 [==============================] - 0s 2ms/step - loss: 0.1122 - val_loss: 0.2822\n",
            "Epoch 147/200\n",
            "195/195 [==============================] - 0s 2ms/step - loss: 0.1148 - val_loss: 0.3016\n",
            "Epoch 148/200\n",
            "195/195 [==============================] - 0s 2ms/step - loss: 0.1178 - val_loss: 0.2615\n",
            "Epoch 149/200\n",
            "195/195 [==============================] - 0s 2ms/step - loss: 0.1113 - val_loss: 0.2807\n",
            "Epoch 150/200\n",
            "195/195 [==============================] - 0s 2ms/step - loss: 0.1234 - val_loss: 0.2571\n",
            "Epoch 151/200\n",
            "195/195 [==============================] - 0s 2ms/step - loss: 0.1243 - val_loss: 0.2931\n",
            "Epoch 152/200\n",
            "195/195 [==============================] - 0s 2ms/step - loss: 0.1172 - val_loss: 0.2801\n",
            "Epoch 153/200\n",
            "195/195 [==============================] - 0s 2ms/step - loss: 0.1204 - val_loss: 0.2914\n",
            "Epoch 154/200\n",
            "195/195 [==============================] - 0s 2ms/step - loss: 0.1221 - val_loss: 0.2759\n",
            "Epoch 155/200\n",
            "195/195 [==============================] - 0s 2ms/step - loss: 0.1212 - val_loss: 0.2692\n",
            "Epoch 156/200\n",
            "195/195 [==============================] - 0s 2ms/step - loss: 0.1090 - val_loss: 0.2544\n",
            "Epoch 157/200\n",
            "195/195 [==============================] - 0s 2ms/step - loss: 0.1289 - val_loss: 0.2555\n",
            "Epoch 158/200\n",
            "195/195 [==============================] - 0s 2ms/step - loss: 0.1136 - val_loss: 0.2577\n",
            "Epoch 159/200\n",
            "195/195 [==============================] - 0s 2ms/step - loss: 0.1094 - val_loss: 0.2770\n",
            "Epoch 160/200\n",
            "195/195 [==============================] - 0s 2ms/step - loss: 0.1147 - val_loss: 0.2616\n",
            "Epoch 161/200\n",
            "195/195 [==============================] - 0s 2ms/step - loss: 0.1131 - val_loss: 0.3030\n",
            "Epoch 162/200\n",
            "195/195 [==============================] - 0s 2ms/step - loss: 0.1113 - val_loss: 0.2825\n",
            "Epoch 163/200\n",
            "195/195 [==============================] - 0s 2ms/step - loss: 0.1148 - val_loss: 0.2918\n",
            "Epoch 164/200\n",
            "195/195 [==============================] - 0s 2ms/step - loss: 0.1094 - val_loss: 0.2579\n",
            "Epoch 165/200\n",
            "195/195 [==============================] - 0s 2ms/step - loss: 0.1082 - val_loss: 0.2830\n",
            "Epoch 166/200\n",
            "195/195 [==============================] - 0s 2ms/step - loss: 0.1247 - val_loss: 0.2501\n",
            "Epoch 167/200\n",
            "195/195 [==============================] - 0s 2ms/step - loss: 0.1040 - val_loss: 0.2899\n",
            "Epoch 168/200\n",
            "195/195 [==============================] - 0s 2ms/step - loss: 0.1189 - val_loss: 0.2608\n",
            "Epoch 169/200\n",
            "195/195 [==============================] - 0s 2ms/step - loss: 0.1084 - val_loss: 0.2744\n",
            "Epoch 170/200\n",
            "195/195 [==============================] - 0s 2ms/step - loss: 0.1162 - val_loss: 0.2552\n",
            "Epoch 171/200\n",
            "195/195 [==============================] - 0s 2ms/step - loss: 0.1098 - val_loss: 0.2776\n",
            "Epoch 172/200\n",
            "195/195 [==============================] - 0s 2ms/step - loss: 0.1106 - val_loss: 0.2821\n",
            "Epoch 173/200\n",
            "195/195 [==============================] - 0s 2ms/step - loss: 0.1081 - val_loss: 0.2828\n",
            "Epoch 174/200\n",
            "195/195 [==============================] - 0s 2ms/step - loss: 0.1072 - val_loss: 0.2910\n",
            "Epoch 175/200\n",
            "195/195 [==============================] - 0s 2ms/step - loss: 0.1029 - val_loss: 0.2868\n",
            "Epoch 176/200\n",
            "195/195 [==============================] - 0s 2ms/step - loss: 0.1152 - val_loss: 0.2545\n",
            "Epoch 177/200\n",
            "195/195 [==============================] - 0s 2ms/step - loss: 0.1005 - val_loss: 0.2878\n",
            "Epoch 178/200\n",
            "195/195 [==============================] - 0s 2ms/step - loss: 0.1075 - val_loss: 0.2809\n",
            "Epoch 179/200\n",
            "195/195 [==============================] - 0s 2ms/step - loss: 0.1010 - val_loss: 0.2860\n",
            "Epoch 180/200\n",
            "195/195 [==============================] - 0s 2ms/step - loss: 0.1076 - val_loss: 0.3057\n",
            "Epoch 181/200\n",
            "195/195 [==============================] - 0s 2ms/step - loss: 0.1202 - val_loss: 0.3057\n",
            "Epoch 182/200\n",
            "195/195 [==============================] - 0s 2ms/step - loss: 0.1040 - val_loss: 0.2657\n",
            "Epoch 183/200\n",
            "195/195 [==============================] - 0s 2ms/step - loss: 0.1061 - val_loss: 0.2900\n",
            "Epoch 184/200\n",
            "195/195 [==============================] - 0s 2ms/step - loss: 0.1040 - val_loss: 0.2908\n",
            "Epoch 185/200\n",
            "195/195 [==============================] - 0s 2ms/step - loss: 0.1081 - val_loss: 0.3445\n",
            "Epoch 186/200\n",
            "195/195 [==============================] - 0s 2ms/step - loss: 0.1090 - val_loss: 0.2951\n",
            "Epoch 187/200\n",
            "195/195 [==============================] - 0s 2ms/step - loss: 0.1176 - val_loss: 0.2908\n",
            "Epoch 188/200\n",
            "195/195 [==============================] - 0s 2ms/step - loss: 0.1019 - val_loss: 0.2964\n",
            "Epoch 189/200\n",
            "195/195 [==============================] - 0s 2ms/step - loss: 0.1005 - val_loss: 0.2895\n",
            "Epoch 190/200\n",
            "195/195 [==============================] - 0s 2ms/step - loss: 0.1015 - val_loss: 0.2769\n",
            "Epoch 191/200\n",
            "195/195 [==============================] - 0s 2ms/step - loss: 0.1010 - val_loss: 0.2808\n",
            "Epoch 192/200\n",
            "195/195 [==============================] - 0s 2ms/step - loss: 0.1040 - val_loss: 0.2898\n",
            "Epoch 193/200\n",
            "195/195 [==============================] - 0s 2ms/step - loss: 0.1034 - val_loss: 0.2783\n",
            "Epoch 194/200\n",
            "195/195 [==============================] - 0s 2ms/step - loss: 0.1143 - val_loss: 0.3179\n",
            "Epoch 195/200\n",
            "195/195 [==============================] - 0s 2ms/step - loss: 0.1172 - val_loss: 0.2902\n",
            "Epoch 196/200\n",
            "195/195 [==============================] - 0s 2ms/step - loss: 0.1023 - val_loss: 0.2738\n",
            "Epoch 197/200\n",
            "195/195 [==============================] - 0s 2ms/step - loss: 0.1056 - val_loss: 0.3042\n",
            "Epoch 198/200\n",
            "195/195 [==============================] - 0s 2ms/step - loss: 0.1015 - val_loss: 0.2795\n",
            "Epoch 199/200\n",
            "195/195 [==============================] - 0s 2ms/step - loss: 0.1039 - val_loss: 0.2769\n",
            "Epoch 200/200\n",
            "195/195 [==============================] - 0s 2ms/step - loss: 0.1059 - val_loss: 0.2589\n"
          ],
          "name": "stdout"
        }
      ]
    },
    {
      "cell_type": "code",
      "metadata": {
        "id": "TcSSwL3yVFe8",
        "colab": {
          "base_uri": "https://localhost:8080/"
        },
        "outputId": "204fdf5a-67bc-4d5a-b3ff-12ec54e59b5d"
      },
      "source": [
        "#9 layers dense\n",
        "prediction = model.predict_classes(x_train_scaled)\n",
        "confusion_matrix_ann = confusion_matrix(y_train, prediction)\n",
        "confusion_matrix_ann"
      ],
      "execution_count": null,
      "outputs": [
        {
          "output_type": "stream",
          "text": [
            "WARNING:tensorflow:Model was constructed with shape (None, 5696, 10) for input KerasTensor(type_spec=TensorSpec(shape=(None, 5696, 10), dtype=tf.float32, name='dense_input'), name='dense_input', description=\"created by layer 'dense_input'\"), but it was called on an input with incompatible shape (None, 10).\n"
          ],
          "name": "stdout"
        },
        {
          "output_type": "stream",
          "text": [
            "/usr/local/lib/python3.7/dist-packages/tensorflow/python/keras/engine/sequential.py:455: UserWarning:\n",
            "\n",
            "`model.predict_classes()` is deprecated and will be removed after 2021-01-01. Please use instead:* `np.argmax(model.predict(x), axis=-1)`,   if your model does multi-class classification   (e.g. if it uses a `softmax` last-layer activation).* `(model.predict(x) > 0.5).astype(\"int32\")`,   if your model does binary classification   (e.g. if it uses a `sigmoid` last-layer activation).\n",
            "\n"
          ],
          "name": "stderr"
        },
        {
          "output_type": "execute_result",
          "data": {
            "text/plain": [
              "array([[3611,  246],\n",
              "       [  91, 3829]])"
            ]
          },
          "metadata": {
            "tags": []
          },
          "execution_count": 76
        }
      ]
    },
    {
      "cell_type": "code",
      "metadata": {
        "id": "iubAtHf_ZppL",
        "colab": {
          "base_uri": "https://localhost:8080/"
        },
        "outputId": "7c3cbf12-fddb-4c58-9a3c-6836b0dd43e9"
      },
      "source": [
        "print(accuracy_score(y_train, prediction))\n",
        "print(precision_score(y_train, prediction))\n",
        "print(recall_score(y_train, prediction))\n",
        "print(f1_score(y_train, prediction))\n",
        "print(history.history)"
      ],
      "execution_count": null,
      "outputs": [
        {
          "output_type": "stream",
          "text": [
            "0.9566670952809566\n",
            "0.9396319018404908\n",
            "0.9767857142857143\n",
            "0.9578486554096309\n",
            "{'loss': [0.5659475922584534, 0.46429643034935, 0.43283239006996155, 0.4075378179550171, 0.38703638315200806, 0.3699623942375183, 0.35616663098335266, 0.34155598282814026, 0.3332338333129883, 0.3249048888683319, 0.3134174644947052, 0.305867999792099, 0.2966865003108978, 0.2871069312095642, 0.2820216417312622, 0.27572745084762573, 0.2697364091873169, 0.2631629407405853, 0.25649768114089966, 0.2454562932252884, 0.24354884028434753, 0.2383357435464859, 0.2354237288236618, 0.2351139634847641, 0.22924406826496124, 0.22267183661460876, 0.220425084233284, 0.22192424535751343, 0.21679642796516418, 0.21487869322299957, 0.21428808569908142, 0.21261252462863922, 0.20869791507720947, 0.20308703184127808, 0.20034104585647583, 0.19739148020744324, 0.19614015519618988, 0.20135290920734406, 0.19857773184776306, 0.19286291301250458, 0.19645477831363678, 0.18910352885723114, 0.18730570375919342, 0.18577583134174347, 0.18588635325431824, 0.1827612668275833, 0.18274228274822235, 0.1828748881816864, 0.1772228181362152, 0.17882642149925232, 0.1761566400527954, 0.1742919534444809, 0.17083357274532318, 0.1685793697834015, 0.16984811425209045, 0.16933836042881012, 0.1668667048215866, 0.1611955612897873, 0.16870711743831635, 0.1612120419740677, 0.16691824793815613, 0.17318449914455414, 0.16200940310955048, 0.16576938331127167, 0.16419239342212677, 0.15528519451618195, 0.16907234489917755, 0.1550035923719406, 0.15592961013317108, 0.15707749128341675, 0.15813888609409332, 0.15678280591964722, 0.15483546257019043, 0.1546141654253006, 0.15588714182376862, 0.15162065625190735, 0.15758641064167023, 0.15885543823242188, 0.1495574712753296, 0.15149042010307312, 0.15013612806797028, 0.149283766746521, 0.14787133038043976, 0.14956746995449066, 0.14644886553287506, 0.15456153452396393, 0.15336546301841736, 0.14843688905239105, 0.14615008234977722, 0.15239489078521729, 0.13924068212509155, 0.1489747166633606, 0.1500997096300125, 0.141759991645813, 0.1460370421409607, 0.1431099772453308, 0.14163488149642944, 0.1370803415775299, 0.1421150416135788, 0.14080952107906342, 0.14080320298671722, 0.1398877054452896, 0.13722579181194305, 0.1439853012561798, 0.1353536993265152, 0.13231588900089264, 0.1394808143377304, 0.13915963470935822, 0.13471683859825134, 0.1334601640701294, 0.12952804565429688, 0.13358977437019348, 0.1265086531639099, 0.1347760409116745, 0.13217435777187347, 0.1364581435918808, 0.14153575897216797, 0.13054074347019196, 0.13466890156269073, 0.12731675803661346, 0.12885576486587524, 0.13217395544052124, 0.12699177861213684, 0.1195412129163742, 0.14042781293392181, 0.12401415407657623, 0.12385930866003036, 0.12486835569143295, 0.1197969987988472, 0.12980207800865173, 0.1262243390083313, 0.12972486019134521, 0.1293226182460785, 0.11624152213335037, 0.1219063475728035, 0.12862437963485718, 0.12539158761501312, 0.1258111149072647, 0.11718002706766129, 0.12304584681987762, 0.12172595411539078, 0.12045110017061234, 0.1205287054181099, 0.11412292718887329, 0.1178915947675705, 0.11218038946390152, 0.11477173119783401, 0.11783916503190994, 0.11133120208978653, 0.12339748442173004, 0.12425930798053741, 0.11716631799936295, 0.12039708346128464, 0.12205597758293152, 0.12116538733243942, 0.10904522985219955, 0.12886716425418854, 0.11356263607740402, 0.10944848507642746, 0.114663265645504, 0.1130620688199997, 0.1113031879067421, 0.11475353688001633, 0.10942451655864716, 0.10822780430316925, 0.12465348839759827, 0.10395555943250656, 0.11890753358602524, 0.1083868145942688, 0.116242915391922, 0.10981038957834244, 0.11062750220298767, 0.1081027090549469, 0.10719643533229828, 0.10292647778987885, 0.11516451835632324, 0.10045120120048523, 0.10749143362045288, 0.10097227245569229, 0.10763106495141983, 0.1201523020863533, 0.10401491075754166, 0.10606612265110016, 0.1040031686425209, 0.1081024780869484, 0.10896328836679459, 0.11758337169885635, 0.10187789052724838, 0.1005222499370575, 0.10147450119256973, 0.10101199895143509, 0.103977732360363, 0.10344905406236649, 0.11431142687797546, 0.1171547994017601, 0.10232433676719666, 0.105615995824337, 0.10149580240249634, 0.10386081039905548, 0.10590571910142899], 'val_loss': [0.4797159433364868, 0.44808629155158997, 0.4370891749858856, 0.40227895975112915, 0.39263296127319336, 0.37050092220306396, 0.36382853984832764, 0.35451722145080566, 0.35960352420806885, 0.3451332449913025, 0.3429102301597595, 0.35983094573020935, 0.31641191244125366, 0.3322506844997406, 0.3058393895626068, 0.31993648409843445, 0.32476672530174255, 0.29788050055503845, 0.29762187600135803, 0.30344924330711365, 0.2844535708427429, 0.30951645970344543, 0.29286035895347595, 0.28214430809020996, 0.27962079644203186, 0.2762857675552368, 0.2741551399230957, 0.3384099304676056, 0.28571295738220215, 0.27014970779418945, 0.2858300805091858, 0.2664857506752014, 0.25769534707069397, 0.3214893043041229, 0.2576866149902344, 0.26707515120506287, 0.25043150782585144, 0.25660908222198486, 0.25222817063331604, 0.2803349792957306, 0.27249178290367126, 0.2589215934276581, 0.2492927610874176, 0.2708083689212799, 0.2524468004703522, 0.2585630416870117, 0.2575445771217346, 0.24847529828548431, 0.24929697811603546, 0.2426677644252777, 0.24467740952968597, 0.23786406219005585, 0.24919015169143677, 0.2431851327419281, 0.275572270154953, 0.23382526636123657, 0.26331767439842224, 0.2401134967803955, 0.24568864703178406, 0.24174989759922028, 0.24494262039661407, 0.25419217348098755, 0.2333705872297287, 0.25901469588279724, 0.23390477895736694, 0.26758721470832825, 0.22826193273067474, 0.25738024711608887, 0.25000157952308655, 0.23351281881332397, 0.23327083885669708, 0.23444315791130066, 0.29500114917755127, 0.23867318034172058, 0.24140183627605438, 0.2394065111875534, 0.2831983268260956, 0.27531519532203674, 0.2358039766550064, 0.2500508427619934, 0.2580810785293579, 0.2801205515861511, 0.2588118016719818, 0.263982892036438, 0.23799028992652893, 0.27220889925956726, 0.2339421510696411, 0.27978819608688354, 0.24490375816822052, 0.24530217051506042, 0.24835868179798126, 0.24901780486106873, 0.2549484968185425, 0.26295796036720276, 0.25117573142051697, 0.2792908251285553, 0.2678321301937103, 0.27652016282081604, 0.2516304850578308, 0.2471441775560379, 0.2783362865447998, 0.25064709782600403, 0.25134146213531494, 0.2504895329475403, 0.24869731068611145, 0.25668537616729736, 0.25138238072395325, 0.2593514919281006, 0.2452920824289322, 0.2429690659046173, 0.241135373711586, 0.256906658411026, 0.2530499994754791, 0.2557271420955658, 0.24475577473640442, 0.28633010387420654, 0.2760893404483795, 0.26195910573005676, 0.2570740580558777, 0.2815474271774292, 0.2540447413921356, 0.2665488123893738, 0.26401031017303467, 0.254461407661438, 0.25156548619270325, 0.27547693252563477, 0.2704431116580963, 0.2617928087711334, 0.2729969024658203, 0.27295011281967163, 0.27317458391189575, 0.2560899555683136, 0.2397674322128296, 0.2602085471153259, 0.2585572898387909, 0.27126818895339966, 0.28425315022468567, 0.26077136397361755, 0.27837902307510376, 0.27143025398254395, 0.29108017683029175, 0.29094767570495605, 0.26604941487312317, 0.26678240299224854, 0.26673659682273865, 0.2822478115558624, 0.30156946182250977, 0.2615334987640381, 0.280696302652359, 0.2570628523826599, 0.2930641770362854, 0.28009897470474243, 0.2914135158061981, 0.27586281299591064, 0.2691958546638489, 0.2543993294239044, 0.25550413131713867, 0.25774115324020386, 0.27699682116508484, 0.26164600253105164, 0.30303436517715454, 0.2825084626674652, 0.2918023467063904, 0.2578545808792114, 0.2829816937446594, 0.25011688470840454, 0.2898590862751007, 0.2607607841491699, 0.27439895272254944, 0.25517570972442627, 0.27757319808006287, 0.28210318088531494, 0.2827569246292114, 0.290986567735672, 0.28682488203048706, 0.25449636578559875, 0.2877877950668335, 0.2809250056743622, 0.2859744727611542, 0.3056996166706085, 0.3057490587234497, 0.265739768743515, 0.2900177538394928, 0.2907702624797821, 0.3445137143135071, 0.2951127588748932, 0.29075178503990173, 0.29640617966651917, 0.28952276706695557, 0.2768770754337311, 0.28083184361457825, 0.2897653579711914, 0.27825769782066345, 0.3179180324077606, 0.29021599888801575, 0.27383315563201904, 0.30424466729164124, 0.2795299291610718, 0.2768845856189728, 0.2589311897754669]}\n"
          ],
          "name": "stdout"
        }
      ]
    },
    {
      "cell_type": "code",
      "metadata": {
        "id": "511DK1nuZswP",
        "colab": {
          "base_uri": "https://localhost:8080/",
          "height": 464
        },
        "outputId": "74724215-ff54-4fbb-efca-59b2779726ea"
      },
      "source": [
        "print(history.history.keys())\n",
        "plt.rcParams['figure.figsize']=(15,5)\n",
        "plt.plot(history.history['loss'])\n",
        "plt.plot(history.history['val_loss'])\n",
        "plt.title('Model loss',fontsize =25)\n",
        "plt.ylabel('Loss')\n",
        "plt.xlabel('Epoch')\n",
        "ax = plt.axes()\n",
        "plt.legend(['Train', 'Validation'], loc='upper right')\n",
        "plt.show()"
      ],
      "execution_count": null,
      "outputs": [
        {
          "output_type": "stream",
          "text": [
            "dict_keys(['loss', 'val_loss'])\n"
          ],
          "name": "stdout"
        },
        {
          "output_type": "stream",
          "text": [
            "/usr/local/lib/python3.7/dist-packages/ipykernel_launcher.py:8: MatplotlibDeprecationWarning:\n",
            "\n",
            "Adding an axes using the same arguments as a previous axes currently reuses the earlier instance.  In a future version, a new instance will always be created and returned.  Meanwhile, this warning can be suppressed, and the future behavior ensured, by passing a unique label to each axes instance.\n",
            "\n"
          ],
          "name": "stderr"
        },
        {
          "output_type": "display_data",
          "data": {
            "image/png": "[encoded data removed]",
            "text/plain": [
              "<Figure size 1080x360 with 1 Axes>"
            ]
          },
          "metadata": {
            "tags": [],
            "needs_background": "light"
          }
        }
      ]
    },
    {
      "cell_type": "code",
      "metadata": {
        "id": "VJ98HyxmNPBJ"
      },
      "source": [
        "#With the given scores, we can easily see that the random forest performes the best, so lets pickle that model."
      ],
      "execution_count": null,
      "outputs": []
    },
    {
      "cell_type": "code",
      "metadata": {
        "id": "T8vCrEEbRtKZ"
      },
      "source": [
        "import pickle \n",
        "pickle.dump(random_forest, open('stroke_clf.pkl', 'wb'))"
      ],
      "execution_count": null,
      "outputs": []
    },
    {
      "cell_type": "code",
      "metadata": {
        "colab": {
          "base_uri": "https://localhost:8080/"
        },
        "id": "cq5RyxA7tK0g",
        "outputId": "37ad0cc9-f883-45ce-b513-513210a07f72"
      },
      "source": [
        "random_forest.predict_proba([[0, 30,  0,  0,  0,\n",
        "        0, 0, 120, 22, 0]])"
      ],
      "execution_count": null,
      "outputs": [
        {
          "output_type": "execute_result",
          "data": {
            "text/plain": [
              "array([[0.032, 0.968]])"
            ]
          },
          "metadata": {
            "tags": []
          },
          "execution_count": 81
        }
      ]
    }
  ]
}